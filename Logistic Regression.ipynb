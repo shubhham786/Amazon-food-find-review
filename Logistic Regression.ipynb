{
 "cells": [
  {
   "cell_type": "markdown",
   "metadata": {
    "colab_type": "text",
    "id": "AM7jsfwALPlp"
   },
   "source": [
    "# Amazon Fine Food Reviews Analysis\n",
    "\n",
    "\n",
    "Data Source: https://www.kaggle.com/snap/amazon-fine-food-reviews <br>\n",
    "\n",
    "EDA: https://nycdatascience.com/blog/student-works/amazon-fine-foods-visualization/\n",
    "\n",
    "\n",
    "The Amazon Fine Food Reviews dataset consists of reviews of fine foods from Amazon.<br>\n",
    "\n",
    "Number of reviews: 568,454<br>\n",
    "Number of users: 256,059<br>\n",
    "Number of products: 74,258<br>\n",
    "Timespan: Oct 1999 - Oct 2012<br>\n",
    "Number of Attributes/Columns in data: 10 \n",
    "\n",
    "Attribute Information:\n",
    "\n",
    "1. Id\n",
    "2. ProductId - unique identifier for the product\n",
    "3. UserId - unqiue identifier for the user\n",
    "4. ProfileName\n",
    "5. HelpfulnessNumerator - number of users who found the review helpful\n",
    "6. HelpfulnessDenominator - number of users who indicated whether they found the review helpful or not\n",
    "7. Score - rating between 1 and 5\n",
    "8. Time - timestamp for the review\n",
    "9. Summary - brief summary of the review\n",
    "10. Text - text of the review\n",
    "\n",
    "\n",
    "#### Objective:\n",
    "Given a review, determine whether the review is positive (rating of 4 or 5) or negative (rating of 1 or 2).\n",
    "\n",
    "<br>\n",
    "[Q] How to determine if a review is positive or negative?<br>\n",
    "<br> \n",
    "[Ans] We could use Score/Rating. A rating of 4 or 5 can be cosnidered as a positive review. A rating of 1 or 2 can be considered as negative one. A review of rating 3 is considered nuetral and such reviews are ignored from our analysis. This is an approximate and proxy way of determining the polarity (positivity/negativity) of a review.\n",
    "\n",
    "\n"
   ]
  },
  {
   "cell_type": "markdown",
   "metadata": {
    "colab_type": "text",
    "id": "CaQ7XJ4OLPls"
   },
   "source": [
    "# [1]. Reading Data"
   ]
  },
  {
   "cell_type": "markdown",
   "metadata": {
    "colab_type": "text",
    "id": "5VnEBjKRLPlu"
   },
   "source": [
    "## [1.1] Loading the data\n",
    "\n",
    "The dataset is available in two forms\n",
    "1. .csv file\n",
    "2. SQLite Database\n",
    "\n",
    "In order to load the data, We have used the SQLITE dataset as it is easier to query the data and visualise the data efficiently.\n",
    "<br> \n",
    "\n",
    "Here as we only want to get the global sentiment of the recommendations (positive or negative), we will purposefully ignore all Scores equal to 3. If the score is above 3, then the recommendation wil be set to \"positive\". Otherwise, it will be set to \"negative\"."
   ]
  },
  {
   "cell_type": "code",
   "execution_count": 51,
   "metadata": {
    "colab": {},
    "colab_type": "code",
    "id": "x6YclOzXLPlv"
   },
   "outputs": [],
   "source": [
    "%matplotlib inline\n",
    "import nbresuse\n",
    "import warnings\n",
    "warnings.filterwarnings(\"ignore\")\n",
    "\n",
    "\n",
    "import sqlite3\n",
    "import pandas as pd\n",
    "import numpy as np\n",
    "import nltk\n",
    "import string\n",
    "import matplotlib.pyplot as plt\n",
    "import seaborn as sns\n",
    "from sklearn.feature_extraction.text import TfidfTransformer\n",
    "from sklearn.feature_extraction.text import TfidfVectorizer\n",
    "\n",
    "from sklearn.feature_extraction.text import CountVectorizer\n",
    "from sklearn.metrics import confusion_matrix\n",
    "from sklearn import metrics\n",
    "from sklearn.metrics import roc_curve, auc\n",
    "from nltk.stem.porter import PorterStemmer\n",
    "\n",
    "import re\n",
    "# Tutorial about Python regular expressions: https://pymotw.com/2/re/\n",
    "import string\n",
    "from nltk.corpus import stopwords\n",
    "from nltk.stem import PorterStemmer\n",
    "from nltk.stem.wordnet import WordNetLemmatizer\n",
    "\n",
    "from gensim.models import Word2Vec\n",
    "from gensim.models import KeyedVectors\n",
    "import pickle\n",
    "\n",
    "from tqdm import tqdm\n",
    "import os\n",
    "\n"
   ]
  },
  {
   "cell_type": "code",
   "execution_count": 52,
   "metadata": {
    "colab": {},
    "colab_type": "code",
    "id": "NZ4OSpSiLPl0",
    "outputId": "241c4c64-6186-4351-e38f-fcd06c6896dd"
   },
   "outputs": [
    {
     "name": "stdout",
     "output_type": "stream",
     "text": [
      "Number of data points in our data (5000, 10)\n"
     ]
    },
    {
     "data": {
      "text/html": [
       "<div>\n",
       "<style scoped>\n",
       "    .dataframe tbody tr th:only-of-type {\n",
       "        vertical-align: middle;\n",
       "    }\n",
       "\n",
       "    .dataframe tbody tr th {\n",
       "        vertical-align: top;\n",
       "    }\n",
       "\n",
       "    .dataframe thead th {\n",
       "        text-align: right;\n",
       "    }\n",
       "</style>\n",
       "<table border=\"1\" class=\"dataframe\">\n",
       "  <thead>\n",
       "    <tr style=\"text-align: right;\">\n",
       "      <th></th>\n",
       "      <th>Id</th>\n",
       "      <th>ProductId</th>\n",
       "      <th>UserId</th>\n",
       "      <th>ProfileName</th>\n",
       "      <th>HelpfulnessNumerator</th>\n",
       "      <th>HelpfulnessDenominator</th>\n",
       "      <th>Score</th>\n",
       "      <th>Time</th>\n",
       "      <th>Summary</th>\n",
       "      <th>Text</th>\n",
       "    </tr>\n",
       "  </thead>\n",
       "  <tbody>\n",
       "    <tr>\n",
       "      <td>0</td>\n",
       "      <td>1</td>\n",
       "      <td>B001E4KFG0</td>\n",
       "      <td>A3SGXH7AUHU8GW</td>\n",
       "      <td>delmartian</td>\n",
       "      <td>1</td>\n",
       "      <td>1</td>\n",
       "      <td>1</td>\n",
       "      <td>1303862400</td>\n",
       "      <td>Good Quality Dog Food</td>\n",
       "      <td>I have bought several of the Vitality canned d...</td>\n",
       "    </tr>\n",
       "    <tr>\n",
       "      <td>1</td>\n",
       "      <td>2</td>\n",
       "      <td>B00813GRG4</td>\n",
       "      <td>A1D87F6ZCVE5NK</td>\n",
       "      <td>dll pa</td>\n",
       "      <td>0</td>\n",
       "      <td>0</td>\n",
       "      <td>0</td>\n",
       "      <td>1346976000</td>\n",
       "      <td>Not as Advertised</td>\n",
       "      <td>Product arrived labeled as Jumbo Salted Peanut...</td>\n",
       "    </tr>\n",
       "    <tr>\n",
       "      <td>2</td>\n",
       "      <td>3</td>\n",
       "      <td>B000LQOCH0</td>\n",
       "      <td>ABXLMWJIXXAIN</td>\n",
       "      <td>Natalia Corres \"Natalia Corres\"</td>\n",
       "      <td>1</td>\n",
       "      <td>1</td>\n",
       "      <td>1</td>\n",
       "      <td>1219017600</td>\n",
       "      <td>\"Delight\" says it all</td>\n",
       "      <td>This is a confection that has been around a fe...</td>\n",
       "    </tr>\n",
       "  </tbody>\n",
       "</table>\n",
       "</div>"
      ],
      "text/plain": [
       "   Id   ProductId          UserId                      ProfileName  \\\n",
       "0   1  B001E4KFG0  A3SGXH7AUHU8GW                       delmartian   \n",
       "1   2  B00813GRG4  A1D87F6ZCVE5NK                           dll pa   \n",
       "2   3  B000LQOCH0   ABXLMWJIXXAIN  Natalia Corres \"Natalia Corres\"   \n",
       "\n",
       "   HelpfulnessNumerator  HelpfulnessDenominator  Score        Time  \\\n",
       "0                     1                       1      1  1303862400   \n",
       "1                     0                       0      0  1346976000   \n",
       "2                     1                       1      1  1219017600   \n",
       "\n",
       "                 Summary                                               Text  \n",
       "0  Good Quality Dog Food  I have bought several of the Vitality canned d...  \n",
       "1      Not as Advertised  Product arrived labeled as Jumbo Salted Peanut...  \n",
       "2  \"Delight\" says it all  This is a confection that has been around a fe...  "
      ]
     },
     "execution_count": 52,
     "metadata": {},
     "output_type": "execute_result"
    }
   ],
   "source": [
    "# using SQLite Table to read data.\n",
    "con = sqlite3.connect('database.sqlite') \n",
    "\n",
    "# filtering only positive and negative reviews i.e. \n",
    "# not taking into consideration those reviews with Score=3\n",
    "# SELECT * FROM Reviews WHERE Score != 3 LIMIT 5000, will give top 500000 data points\n",
    "# you can change the number to any other number based on your computing power\n",
    "\n",
    "# filtered_data = pd.read_sql_query(\"\"\" SELECT * FROM Reviews WHERE Score != 3 LIMIT 10000\"\"\", con) \n",
    "# for tsne assignment you can take 5k data points\n",
    "\n",
    "filtered_data = pd.read_sql_query(\"\"\" SELECT * FROM Reviews WHERE Score != 3 LIMIT 5000\"\"\", con) \n",
    "\n",
    "# Give reviews with Score>3 a positive rating(1), and reviews with a score<3 a negative rating(0).\n",
    "def partition(x):\n",
    "    if x < 3:\n",
    "        return 0\n",
    "    return 1\n",
    "\n",
    "#changing reviews with score less than 3 to be positive and vice-versa\n",
    "actualScore = filtered_data['Score']\n",
    "positiveNegative = actualScore.map(partition) \n",
    "filtered_data['Score'] = positiveNegative\n",
    "print(\"Number of data points in our data\", filtered_data.shape)\n",
    "filtered_data.head(3)"
   ]
  },
  {
   "cell_type": "code",
   "execution_count": 53,
   "metadata": {
    "colab": {},
    "colab_type": "code",
    "id": "r44Y4VDjLPl7"
   },
   "outputs": [],
   "source": [
    "display = pd.read_sql_query(\"\"\"\n",
    "SELECT UserId, ProductId, ProfileName, Time, Score, Text, COUNT(*)\n",
    "FROM Reviews\n",
    "GROUP BY UserId\n",
    "HAVING COUNT(*)>1\n",
    "\"\"\", con)"
   ]
  },
  {
   "cell_type": "code",
   "execution_count": 54,
   "metadata": {
    "colab": {},
    "colab_type": "code",
    "id": "tTwINQv1LPl_",
    "outputId": "0385b9ca-0a35-4c2b-b656-8e8494414e6f",
    "scrolled": true
   },
   "outputs": [
    {
     "name": "stdout",
     "output_type": "stream",
     "text": [
      "(80668, 7)\n"
     ]
    },
    {
     "data": {
      "text/html": [
       "<div>\n",
       "<style scoped>\n",
       "    .dataframe tbody tr th:only-of-type {\n",
       "        vertical-align: middle;\n",
       "    }\n",
       "\n",
       "    .dataframe tbody tr th {\n",
       "        vertical-align: top;\n",
       "    }\n",
       "\n",
       "    .dataframe thead th {\n",
       "        text-align: right;\n",
       "    }\n",
       "</style>\n",
       "<table border=\"1\" class=\"dataframe\">\n",
       "  <thead>\n",
       "    <tr style=\"text-align: right;\">\n",
       "      <th></th>\n",
       "      <th>UserId</th>\n",
       "      <th>ProductId</th>\n",
       "      <th>ProfileName</th>\n",
       "      <th>Time</th>\n",
       "      <th>Score</th>\n",
       "      <th>Text</th>\n",
       "      <th>COUNT(*)</th>\n",
       "    </tr>\n",
       "  </thead>\n",
       "  <tbody>\n",
       "    <tr>\n",
       "      <td>0</td>\n",
       "      <td>#oc-R115TNMSPFT9I7</td>\n",
       "      <td>B007Y59HVM</td>\n",
       "      <td>Breyton</td>\n",
       "      <td>1331510400</td>\n",
       "      <td>2</td>\n",
       "      <td>Overall its just OK when considering the price...</td>\n",
       "      <td>2</td>\n",
       "    </tr>\n",
       "    <tr>\n",
       "      <td>1</td>\n",
       "      <td>#oc-R11D9D7SHXIJB9</td>\n",
       "      <td>B005HG9ET0</td>\n",
       "      <td>Louis E. Emory \"hoppy\"</td>\n",
       "      <td>1342396800</td>\n",
       "      <td>5</td>\n",
       "      <td>My wife has recurring extreme muscle spasms, u...</td>\n",
       "      <td>3</td>\n",
       "    </tr>\n",
       "    <tr>\n",
       "      <td>2</td>\n",
       "      <td>#oc-R11DNU2NBKQ23Z</td>\n",
       "      <td>B007Y59HVM</td>\n",
       "      <td>Kim Cieszykowski</td>\n",
       "      <td>1348531200</td>\n",
       "      <td>1</td>\n",
       "      <td>This coffee is horrible and unfortunately not ...</td>\n",
       "      <td>2</td>\n",
       "    </tr>\n",
       "    <tr>\n",
       "      <td>3</td>\n",
       "      <td>#oc-R11O5J5ZVQE25C</td>\n",
       "      <td>B005HG9ET0</td>\n",
       "      <td>Penguin Chick</td>\n",
       "      <td>1346889600</td>\n",
       "      <td>5</td>\n",
       "      <td>This will be the bottle that you grab from the...</td>\n",
       "      <td>3</td>\n",
       "    </tr>\n",
       "    <tr>\n",
       "      <td>4</td>\n",
       "      <td>#oc-R12KPBODL2B5ZD</td>\n",
       "      <td>B007OSBE1U</td>\n",
       "      <td>Christopher P. Presta</td>\n",
       "      <td>1348617600</td>\n",
       "      <td>1</td>\n",
       "      <td>I didnt like this coffee. Instead of telling y...</td>\n",
       "      <td>2</td>\n",
       "    </tr>\n",
       "  </tbody>\n",
       "</table>\n",
       "</div>"
      ],
      "text/plain": [
       "               UserId   ProductId             ProfileName        Time  Score  \\\n",
       "0  #oc-R115TNMSPFT9I7  B007Y59HVM                 Breyton  1331510400      2   \n",
       "1  #oc-R11D9D7SHXIJB9  B005HG9ET0  Louis E. Emory \"hoppy\"  1342396800      5   \n",
       "2  #oc-R11DNU2NBKQ23Z  B007Y59HVM        Kim Cieszykowski  1348531200      1   \n",
       "3  #oc-R11O5J5ZVQE25C  B005HG9ET0           Penguin Chick  1346889600      5   \n",
       "4  #oc-R12KPBODL2B5ZD  B007OSBE1U   Christopher P. Presta  1348617600      1   \n",
       "\n",
       "                                                Text  COUNT(*)  \n",
       "0  Overall its just OK when considering the price...         2  \n",
       "1  My wife has recurring extreme muscle spasms, u...         3  \n",
       "2  This coffee is horrible and unfortunately not ...         2  \n",
       "3  This will be the bottle that you grab from the...         3  \n",
       "4  I didnt like this coffee. Instead of telling y...         2  "
      ]
     },
     "execution_count": 54,
     "metadata": {},
     "output_type": "execute_result"
    }
   ],
   "source": [
    "print(display.shape)\n",
    "display.head()"
   ]
  },
  {
   "cell_type": "code",
   "execution_count": 55,
   "metadata": {
    "colab": {},
    "colab_type": "code",
    "id": "EOslHQgnLPmF",
    "outputId": "cb28598d-470a-42bb-e742-4763f953c8cb"
   },
   "outputs": [
    {
     "data": {
      "text/html": [
       "<div>\n",
       "<style scoped>\n",
       "    .dataframe tbody tr th:only-of-type {\n",
       "        vertical-align: middle;\n",
       "    }\n",
       "\n",
       "    .dataframe tbody tr th {\n",
       "        vertical-align: top;\n",
       "    }\n",
       "\n",
       "    .dataframe thead th {\n",
       "        text-align: right;\n",
       "    }\n",
       "</style>\n",
       "<table border=\"1\" class=\"dataframe\">\n",
       "  <thead>\n",
       "    <tr style=\"text-align: right;\">\n",
       "      <th></th>\n",
       "      <th>UserId</th>\n",
       "      <th>ProductId</th>\n",
       "      <th>ProfileName</th>\n",
       "      <th>Time</th>\n",
       "      <th>Score</th>\n",
       "      <th>Text</th>\n",
       "      <th>COUNT(*)</th>\n",
       "    </tr>\n",
       "  </thead>\n",
       "  <tbody>\n",
       "    <tr>\n",
       "      <td>80638</td>\n",
       "      <td>AZY10LLTJ71NX</td>\n",
       "      <td>B006P7E5ZI</td>\n",
       "      <td>undertheshrine \"undertheshrine\"</td>\n",
       "      <td>1334707200</td>\n",
       "      <td>5</td>\n",
       "      <td>I was recommended to try green tea extract to ...</td>\n",
       "      <td>5</td>\n",
       "    </tr>\n",
       "  </tbody>\n",
       "</table>\n",
       "</div>"
      ],
      "text/plain": [
       "              UserId   ProductId                      ProfileName        Time  \\\n",
       "80638  AZY10LLTJ71NX  B006P7E5ZI  undertheshrine \"undertheshrine\"  1334707200   \n",
       "\n",
       "       Score                                               Text  COUNT(*)  \n",
       "80638      5  I was recommended to try green tea extract to ...         5  "
      ]
     },
     "execution_count": 55,
     "metadata": {},
     "output_type": "execute_result"
    }
   ],
   "source": [
    "display[display['UserId']=='AZY10LLTJ71NX']"
   ]
  },
  {
   "cell_type": "code",
   "execution_count": 56,
   "metadata": {
    "colab": {},
    "colab_type": "code",
    "id": "pSwF4sdoLPmM",
    "outputId": "2f3bd7f2-0eea-45f7-eab6-bf08c630d9a3"
   },
   "outputs": [
    {
     "data": {
      "text/plain": [
       "393063"
      ]
     },
     "execution_count": 56,
     "metadata": {},
     "output_type": "execute_result"
    }
   ],
   "source": [
    "display['COUNT(*)'].sum()"
   ]
  },
  {
   "cell_type": "markdown",
   "metadata": {
    "colab_type": "text",
    "id": "PuNkhjz0LPmQ"
   },
   "source": [
    "#  [2] Exploratory Data Analysis"
   ]
  },
  {
   "cell_type": "markdown",
   "metadata": {
    "colab_type": "text",
    "id": "oCJaTWrTLPmS"
   },
   "source": [
    "## [2.1] Data Cleaning: Deduplication\n",
    "\n",
    "It is observed (as shown in the table below) that the reviews data had many duplicate entries. Hence it was necessary to remove duplicates in order to get unbiased results for the analysis of the data.  Following is an example:"
   ]
  },
  {
   "cell_type": "code",
   "execution_count": 57,
   "metadata": {
    "colab": {},
    "colab_type": "code",
    "id": "3lvzRwWVLPmT",
    "outputId": "96ba6f90-6c40-4972-ecd2-d2d208e48877",
    "scrolled": false
   },
   "outputs": [
    {
     "data": {
      "text/html": [
       "<div>\n",
       "<style scoped>\n",
       "    .dataframe tbody tr th:only-of-type {\n",
       "        vertical-align: middle;\n",
       "    }\n",
       "\n",
       "    .dataframe tbody tr th {\n",
       "        vertical-align: top;\n",
       "    }\n",
       "\n",
       "    .dataframe thead th {\n",
       "        text-align: right;\n",
       "    }\n",
       "</style>\n",
       "<table border=\"1\" class=\"dataframe\">\n",
       "  <thead>\n",
       "    <tr style=\"text-align: right;\">\n",
       "      <th></th>\n",
       "      <th>Id</th>\n",
       "      <th>ProductId</th>\n",
       "      <th>UserId</th>\n",
       "      <th>ProfileName</th>\n",
       "      <th>HelpfulnessNumerator</th>\n",
       "      <th>HelpfulnessDenominator</th>\n",
       "      <th>Score</th>\n",
       "      <th>Time</th>\n",
       "      <th>Summary</th>\n",
       "      <th>Text</th>\n",
       "    </tr>\n",
       "  </thead>\n",
       "  <tbody>\n",
       "    <tr>\n",
       "      <td>0</td>\n",
       "      <td>78445</td>\n",
       "      <td>B000HDL1RQ</td>\n",
       "      <td>AR5J8UI46CURR</td>\n",
       "      <td>Geetha Krishnan</td>\n",
       "      <td>2</td>\n",
       "      <td>2</td>\n",
       "      <td>5</td>\n",
       "      <td>1199577600</td>\n",
       "      <td>LOACKER QUADRATINI VANILLA WAFERS</td>\n",
       "      <td>DELICIOUS WAFERS. I FIND THAT EUROPEAN WAFERS ...</td>\n",
       "    </tr>\n",
       "    <tr>\n",
       "      <td>1</td>\n",
       "      <td>138317</td>\n",
       "      <td>B000HDOPYC</td>\n",
       "      <td>AR5J8UI46CURR</td>\n",
       "      <td>Geetha Krishnan</td>\n",
       "      <td>2</td>\n",
       "      <td>2</td>\n",
       "      <td>5</td>\n",
       "      <td>1199577600</td>\n",
       "      <td>LOACKER QUADRATINI VANILLA WAFERS</td>\n",
       "      <td>DELICIOUS WAFERS. I FIND THAT EUROPEAN WAFERS ...</td>\n",
       "    </tr>\n",
       "    <tr>\n",
       "      <td>2</td>\n",
       "      <td>138277</td>\n",
       "      <td>B000HDOPYM</td>\n",
       "      <td>AR5J8UI46CURR</td>\n",
       "      <td>Geetha Krishnan</td>\n",
       "      <td>2</td>\n",
       "      <td>2</td>\n",
       "      <td>5</td>\n",
       "      <td>1199577600</td>\n",
       "      <td>LOACKER QUADRATINI VANILLA WAFERS</td>\n",
       "      <td>DELICIOUS WAFERS. I FIND THAT EUROPEAN WAFERS ...</td>\n",
       "    </tr>\n",
       "    <tr>\n",
       "      <td>3</td>\n",
       "      <td>73791</td>\n",
       "      <td>B000HDOPZG</td>\n",
       "      <td>AR5J8UI46CURR</td>\n",
       "      <td>Geetha Krishnan</td>\n",
       "      <td>2</td>\n",
       "      <td>2</td>\n",
       "      <td>5</td>\n",
       "      <td>1199577600</td>\n",
       "      <td>LOACKER QUADRATINI VANILLA WAFERS</td>\n",
       "      <td>DELICIOUS WAFERS. I FIND THAT EUROPEAN WAFERS ...</td>\n",
       "    </tr>\n",
       "    <tr>\n",
       "      <td>4</td>\n",
       "      <td>155049</td>\n",
       "      <td>B000PAQ75C</td>\n",
       "      <td>AR5J8UI46CURR</td>\n",
       "      <td>Geetha Krishnan</td>\n",
       "      <td>2</td>\n",
       "      <td>2</td>\n",
       "      <td>5</td>\n",
       "      <td>1199577600</td>\n",
       "      <td>LOACKER QUADRATINI VANILLA WAFERS</td>\n",
       "      <td>DELICIOUS WAFERS. I FIND THAT EUROPEAN WAFERS ...</td>\n",
       "    </tr>\n",
       "  </tbody>\n",
       "</table>\n",
       "</div>"
      ],
      "text/plain": [
       "       Id   ProductId         UserId      ProfileName  HelpfulnessNumerator  \\\n",
       "0   78445  B000HDL1RQ  AR5J8UI46CURR  Geetha Krishnan                     2   \n",
       "1  138317  B000HDOPYC  AR5J8UI46CURR  Geetha Krishnan                     2   \n",
       "2  138277  B000HDOPYM  AR5J8UI46CURR  Geetha Krishnan                     2   \n",
       "3   73791  B000HDOPZG  AR5J8UI46CURR  Geetha Krishnan                     2   \n",
       "4  155049  B000PAQ75C  AR5J8UI46CURR  Geetha Krishnan                     2   \n",
       "\n",
       "   HelpfulnessDenominator  Score        Time  \\\n",
       "0                       2      5  1199577600   \n",
       "1                       2      5  1199577600   \n",
       "2                       2      5  1199577600   \n",
       "3                       2      5  1199577600   \n",
       "4                       2      5  1199577600   \n",
       "\n",
       "                             Summary  \\\n",
       "0  LOACKER QUADRATINI VANILLA WAFERS   \n",
       "1  LOACKER QUADRATINI VANILLA WAFERS   \n",
       "2  LOACKER QUADRATINI VANILLA WAFERS   \n",
       "3  LOACKER QUADRATINI VANILLA WAFERS   \n",
       "4  LOACKER QUADRATINI VANILLA WAFERS   \n",
       "\n",
       "                                                Text  \n",
       "0  DELICIOUS WAFERS. I FIND THAT EUROPEAN WAFERS ...  \n",
       "1  DELICIOUS WAFERS. I FIND THAT EUROPEAN WAFERS ...  \n",
       "2  DELICIOUS WAFERS. I FIND THAT EUROPEAN WAFERS ...  \n",
       "3  DELICIOUS WAFERS. I FIND THAT EUROPEAN WAFERS ...  \n",
       "4  DELICIOUS WAFERS. I FIND THAT EUROPEAN WAFERS ...  "
      ]
     },
     "execution_count": 57,
     "metadata": {},
     "output_type": "execute_result"
    }
   ],
   "source": [
    "display= pd.read_sql_query(\"\"\"\n",
    "SELECT *\n",
    "FROM Reviews\n",
    "WHERE Score != 3 AND UserId=\"AR5J8UI46CURR\"\n",
    "ORDER BY ProductID\n",
    "\"\"\", con)\n",
    "display.head()"
   ]
  },
  {
   "cell_type": "markdown",
   "metadata": {
    "colab_type": "text",
    "id": "uT7p9_deLPmb"
   },
   "source": [
    "As it can be seen above that same user has multiple reviews with same values for HelpfulnessNumerator, HelpfulnessDenominator, Score, Time, Summary and Text and on doing analysis it was found that <br>\n",
    "<br> \n",
    "ProductId=B000HDOPZG was Loacker Quadratini Vanilla Wafer Cookies, 8.82-Ounce Packages (Pack of 8)<br>\n",
    "<br> \n",
    "ProductId=B000HDL1RQ was Loacker Quadratini Lemon Wafer Cookies, 8.82-Ounce Packages (Pack of 8) and so on<br>\n",
    "\n",
    "It was inferred after analysis that reviews with same parameters other than ProductId belonged to the same product just having different flavour or quantity. Hence in order to reduce redundancy it was decided to eliminate the rows having same parameters.<br>\n",
    "\n",
    "The method used for the same was that we first sort the data according to ProductId and then just keep the first similar product review and delelte the others. for eg. in the above just the review for ProductId=B000HDL1RQ remains. This method ensures that there is only one representative for each product and deduplication without sorting would lead to possibility of different representatives still existing for the same product."
   ]
  },
  {
   "cell_type": "code",
   "execution_count": 58,
   "metadata": {
    "colab": {},
    "colab_type": "code",
    "id": "mdsKFc50LPme"
   },
   "outputs": [],
   "source": [
    "#Sorting data according to ProductId in ascending order\n",
    "sorted_data=filtered_data.sort_values('ProductId', axis=0, ascending=True, inplace=False, kind='quicksort', na_position='last')"
   ]
  },
  {
   "cell_type": "code",
   "execution_count": 59,
   "metadata": {
    "colab": {},
    "colab_type": "code",
    "id": "2itLgX-NLPmk",
    "outputId": "ac765625-dfdc-4e4e-f886-bd3b7ca3635a"
   },
   "outputs": [
    {
     "data": {
      "text/plain": [
       "(4986, 10)"
      ]
     },
     "execution_count": 59,
     "metadata": {},
     "output_type": "execute_result"
    }
   ],
   "source": [
    "#Deduplication of entries\n",
    "final=sorted_data.drop_duplicates(subset={\"UserId\",\"ProfileName\",\"Time\",\"Text\"}, keep='first', inplace=False)\n",
    "final.shape"
   ]
  },
  {
   "cell_type": "code",
   "execution_count": 60,
   "metadata": {
    "colab": {},
    "colab_type": "code",
    "id": "IBU4iZk4LPmt",
    "outputId": "ceeba223-fe3f-407a-b4e5-0d46c08f69dd"
   },
   "outputs": [
    {
     "data": {
      "text/plain": [
       "99.72"
      ]
     },
     "execution_count": 60,
     "metadata": {},
     "output_type": "execute_result"
    }
   ],
   "source": [
    "#Checking to see how much % of data still remains\n",
    "(final['Id'].size*1.0)/(filtered_data['Id'].size*1.0)*100"
   ]
  },
  {
   "cell_type": "markdown",
   "metadata": {
    "colab_type": "text",
    "id": "gFBOfSe4LPmy"
   },
   "source": [
    "<b>Observation:-</b> It was also seen that in two rows given below the value of HelpfulnessNumerator is greater than HelpfulnessDenominator which is not practically possible hence these two rows too are removed from calcualtions"
   ]
  },
  {
   "cell_type": "code",
   "execution_count": 61,
   "metadata": {
    "colab": {},
    "colab_type": "code",
    "id": "50flE40lLPmz",
    "outputId": "b6c7e38e-25c1-4a48-be1f-70fdf31aba13"
   },
   "outputs": [
    {
     "data": {
      "text/html": [
       "<div>\n",
       "<style scoped>\n",
       "    .dataframe tbody tr th:only-of-type {\n",
       "        vertical-align: middle;\n",
       "    }\n",
       "\n",
       "    .dataframe tbody tr th {\n",
       "        vertical-align: top;\n",
       "    }\n",
       "\n",
       "    .dataframe thead th {\n",
       "        text-align: right;\n",
       "    }\n",
       "</style>\n",
       "<table border=\"1\" class=\"dataframe\">\n",
       "  <thead>\n",
       "    <tr style=\"text-align: right;\">\n",
       "      <th></th>\n",
       "      <th>Id</th>\n",
       "      <th>ProductId</th>\n",
       "      <th>UserId</th>\n",
       "      <th>ProfileName</th>\n",
       "      <th>HelpfulnessNumerator</th>\n",
       "      <th>HelpfulnessDenominator</th>\n",
       "      <th>Score</th>\n",
       "      <th>Time</th>\n",
       "      <th>Summary</th>\n",
       "      <th>Text</th>\n",
       "    </tr>\n",
       "  </thead>\n",
       "  <tbody>\n",
       "    <tr>\n",
       "      <td>0</td>\n",
       "      <td>64422</td>\n",
       "      <td>B000MIDROQ</td>\n",
       "      <td>A161DK06JJMCYF</td>\n",
       "      <td>J. E. Stephens \"Jeanne\"</td>\n",
       "      <td>3</td>\n",
       "      <td>1</td>\n",
       "      <td>5</td>\n",
       "      <td>1224892800</td>\n",
       "      <td>Bought This for My Son at College</td>\n",
       "      <td>My son loves spaghetti so I didn't hesitate or...</td>\n",
       "    </tr>\n",
       "    <tr>\n",
       "      <td>1</td>\n",
       "      <td>44737</td>\n",
       "      <td>B001EQ55RW</td>\n",
       "      <td>A2V0I904FH7ABY</td>\n",
       "      <td>Ram</td>\n",
       "      <td>3</td>\n",
       "      <td>2</td>\n",
       "      <td>4</td>\n",
       "      <td>1212883200</td>\n",
       "      <td>Pure cocoa taste with crunchy almonds inside</td>\n",
       "      <td>It was almost a 'love at first bite' - the per...</td>\n",
       "    </tr>\n",
       "  </tbody>\n",
       "</table>\n",
       "</div>"
      ],
      "text/plain": [
       "      Id   ProductId          UserId              ProfileName  \\\n",
       "0  64422  B000MIDROQ  A161DK06JJMCYF  J. E. Stephens \"Jeanne\"   \n",
       "1  44737  B001EQ55RW  A2V0I904FH7ABY                      Ram   \n",
       "\n",
       "   HelpfulnessNumerator  HelpfulnessDenominator  Score        Time  \\\n",
       "0                     3                       1      5  1224892800   \n",
       "1                     3                       2      4  1212883200   \n",
       "\n",
       "                                        Summary  \\\n",
       "0             Bought This for My Son at College   \n",
       "1  Pure cocoa taste with crunchy almonds inside   \n",
       "\n",
       "                                                Text  \n",
       "0  My son loves spaghetti so I didn't hesitate or...  \n",
       "1  It was almost a 'love at first bite' - the per...  "
      ]
     },
     "execution_count": 61,
     "metadata": {},
     "output_type": "execute_result"
    }
   ],
   "source": [
    "display= pd.read_sql_query(\"\"\"\n",
    "SELECT *\n",
    "FROM Reviews\n",
    "WHERE Score != 3 AND Id=44737 OR Id=64422\n",
    "ORDER BY ProductID\n",
    "\"\"\", con)\n",
    "\n",
    "display.head()"
   ]
  },
  {
   "cell_type": "code",
   "execution_count": 62,
   "metadata": {
    "colab": {},
    "colab_type": "code",
    "id": "0YTPJMLTLPm7"
   },
   "outputs": [],
   "source": [
    "final=final[final.HelpfulnessNumerator<=final.HelpfulnessDenominator]"
   ]
  },
  {
   "cell_type": "code",
   "execution_count": 63,
   "metadata": {
    "colab": {},
    "colab_type": "code",
    "id": "LVJ_l-x2LPnC",
    "outputId": "d4a19c7a-16fe-4b5b-c3d1-aa1ef0f948a0"
   },
   "outputs": [
    {
     "name": "stdout",
     "output_type": "stream",
     "text": [
      "(4986, 10)\n"
     ]
    },
    {
     "data": {
      "text/plain": [
       "1    4178\n",
       "0     808\n",
       "Name: Score, dtype: int64"
      ]
     },
     "execution_count": 63,
     "metadata": {},
     "output_type": "execute_result"
    }
   ],
   "source": [
    "#Before starting the next phase of preprocessing lets see the number of entries left\n",
    "print(final.shape)\n",
    "\n",
    "#How many positive and negative reviews are present in our dataset?\n",
    "final['Score'].value_counts()"
   ]
  },
  {
   "cell_type": "markdown",
   "metadata": {
    "colab_type": "text",
    "id": "GrTYWzYrLPnH"
   },
   "source": [
    "#  [3] Preprocessing"
   ]
  },
  {
   "cell_type": "markdown",
   "metadata": {
    "colab_type": "text",
    "id": "zbvLitZeLPnI"
   },
   "source": [
    "## [3.1].  Preprocessing Review Text\n",
    "\n",
    "Now that we have finished deduplication our data requires some preprocessing before we go on further with analysis and making the prediction model.\n",
    "\n",
    "Hence in the Preprocessing phase we do the following in the order below:-\n",
    "\n",
    "1. Begin by removing the html tags\n",
    "2. Remove any punctuations or limited set of special characters like , or . or # etc.\n",
    "3. Check if the word is made up of english letters and is not alpha-numeric\n",
    "4. Check to see if the length of the word is greater than 2 (as it was researched that there is no adjective in 2-letters)\n",
    "5. Convert the word to lowercase\n",
    "6. Remove Stopwords\n",
    "7. Finally Snowball Stemming the word (it was obsereved to be better than Porter Stemming)<br>\n",
    "\n",
    "After which we collect the words used to describe positive and negative reviews"
   ]
  },
  {
   "cell_type": "code",
   "execution_count": 64,
   "metadata": {
    "colab": {},
    "colab_type": "code",
    "id": "yYDc0ZXALPnK",
    "outputId": "5403fab9-796a-493d-f9d3-2a410d004f64",
    "scrolled": true
   },
   "outputs": [
    {
     "name": "stdout",
     "output_type": "stream",
     "text": [
      "Why is this $[...] when the same product is available for $[...] here?<br />http://www.amazon.com/VICTOR-FLY-MAGNET-BAIT-REFILL/dp/B00004RBDY<br /><br />The Victor M380 and M502 traps are unreal, of course -- total fly genocide. Pretty stinky, but only right nearby.\n",
      "==================================================\n",
      "I recently tried this flavor/brand and was surprised at how delicious these chips are.  The best thing was that there were a lot of \"brown\" chips in the bsg (my favorite), so I bought some more through amazon and shared with family and friends.  I am a little disappointed that there are not, so far, very many brown chips in these bags, but the flavor is still very good.  I like them better than the yogurt and green onion flavor because they do not seem to be as salty, and the onion flavor is better.  If you haven't eaten Kettle chips before, I recommend that you try a bag before buying bulk.  They are thicker and crunchier than Lays but just as fresh out of the bag.\n",
      "==================================================\n",
      "Wow.  So far, two two-star reviews.  One obviously had no idea what they were ordering; the other wants crispy cookies.  Hey, I'm sorry; but these reviews do nobody any good beyond reminding us to look  before ordering.<br /><br />These are chocolate-oatmeal cookies.  If you don't like that combination, don't order this type of cookie.  I find the combo quite nice, really.  The oatmeal sort of \"calms\" the rich chocolate flavor and gives the cookie sort of a coconut-type consistency.  Now let's also remember that tastes differ; so, I've given my opinion.<br /><br />Then, these are soft, chewy cookies -- as advertised.  They are not \"crispy\" cookies, or the blurb would say \"crispy,\" rather than \"chewy.\"  I happen to like raw cookie dough; however, I don't see where these taste like raw cookie dough.  Both are soft, however, so is this the confusion?  And, yes, they stick together.  Soft cookies tend to do that.  They aren't individually wrapped, which would add to the cost.  Oh yeah, chocolate chip cookies tend to be somewhat sweet.<br /><br />So, if you want something hard and crisp, I suggest Nabiso's Ginger Snaps.  If you want a cookie that's soft, chewy and tastes like a combination of chocolate and oatmeal, give these a try.  I'm here to place my second order.\n",
      "==================================================\n",
      "love to order my coffee on amazon.  easy and shows up quickly.<br />This k cup is great coffee.  dcaf is very good as well\n",
      "==================================================\n"
     ]
    }
   ],
   "source": [
    "# printing some random reviews\n",
    "sent_0 = final['Text'].values[0]\n",
    "print(sent_0)\n",
    "print(\"=\"*50)\n",
    "\n",
    "sent_1000 = final['Text'].values[1000]\n",
    "print(sent_1000)\n",
    "print(\"=\"*50)\n",
    "\n",
    "sent_1500 = final['Text'].values[1500]\n",
    "print(sent_1500)\n",
    "print(\"=\"*50)\n",
    "\n",
    "sent_4900 = final['Text'].values[4900]\n",
    "print(sent_4900)\n",
    "print(\"=\"*50)"
   ]
  },
  {
   "cell_type": "code",
   "execution_count": 65,
   "metadata": {
    "colab": {},
    "colab_type": "code",
    "id": "AxYh-wPiLPnS",
    "outputId": "31bddcb2-6c52-4b16-f9fb-c03d5b3bb7c8"
   },
   "outputs": [
    {
     "name": "stdout",
     "output_type": "stream",
     "text": [
      "Why is this $[...] when the same product is available for $[...] here?<br /> /><br />The Victor M380 and M502 traps are unreal, of course -- total fly genocide. Pretty stinky, but only right nearby.\n"
     ]
    }
   ],
   "source": [
    "# remove urls from text python: https://stackoverflow.com/a/40823105/4084039\n",
    "sent_0 = re.sub(r\"http\\S+\", \"\", sent_0)\n",
    "sent_1000 = re.sub(r\"http\\S+\", \"\", sent_1000)\n",
    "sent_150 = re.sub(r\"http\\S+\", \"\", sent_1500)\n",
    "sent_4900 = re.sub(r\"http\\S+\", \"\", sent_4900)\n",
    "\n",
    "print(sent_0)"
   ]
  },
  {
   "cell_type": "code",
   "execution_count": 66,
   "metadata": {
    "colab": {},
    "colab_type": "code",
    "id": "JMSSWjZqLPne",
    "outputId": "eb1bae4e-6f37-45ee-84a3-ef3bebf4e30a"
   },
   "outputs": [
    {
     "name": "stdout",
     "output_type": "stream",
     "text": [
      "Why is this $[...] when the same product is available for $[...] here? />The Victor M380 and M502 traps are unreal, of course -- total fly genocide. Pretty stinky, but only right nearby.\n",
      "==================================================\n",
      "I recently tried this flavor/brand and was surprised at how delicious these chips are.  The best thing was that there were a lot of \"brown\" chips in the bsg (my favorite), so I bought some more through amazon and shared with family and friends.  I am a little disappointed that there are not, so far, very many brown chips in these bags, but the flavor is still very good.  I like them better than the yogurt and green onion flavor because they do not seem to be as salty, and the onion flavor is better.  If you haven't eaten Kettle chips before, I recommend that you try a bag before buying bulk.  They are thicker and crunchier than Lays but just as fresh out of the bag.\n",
      "==================================================\n",
      "Wow.  So far, two two-star reviews.  One obviously had no idea what they were ordering; the other wants crispy cookies.  Hey, I'm sorry; but these reviews do nobody any good beyond reminding us to look  before ordering.These are chocolate-oatmeal cookies.  If you don't like that combination, don't order this type of cookie.  I find the combo quite nice, really.  The oatmeal sort of \"calms\" the rich chocolate flavor and gives the cookie sort of a coconut-type consistency.  Now let's also remember that tastes differ; so, I've given my opinion.Then, these are soft, chewy cookies -- as advertised.  They are not \"crispy\" cookies, or the blurb would say \"crispy,\" rather than \"chewy.\"  I happen to like raw cookie dough; however, I don't see where these taste like raw cookie dough.  Both are soft, however, so is this the confusion?  And, yes, they stick together.  Soft cookies tend to do that.  They aren't individually wrapped, which would add to the cost.  Oh yeah, chocolate chip cookies tend to be somewhat sweet.So, if you want something hard and crisp, I suggest Nabiso's Ginger Snaps.  If you want a cookie that's soft, chewy and tastes like a combination of chocolate and oatmeal, give these a try.  I'm here to place my second order.\n",
      "==================================================\n",
      "love to order my coffee on amazon.  easy and shows up quickly.This k cup is great coffee.  dcaf is very good as well\n"
     ]
    }
   ],
   "source": [
    "# https://stackoverflow.com/questions/16206380/python-beautifulsoup-how-to-remove-all-tags-from-an-element\n",
    "from bs4 import BeautifulSoup\n",
    "\n",
    "soup = BeautifulSoup(sent_0, 'lxml')\n",
    "text = soup.get_text()\n",
    "print(text)\n",
    "print(\"=\"*50)\n",
    "\n",
    "soup = BeautifulSoup(sent_1000, 'lxml')\n",
    "text = soup.get_text()\n",
    "print(text)\n",
    "print(\"=\"*50)\n",
    "\n",
    "soup = BeautifulSoup(sent_1500, 'lxml')\n",
    "text = soup.get_text()\n",
    "print(text)\n",
    "print(\"=\"*50)\n",
    "\n",
    "soup = BeautifulSoup(sent_4900, 'lxml')\n",
    "text = soup.get_text()\n",
    "print(text)"
   ]
  },
  {
   "cell_type": "code",
   "execution_count": 67,
   "metadata": {
    "colab": {},
    "colab_type": "code",
    "id": "BEtpMkhULPnt"
   },
   "outputs": [],
   "source": [
    "# https://stackoverflow.com/a/47091490/4084039\n",
    "import re\n",
    "\n",
    "def decontracted(phrase):\n",
    "    # specific\n",
    "    phrase = re.sub(r\"won't\", \"will not\", phrase)\n",
    "    phrase = re.sub(r\"can\\'t\", \"can not\", phrase)\n",
    "\n",
    "    # general\n",
    "    phrase = re.sub(r\"n\\'t\", \" not\", phrase)\n",
    "    phrase = re.sub(r\"\\'re\", \" are\", phrase)\n",
    "    phrase = re.sub(r\"\\'s\", \" is\", phrase)\n",
    "    phrase = re.sub(r\"\\'d\", \" would\", phrase)\n",
    "    phrase = re.sub(r\"\\'ll\", \" will\", phrase)\n",
    "    phrase = re.sub(r\"\\'t\", \" not\", phrase)\n",
    "    phrase = re.sub(r\"\\'ve\", \" have\", phrase)\n",
    "    phrase = re.sub(r\"\\'m\", \" am\", phrase)\n",
    "    return phrase"
   ]
  },
  {
   "cell_type": "code",
   "execution_count": 68,
   "metadata": {
    "colab": {},
    "colab_type": "code",
    "id": "GavAnzNjLPnx",
    "outputId": "517fca9a-b1b6-4c6c-ab33-4c5ac4a5bd62"
   },
   "outputs": [
    {
     "name": "stdout",
     "output_type": "stream",
     "text": [
      "Wow.  So far, two two-star reviews.  One obviously had no idea what they were ordering; the other wants crispy cookies.  Hey, I am sorry; but these reviews do nobody any good beyond reminding us to look  before ordering.<br /><br />These are chocolate-oatmeal cookies.  If you do not like that combination, do not order this type of cookie.  I find the combo quite nice, really.  The oatmeal sort of \"calms\" the rich chocolate flavor and gives the cookie sort of a coconut-type consistency.  Now let is also remember that tastes differ; so, I have given my opinion.<br /><br />Then, these are soft, chewy cookies -- as advertised.  They are not \"crispy\" cookies, or the blurb would say \"crispy,\" rather than \"chewy.\"  I happen to like raw cookie dough; however, I do not see where these taste like raw cookie dough.  Both are soft, however, so is this the confusion?  And, yes, they stick together.  Soft cookies tend to do that.  They are not individually wrapped, which would add to the cost.  Oh yeah, chocolate chip cookies tend to be somewhat sweet.<br /><br />So, if you want something hard and crisp, I suggest Nabiso is Ginger Snaps.  If you want a cookie that is soft, chewy and tastes like a combination of chocolate and oatmeal, give these a try.  I am here to place my second order.\n",
      "==================================================\n"
     ]
    }
   ],
   "source": [
    "sent_1500 = decontracted(sent_1500)\n",
    "print(sent_1500)\n",
    "print(\"=\"*50)"
   ]
  },
  {
   "cell_type": "code",
   "execution_count": 69,
   "metadata": {
    "colab": {},
    "colab_type": "code",
    "id": "Kl8nOoL-LPn3",
    "outputId": "16742d57-2529-4fc0-9d28-e9332dbbca97"
   },
   "outputs": [
    {
     "name": "stdout",
     "output_type": "stream",
     "text": [
      "Why is this $[...] when the same product is available for $[...] here?<br /> /><br />The Victor  and  traps are unreal, of course -- total fly genocide. Pretty stinky, but only right nearby.\n"
     ]
    }
   ],
   "source": [
    "#remove words with numbers python: https://stackoverflow.com/a/18082370/4084039\n",
    "sent_0 = re.sub(\"\\S*\\d\\S*\", \"\", sent_0).strip()\n",
    "print(sent_0)"
   ]
  },
  {
   "cell_type": "code",
   "execution_count": 70,
   "metadata": {
    "colab": {},
    "colab_type": "code",
    "id": "EGB6X2uxLPn7",
    "outputId": "dbd754e5-eb73-4b3a-f3c3-7b1b40952851"
   },
   "outputs": [
    {
     "name": "stdout",
     "output_type": "stream",
     "text": [
      "Wow So far two two star reviews One obviously had no idea what they were ordering the other wants crispy cookies Hey I am sorry but these reviews do nobody any good beyond reminding us to look before ordering br br These are chocolate oatmeal cookies If you do not like that combination do not order this type of cookie I find the combo quite nice really The oatmeal sort of calms the rich chocolate flavor and gives the cookie sort of a coconut type consistency Now let is also remember that tastes differ so I have given my opinion br br Then these are soft chewy cookies as advertised They are not crispy cookies or the blurb would say crispy rather than chewy I happen to like raw cookie dough however I do not see where these taste like raw cookie dough Both are soft however so is this the confusion And yes they stick together Soft cookies tend to do that They are not individually wrapped which would add to the cost Oh yeah chocolate chip cookies tend to be somewhat sweet br br So if you want something hard and crisp I suggest Nabiso is Ginger Snaps If you want a cookie that is soft chewy and tastes like a combination of chocolate and oatmeal give these a try I am here to place my second order \n"
     ]
    }
   ],
   "source": [
    "#remove spacial character: https://stackoverflow.com/a/5843547/4084039\n",
    "sent_1500 = re.sub('[^A-Za-z0-9]+', ' ', sent_1500)\n",
    "print(sent_1500)"
   ]
  },
  {
   "cell_type": "code",
   "execution_count": 71,
   "metadata": {
    "colab": {},
    "colab_type": "code",
    "id": "CCurSJJ2LPn_"
   },
   "outputs": [],
   "source": [
    "# https://gist.github.com/sebleier/554280\n",
    "# we are removing the words from the stop words list: 'no', 'nor', 'not'\n",
    "# <br /><br /> ==> after the above steps, we are getting \"br br\"\n",
    "# we are including them into stop words list\n",
    "# instead of <br /> if we have <br/> these tags would have revmoved in the 1st step\n",
    "\n",
    "stopwords= set(['br', 'the', 'i', 'me', 'my', 'myself', 'we', 'our', 'ours', 'ourselves', 'you', \"you're\", \"you've\",\\\n",
    "            \"you'll\", \"you'd\", 'your', 'yours', 'yourself', 'yourselves', 'he', 'him', 'his', 'himself', \\\n",
    "            'she', \"she's\", 'her', 'hers', 'herself', 'it', \"it's\", 'its', 'itself', 'they', 'them', 'their',\\\n",
    "            'theirs', 'themselves', 'what', 'which', 'who', 'whom', 'this', 'that', \"that'll\", 'these', 'those', \\\n",
    "            'am', 'is', 'are', 'was', 'were', 'be', 'been', 'being', 'have', 'has', 'had', 'having', 'do', 'does', \\\n",
    "            'did', 'doing', 'a', 'an', 'the', 'and', 'but', 'if', 'or', 'because', 'as', 'until', 'while', 'of', \\\n",
    "            'at', 'by', 'for', 'with', 'about', 'against', 'between', 'into', 'through', 'during', 'before', 'after',\\\n",
    "            'above', 'below', 'to', 'from', 'up', 'down', 'in', 'out', 'on', 'off', 'over', 'under', 'again', 'further',\\\n",
    "            'then', 'once', 'here', 'there', 'when', 'where', 'why', 'how', 'all', 'any', 'both', 'each', 'few', 'more',\\\n",
    "            'most', 'other', 'some', 'such', 'only', 'own', 'same', 'so', 'than', 'too', 'very', \\\n",
    "            's', 't', 'can', 'will', 'just', 'don', \"don't\", 'should', \"should've\", 'now', 'd', 'll', 'm', 'o', 're', \\\n",
    "            've', 'y', 'ain', 'aren', \"aren't\", 'couldn', \"couldn't\", 'didn', \"didn't\", 'doesn', \"doesn't\", 'hadn',\\\n",
    "            \"hadn't\", 'hasn', \"hasn't\", 'haven', \"haven't\", 'isn', \"isn't\", 'ma', 'mightn', \"mightn't\", 'mustn',\\\n",
    "            \"mustn't\", 'needn', \"needn't\", 'shan', \"shan't\", 'shouldn', \"shouldn't\", 'wasn', \"wasn't\", 'weren', \"weren't\", \\\n",
    "            'won', \"won't\", 'wouldn', \"wouldn't\"])"
   ]
  },
  {
   "cell_type": "code",
   "execution_count": 72,
   "metadata": {
    "colab": {},
    "colab_type": "code",
    "id": "mFHQEvfnLPoF",
    "outputId": "5cd6bcc3-54fe-4a8e-a39d-d6dabf3f37f9"
   },
   "outputs": [
    {
     "name": "stderr",
     "output_type": "stream",
     "text": [
      "100%|█████████████████████████████████████████████████████████████████████████████| 4986/4986 [00:10<00:00, 459.26it/s]\n"
     ]
    }
   ],
   "source": [
    "# Combining all the above stundents \n",
    "from tqdm import tqdm\n",
    "preprocessed_reviews = []\n",
    "# tqdm is for printing the status bar\n",
    "for sentance in tqdm(final['Text'].values):\n",
    "    sentance = re.sub(r\"http\\S+\", \"\", sentance)\n",
    "    sentance = BeautifulSoup(sentance, 'lxml').get_text()\n",
    "    sentance = decontracted(sentance)\n",
    "    sentance = re.sub(\"\\S*\\d\\S*\", \"\", sentance).strip()\n",
    "    sentance = re.sub('[^A-Za-z]+', ' ', sentance)\n",
    "    # https://gist.github.com/sebleier/554280\n",
    "    sentance = ' '.join(e.lower() for e in sentance.split() if e.lower() not in stopwords)\n",
    "    preprocessed_reviews.append(sentance.strip())"
   ]
  },
  {
   "cell_type": "code",
   "execution_count": 73,
   "metadata": {
    "colab": {},
    "colab_type": "code",
    "id": "Tqx8QUeRLPoH",
    "outputId": "0182081c-6282-4113-b186-5b5bac596388"
   },
   "outputs": [
    {
     "data": {
      "text/plain": [
       "'wow far two two star reviews one obviously no idea ordering wants crispy cookies hey sorry reviews nobody good beyond reminding us look ordering chocolate oatmeal cookies not like combination not order type cookie find combo quite nice really oatmeal sort calms rich chocolate flavor gives cookie sort coconut type consistency let also remember tastes differ given opinion soft chewy cookies advertised not crispy cookies blurb would say crispy rather chewy happen like raw cookie dough however not see taste like raw cookie dough soft however confusion yes stick together soft cookies tend not individually wrapped would add cost oh yeah chocolate chip cookies tend somewhat sweet want something hard crisp suggest nabiso ginger snaps want cookie soft chewy tastes like combination chocolate oatmeal give try place second order'"
      ]
     },
     "execution_count": 73,
     "metadata": {},
     "output_type": "execute_result"
    }
   ],
   "source": [
    "preprocessed_reviews[1500]"
   ]
  },
  {
   "cell_type": "code",
   "execution_count": 74,
   "metadata": {},
   "outputs": [
    {
     "name": "stdout",
     "output_type": "stream",
     "text": [
      "thirty bucks?\n",
      "Are We Reviewing Our Mistakes Or These Cookies?\n"
     ]
    }
   ],
   "source": [
    "## Similarly doing preprocessing for reviews summary\n",
    "\n",
    "#printing some random values of summary\n",
    "\n",
    "summ_0 = final[\"Summary\"].values[0]\n",
    "print(summ_0)\n",
    "\n",
    "summ_1500 = final[\"Summary\"].values[1500]\n",
    "print(summ_1500)"
   ]
  },
  {
   "cell_type": "code",
   "execution_count": 75,
   "metadata": {},
   "outputs": [
    {
     "name": "stderr",
     "output_type": "stream",
     "text": [
      "100%|█████████████████████████████████████████████████████████████████████████████| 4986/4986 [00:06<00:00, 765.45it/s]\n"
     ]
    }
   ],
   "source": [
    "%matplotlib inline\n",
    "import warnings\n",
    "warnings.filterwarnings(\"ignore\")\n",
    "#removing urls\n",
    "#removing all html tags\n",
    "#contracting words \n",
    "#removing words with number\n",
    "#removing words with special character\n",
    "preprocessed_reviews_summary = []\n",
    "\n",
    "from tqdm import tqdm\n",
    "for summary in tqdm(final[\"Summary\"].values):\n",
    "    summary = re.sub(r\"http\\S+\", \"\" ,summary)\n",
    "    summary = BeautifulSoup(summary,\"lxml\").get_text()\n",
    "    summary = decontracted(summary)\n",
    "    summary = re.sub(\"\\S*\\d\\S*\", \"\", summary).strip()\n",
    "    summary = re.sub('[^A-Za-z]+', ' ', summary)\n",
    "    summary = ' '.join(e.lower() for e in summary.split() if e.lower() not in stopwords)\n",
    "    preprocessed_reviews_summary.append(summary.strip())\n",
    "    "
   ]
  },
  {
   "cell_type": "markdown",
   "metadata": {
    "colab_type": "text",
    "id": "Kxx72u1hLPo1"
   },
   "source": [
    "## Apply Logistic Regression"
   ]
  },
  {
   "cell_type": "markdown",
   "metadata": {
    "colab_type": "text",
    "id": "KDR9We0oLPo2"
   },
   "source": [
    "<ol>\n",
    "    <li><strong>Apply Logistic Regression on these feature sets</strong>\n",
    "        <ul>\n",
    "            <li><font color='red'>SET 1:</font>Review text, preprocessed one converted into vectors using (BOW)</li>\n",
    "            <li><font color='red'>SET 2:</font>Review text, preprocessed one converted into vectors using (TFIDF)</li>\n",
    "            <li><font color='red'>SET 3:</font>Review text, preprocessed one converted into vectors using (AVG W2v)</li>\n",
    "            <li><font color='red'>SET 4:</font>Review text, preprocessed one converted into vectors using (TFIDF W2v)</li>\n",
    "        </ul>\n",
    "    </li>\n",
    "    <br>\n",
    "    <li><strong>Hyper paramter tuning (find best hyper parameters corresponding the algorithm that you choose)</strong>\n",
    "        <ul>\n",
    "    <li>Find the best hyper parameter which will give the maximum <a href='https://www.appliedaicourse.com/course/applied-ai-course-online/lessons/receiver-operating-characteristic-curve-roc-curve-and-auc-1/'>AUC</a> value</li>\n",
    "    <li>Find the best hyper paramter using k-fold cross validation or simple cross validation data</li>\n",
    "    <li>Use gridsearch cv or randomsearch cv or you can also write your own for loops to do this task of hyperparameter tuning</li>          \n",
    "        </ul>\n",
    "    </li>\n",
    "    <br>\n",
    "    <li><strong>Pertubation Test</strong>\n",
    "        <ul>\n",
    "    <li>Get the weights W after fit your model with the data X i.e Train data.</li>\n",
    "    <li>Add a noise to the X (X' = X + e) and get the new data set X' (if X is a sparse\n",
    "matrix, X.data+=e)</li>\n",
    "    <li>Fit the model again on data X' and get the weights W'</li>\n",
    "    <li>Add a small eps value(to eliminate the divisible by zero error) to W and W’ i.e\n",
    "W=W+10^-6 and W’ = W’+10^-6</li>\n",
    "    <li>Now find the % change between W and W' (| (W-W') / (W) |)*100)</li>\n",
    "    <li>Calculate the 0th, 10th, 20th, 30th, ...100th percentiles, and observe any sudden rise in the values of percentage_change_vector</li>\n",
    "    <li> Ex: consider your 99th percentile is 1.3 and your 100th percentiles are 34.6, there is sudden rise from 1.3 to 34.6, now calculate the 99.1, 99.2, 99.3,..., 100th percentile values and get the proper value after which there is sudden rise the values, assume it is 2.5</li>\n",
    "            <li> Print the feature names whose % change is more than a threshold x(in our example it's 2.5)</li>\n",
    "        </ul>\n",
    "    </li>\n",
    "    <br>\n",
    "    <li><strong>Sparsity</strong>\n",
    "        <ul>\n",
    "    <li>Calculate sparsity on weight vector obtained after using L1 regularization</li>\n",
    "        </ul>\n",
    "    </li>\n",
    "    <br><font color='red'>NOTE: Do sparsity and multicollinearity for any one of the vectorizers. Bow or tf-idf is recommended.</font>\n",
    "    <br>\n",
    "    <br>\n",
    "    <li><strong>Feature importance</strong>\n",
    "        <ul>\n",
    "    <li>Get top 10 important features for both positive and negative classes separately.</li>\n",
    "        </ul>\n",
    "    </li>\n",
    "    <br>\n",
    "    <li><strong>Feature engineering</strong>\n",
    "        <ul>\n",
    "    <li>To increase the performance of your model, you can also experiment with with feature engineering like :</li>\n",
    "            <ul>\n",
    "            <li>Taking length of reviews as another feature.</li>\n",
    "            <li>Considering some features from review summary as well.</li>\n",
    "        </ul>\n",
    "        </ul>\n",
    "    </li>\n",
    "    <br>\n",
    "    <li><strong>Representation of results</strong>\n",
    "        <ul>\n",
    "    <li>You need to plot the performance of model both on train data and cross validation data for each hyper parameter, like shown in the figure.\n",
    "    <img src='train_cv_auc.JPG' width=300px></li>\n",
    "    <li>Once after you found the best hyper parameter, you need to train your model with it, and find the AUC on test data and plot the ROC curve on both train and test.\n",
    "    <img src='train_test_auc.JPG' width=300px></li>\n",
    "    <li>Along with plotting ROC curve, you need to print the <a href='https://www.appliedaicourse.com/course/applied-ai-course-online/lessons/confusion-matrix-tpr-fpr-fnr-tnr-1/'>confusion matrix</a> with predicted and original labels of test data points. Please visualize your confusion matrices using <a href='https://seaborn.pydata.org/generated/seaborn.heatmap.html'>seaborn heatmaps.\n",
    "    <img src='confusion_matrix.png' width=300px></li>\n",
    "        </ul>\n",
    "    </li>\n",
    "    <br>\n",
    "    <li><strong>Conclusion</strong>\n",
    "        <ul>\n",
    "    <li>You need to summarize the results at the end of the notebook, summarize it in the table format. To print out a table please refer to this prettytable library<a href='http://zetcode.com/python/prettytable/'>  link</a> \n",
    "        <img src='summary.JPG' width=400px>\n",
    "    </li>\n",
    "        </ul>\n",
    "</ol>"
   ]
  },
  {
   "cell_type": "markdown",
   "metadata": {
    "colab_type": "text",
    "id": "gilb-DOVLPo2"
   },
   "source": [
    "<h4><font color='red'>Note: Data Leakage</font></h4>\n",
    "\n",
    "1. There will be an issue of data-leakage if you vectorize the entire data and then split it into train/cv/test.\n",
    "2. To avoid the issue of data-leakag, make sure to split your data first and then vectorize it. \n",
    "3. While vectorizing your data, apply the method fit_transform() on you train data, and apply the method transform() on cv/test data.\n",
    "4. For more details please go through this <a href='https://soundcloud.com/applied-ai-course/leakage-bow-and-tfidf'>link.</a>"
   ]
  },
  {
   "cell_type": "markdown",
   "metadata": {
    "colab_type": "text",
    "id": "jiYocvSHLPo4"
   },
   "source": [
    "# Applying Logistic Regression"
   ]
  },
  {
   "cell_type": "markdown",
   "metadata": {
    "colab_type": "text",
    "id": "LE_XPVZJLPo4"
   },
   "source": [
    "## [5.1] Logistic Regression on BOW,<font color='red'> SET 1</font>"
   ]
  },
  {
   "cell_type": "markdown",
   "metadata": {},
   "source": [
    "### [5.1.1] Applying Logistic Regression with L2 regularization on BOW,<font color='red'> SET 1</font>"
   ]
  },
  {
   "cell_type": "code",
   "execution_count": 76,
   "metadata": {},
   "outputs": [],
   "source": [
    "%matplotlib inline\n",
    "import warnings\n",
    "warnings.filterwarnings(\"ignore\")\n",
    "\n",
    "import pandas as pd \n",
    "import numpy as np\n",
    "import matplotlib.pyplot as plt\n",
    "from sklearn.metrics import roc_auc_score\n",
    "from sklearn.model_selection import train_test_split\n",
    "from sklearn.linear_model import LogisticRegression\n",
    "from sklearn.feature_extraction.text import CountVectorizer\n",
    "from sklearn.metrics import confusion_matrix\n",
    "from sklearn.feature_extraction.text import TfidfVectorizer \n",
    "from sklearn import model_selection\n",
    "from sklearn.metrics import accuracy_score\n",
    "from sklearn.metrics import precision_score\n",
    "from sklearn.metrics import f1_score\n",
    "from sklearn.metrics import recall_score\n",
    "import math as m"
   ]
  },
  {
   "cell_type": "code",
   "execution_count": 77,
   "metadata": {},
   "outputs": [
    {
     "data": {
      "text/plain": [
       "(4986, 10)"
      ]
     },
     "execution_count": 77,
     "metadata": {},
     "output_type": "execute_result"
    }
   ],
   "source": [
    "final.shape"
   ]
  },
  {
   "cell_type": "code",
   "execution_count": 78,
   "metadata": {
    "scrolled": true
   },
   "outputs": [
    {
     "name": "stdout",
     "output_type": "stream",
     "text": [
      "(4986, 11)\n"
     ]
    },
    {
     "data": {
      "text/html": [
       "<div>\n",
       "<style scoped>\n",
       "    .dataframe tbody tr th:only-of-type {\n",
       "        vertical-align: middle;\n",
       "    }\n",
       "\n",
       "    .dataframe tbody tr th {\n",
       "        vertical-align: top;\n",
       "    }\n",
       "\n",
       "    .dataframe thead th {\n",
       "        text-align: right;\n",
       "    }\n",
       "</style>\n",
       "<table border=\"1\" class=\"dataframe\">\n",
       "  <thead>\n",
       "    <tr style=\"text-align: right;\">\n",
       "      <th></th>\n",
       "      <th>Id</th>\n",
       "      <th>ProductId</th>\n",
       "      <th>UserId</th>\n",
       "      <th>ProfileName</th>\n",
       "      <th>HelpfulnessNumerator</th>\n",
       "      <th>HelpfulnessDenominator</th>\n",
       "      <th>Score</th>\n",
       "      <th>Time</th>\n",
       "      <th>Summary</th>\n",
       "      <th>Text</th>\n",
       "      <th>cleaned_text</th>\n",
       "    </tr>\n",
       "  </thead>\n",
       "  <tbody>\n",
       "    <tr>\n",
       "      <td>2546</td>\n",
       "      <td>2774</td>\n",
       "      <td>B00002NCJC</td>\n",
       "      <td>A196AJHU9EASJN</td>\n",
       "      <td>Alex Chaffee</td>\n",
       "      <td>0</td>\n",
       "      <td>0</td>\n",
       "      <td>1</td>\n",
       "      <td>1282953600</td>\n",
       "      <td>thirty bucks?</td>\n",
       "      <td>Why is this $[...] when the same product is av...</td>\n",
       "      <td>product available victor traps unreal course t...</td>\n",
       "    </tr>\n",
       "    <tr>\n",
       "      <td>2547</td>\n",
       "      <td>2775</td>\n",
       "      <td>B00002NCJC</td>\n",
       "      <td>A13RRPGE79XFFH</td>\n",
       "      <td>reader48</td>\n",
       "      <td>0</td>\n",
       "      <td>0</td>\n",
       "      <td>1</td>\n",
       "      <td>1281052800</td>\n",
       "      <td>Flies Begone</td>\n",
       "      <td>We have used the Victor fly bait for 3 seasons...</td>\n",
       "      <td>used victor fly bait seasons ca not beat great...</td>\n",
       "    </tr>\n",
       "    <tr>\n",
       "      <td>1145</td>\n",
       "      <td>1244</td>\n",
       "      <td>B00002Z754</td>\n",
       "      <td>A3B8RCEI0FXFI6</td>\n",
       "      <td>B G Chase</td>\n",
       "      <td>10</td>\n",
       "      <td>10</td>\n",
       "      <td>1</td>\n",
       "      <td>962236800</td>\n",
       "      <td>WOW Make your own 'slickers' !</td>\n",
       "      <td>I just received my shipment and could hardly w...</td>\n",
       "      <td>received shipment could hardly wait try produc...</td>\n",
       "    </tr>\n",
       "    <tr>\n",
       "      <td>1146</td>\n",
       "      <td>1245</td>\n",
       "      <td>B00002Z754</td>\n",
       "      <td>A29Z5PI9BW2PU3</td>\n",
       "      <td>Robbie</td>\n",
       "      <td>7</td>\n",
       "      <td>7</td>\n",
       "      <td>1</td>\n",
       "      <td>961718400</td>\n",
       "      <td>Great Product</td>\n",
       "      <td>This was a really good idea and the final prod...</td>\n",
       "      <td>really good idea final product outstanding use...</td>\n",
       "    </tr>\n",
       "    <tr>\n",
       "      <td>2942</td>\n",
       "      <td>3204</td>\n",
       "      <td>B000084DVR</td>\n",
       "      <td>A1UGDJP1ZJWVPF</td>\n",
       "      <td>T. Moore \"thoughtful reader\"</td>\n",
       "      <td>1</td>\n",
       "      <td>1</td>\n",
       "      <td>1</td>\n",
       "      <td>1177977600</td>\n",
       "      <td>Good stuff!</td>\n",
       "      <td>I'm glad my 45lb cocker/standard poodle puppy ...</td>\n",
       "      <td>glad cocker standard poodle puppy loves stuff ...</td>\n",
       "    </tr>\n",
       "  </tbody>\n",
       "</table>\n",
       "</div>"
      ],
      "text/plain": [
       "        Id   ProductId          UserId                   ProfileName  \\\n",
       "2546  2774  B00002NCJC  A196AJHU9EASJN                  Alex Chaffee   \n",
       "2547  2775  B00002NCJC  A13RRPGE79XFFH                      reader48   \n",
       "1145  1244  B00002Z754  A3B8RCEI0FXFI6                     B G Chase   \n",
       "1146  1245  B00002Z754  A29Z5PI9BW2PU3                        Robbie   \n",
       "2942  3204  B000084DVR  A1UGDJP1ZJWVPF  T. Moore \"thoughtful reader\"   \n",
       "\n",
       "      HelpfulnessNumerator  HelpfulnessDenominator  Score        Time  \\\n",
       "2546                     0                       0      1  1282953600   \n",
       "2547                     0                       0      1  1281052800   \n",
       "1145                    10                      10      1   962236800   \n",
       "1146                     7                       7      1   961718400   \n",
       "2942                     1                       1      1  1177977600   \n",
       "\n",
       "                             Summary  \\\n",
       "2546                   thirty bucks?   \n",
       "2547                    Flies Begone   \n",
       "1145  WOW Make your own 'slickers' !   \n",
       "1146                   Great Product   \n",
       "2942                     Good stuff!   \n",
       "\n",
       "                                                   Text  \\\n",
       "2546  Why is this $[...] when the same product is av...   \n",
       "2547  We have used the Victor fly bait for 3 seasons...   \n",
       "1145  I just received my shipment and could hardly w...   \n",
       "1146  This was a really good idea and the final prod...   \n",
       "2942  I'm glad my 45lb cocker/standard poodle puppy ...   \n",
       "\n",
       "                                           cleaned_text  \n",
       "2546  product available victor traps unreal course t...  \n",
       "2547  used victor fly bait seasons ca not beat great...  \n",
       "1145  received shipment could hardly wait try produc...  \n",
       "1146  really good idea final product outstanding use...  \n",
       "2942  glad cocker standard poodle puppy loves stuff ...  "
      ]
     },
     "execution_count": 78,
     "metadata": {},
     "output_type": "execute_result"
    }
   ],
   "source": [
    "final[\"cleaned_text\"] = preprocessed_reviews\n",
    "print(final.shape)\n",
    "final.head()\n",
    "\n"
   ]
  },
  {
   "cell_type": "code",
   "execution_count": 79,
   "metadata": {},
   "outputs": [
    {
     "name": "stdout",
     "output_type": "stream",
     "text": [
      "1    4178\n",
      "0     808\n",
      "Name: Score, dtype: int64\n"
     ]
    }
   ],
   "source": [
    "print(final[\"Score\"].value_counts())"
   ]
  },
  {
   "cell_type": "markdown",
   "metadata": {},
   "source": [
    "We can conclude that dataset is imbalanced. We have to balance it using any methods(undersampling,oversampling,etc) for better working of our model."
   ]
  },
  {
   "cell_type": "code",
   "execution_count": 80,
   "metadata": {},
   "outputs": [
    {
     "name": "stdout",
     "output_type": "stream",
     "text": [
      "(1600, 11)\n"
     ]
    },
    {
     "data": {
      "text/html": [
       "<div>\n",
       "<style scoped>\n",
       "    .dataframe tbody tr th:only-of-type {\n",
       "        vertical-align: middle;\n",
       "    }\n",
       "\n",
       "    .dataframe tbody tr th {\n",
       "        vertical-align: top;\n",
       "    }\n",
       "\n",
       "    .dataframe thead th {\n",
       "        text-align: right;\n",
       "    }\n",
       "</style>\n",
       "<table border=\"1\" class=\"dataframe\">\n",
       "  <thead>\n",
       "    <tr style=\"text-align: right;\">\n",
       "      <th></th>\n",
       "      <th>Id</th>\n",
       "      <th>ProductId</th>\n",
       "      <th>UserId</th>\n",
       "      <th>ProfileName</th>\n",
       "      <th>HelpfulnessNumerator</th>\n",
       "      <th>HelpfulnessDenominator</th>\n",
       "      <th>Score</th>\n",
       "      <th>Time</th>\n",
       "      <th>Summary</th>\n",
       "      <th>Text</th>\n",
       "      <th>cleaned_text</th>\n",
       "    </tr>\n",
       "  </thead>\n",
       "  <tbody>\n",
       "    <tr>\n",
       "      <td>3664</td>\n",
       "      <td>3981</td>\n",
       "      <td>B008EMA3AS</td>\n",
       "      <td>A199USG4MU1NWI</td>\n",
       "      <td>rtb521</td>\n",
       "      <td>0</td>\n",
       "      <td>0</td>\n",
       "      <td>1</td>\n",
       "      <td>1350000000</td>\n",
       "      <td>Awesome sauce!</td>\n",
       "      <td>I absolutely love this product!  I use it on c...</td>\n",
       "      <td>absolutely love product use chicken beef veggi...</td>\n",
       "    </tr>\n",
       "    <tr>\n",
       "      <td>1293</td>\n",
       "      <td>1397</td>\n",
       "      <td>B00068PCTU</td>\n",
       "      <td>A2LUSYXY8NXYKW</td>\n",
       "      <td>KareeGirl</td>\n",
       "      <td>0</td>\n",
       "      <td>0</td>\n",
       "      <td>1</td>\n",
       "      <td>1325116800</td>\n",
       "      <td>Best taste ever!</td>\n",
       "      <td>I discovered this product a couple of years ag...</td>\n",
       "      <td>discovered product couple years ago really lik...</td>\n",
       "    </tr>\n",
       "    <tr>\n",
       "      <td>1008</td>\n",
       "      <td>1093</td>\n",
       "      <td>B0025ULYKI</td>\n",
       "      <td>A2MZ43MMIBFL7M</td>\n",
       "      <td>John</td>\n",
       "      <td>5</td>\n",
       "      <td>5</td>\n",
       "      <td>1</td>\n",
       "      <td>1260921600</td>\n",
       "      <td>Great Taste, Okay Crunch</td>\n",
       "      <td>I first had these Uncle Ray's chips a few year...</td>\n",
       "      <td>first uncle ray chips years ago traveling west...</td>\n",
       "    </tr>\n",
       "    <tr>\n",
       "      <td>4637</td>\n",
       "      <td>5035</td>\n",
       "      <td>B001EO6BCM</td>\n",
       "      <td>A3MPJUO2SA3TUM</td>\n",
       "      <td>Joyce</td>\n",
       "      <td>0</td>\n",
       "      <td>0</td>\n",
       "      <td>1</td>\n",
       "      <td>1325203200</td>\n",
       "      <td>Christmas shopping</td>\n",
       "      <td>I've tried many different brands of Virginia p...</td>\n",
       "      <td>tried many different brands virginia peanuts f...</td>\n",
       "    </tr>\n",
       "    <tr>\n",
       "      <td>1996</td>\n",
       "      <td>2178</td>\n",
       "      <td>B002SW7ZOW</td>\n",
       "      <td>A2CIIHVCG2FXSP</td>\n",
       "      <td>YLuvAmazon \"YLuvAmazon\"</td>\n",
       "      <td>2</td>\n",
       "      <td>2</td>\n",
       "      <td>1</td>\n",
       "      <td>1268265600</td>\n",
       "      <td>Fine Quality Tea!</td>\n",
       "      <td>I love this TEA. It has a very smooth taste an...</td>\n",
       "      <td>love tea smooth taste not bitter like kind tea...</td>\n",
       "    </tr>\n",
       "  </tbody>\n",
       "</table>\n",
       "</div>"
      ],
      "text/plain": [
       "        Id   ProductId          UserId              ProfileName  \\\n",
       "3664  3981  B008EMA3AS  A199USG4MU1NWI                   rtb521   \n",
       "1293  1397  B00068PCTU  A2LUSYXY8NXYKW                KareeGirl   \n",
       "1008  1093  B0025ULYKI  A2MZ43MMIBFL7M                     John   \n",
       "4637  5035  B001EO6BCM  A3MPJUO2SA3TUM                    Joyce   \n",
       "1996  2178  B002SW7ZOW  A2CIIHVCG2FXSP  YLuvAmazon \"YLuvAmazon\"   \n",
       "\n",
       "      HelpfulnessNumerator  HelpfulnessDenominator  Score        Time  \\\n",
       "3664                     0                       0      1  1350000000   \n",
       "1293                     0                       0      1  1325116800   \n",
       "1008                     5                       5      1  1260921600   \n",
       "4637                     0                       0      1  1325203200   \n",
       "1996                     2                       2      1  1268265600   \n",
       "\n",
       "                       Summary  \\\n",
       "3664            Awesome sauce!   \n",
       "1293          Best taste ever!   \n",
       "1008  Great Taste, Okay Crunch   \n",
       "4637        Christmas shopping   \n",
       "1996         Fine Quality Tea!   \n",
       "\n",
       "                                                   Text  \\\n",
       "3664  I absolutely love this product!  I use it on c...   \n",
       "1293  I discovered this product a couple of years ag...   \n",
       "1008  I first had these Uncle Ray's chips a few year...   \n",
       "4637  I've tried many different brands of Virginia p...   \n",
       "1996  I love this TEA. It has a very smooth taste an...   \n",
       "\n",
       "                                           cleaned_text  \n",
       "3664  absolutely love product use chicken beef veggi...  \n",
       "1293  discovered product couple years ago really lik...  \n",
       "1008  first uncle ray chips years ago traveling west...  \n",
       "4637  tried many different brands virginia peanuts f...  \n",
       "1996  love tea smooth taste not bitter like kind tea...  "
      ]
     },
     "execution_count": 80,
     "metadata": {},
     "output_type": "execute_result"
    }
   ],
   "source": [
    "#Randomly taking 40000 points from each positive and negative reviews due to time and space complexity.\n",
    "data_pos = final[final[\"Score\"] ==1.0].sample(n=800)\n",
    "data_neg = final[final[\"Score\"] ==0.0].sample(n=800)\n",
    "data_pos.head()\n",
    "\n",
    "#concatenating the positive and negative reviews data \n",
    "final_cleaned_data = pd.concat([data_pos,data_neg],axis=0)\n",
    "\n",
    "print(final_cleaned_data.shape)\n",
    "final_cleaned_data.head()\n"
   ]
  },
  {
   "cell_type": "code",
   "execution_count": 32,
   "metadata": {},
   "outputs": [
    {
     "data": {
      "text/html": [
       "<div>\n",
       "<style scoped>\n",
       "    .dataframe tbody tr th:only-of-type {\n",
       "        vertical-align: middle;\n",
       "    }\n",
       "\n",
       "    .dataframe tbody tr th {\n",
       "        vertical-align: top;\n",
       "    }\n",
       "\n",
       "    .dataframe thead th {\n",
       "        text-align: right;\n",
       "    }\n",
       "</style>\n",
       "<table border=\"1\" class=\"dataframe\">\n",
       "  <thead>\n",
       "    <tr style=\"text-align: right;\">\n",
       "      <th></th>\n",
       "      <th>Id</th>\n",
       "      <th>ProductId</th>\n",
       "      <th>UserId</th>\n",
       "      <th>ProfileName</th>\n",
       "      <th>HelpfulnessNumerator</th>\n",
       "      <th>HelpfulnessDenominator</th>\n",
       "      <th>Score</th>\n",
       "      <th>Time</th>\n",
       "      <th>Summary</th>\n",
       "      <th>Text</th>\n",
       "      <th>cleaned_text</th>\n",
       "    </tr>\n",
       "  </thead>\n",
       "  <tbody>\n",
       "    <tr>\n",
       "      <td>1146</td>\n",
       "      <td>1245</td>\n",
       "      <td>B00002Z754</td>\n",
       "      <td>A29Z5PI9BW2PU3</td>\n",
       "      <td>Robbie</td>\n",
       "      <td>7</td>\n",
       "      <td>7</td>\n",
       "      <td>1</td>\n",
       "      <td>2000-06-23</td>\n",
       "      <td>Great Product</td>\n",
       "      <td>This was a really good idea and the final prod...</td>\n",
       "      <td>really good idea final product outstanding use...</td>\n",
       "    </tr>\n",
       "    <tr>\n",
       "      <td>1173</td>\n",
       "      <td>1273</td>\n",
       "      <td>B000WNJ73Q</td>\n",
       "      <td>A22A7OEB664QSC</td>\n",
       "      <td>Kathleen Stept</td>\n",
       "      <td>3</td>\n",
       "      <td>3</td>\n",
       "      <td>1</td>\n",
       "      <td>2004-08-18</td>\n",
       "      <td>Healthy, non-fattening, just the right size an...</td>\n",
       "      <td>I've been feeding liver biscotti for years. I ...</td>\n",
       "      <td>feeding liver biscotti years looking healthy t...</td>\n",
       "    </tr>\n",
       "    <tr>\n",
       "      <td>1193</td>\n",
       "      <td>1293</td>\n",
       "      <td>B000WNJ73Q</td>\n",
       "      <td>AE5DR1HZNY9CV</td>\n",
       "      <td>Rich Wyzykoski</td>\n",
       "      <td>0</td>\n",
       "      <td>0</td>\n",
       "      <td>1</td>\n",
       "      <td>2005-01-23</td>\n",
       "      <td>Rich J Wyzykoski</td>\n",
       "      <td>A fantastic product for pet treats,great smell...</td>\n",
       "      <td>fantastic product pet treats great smell freez...</td>\n",
       "    </tr>\n",
       "    <tr>\n",
       "      <td>2106</td>\n",
       "      <td>2296</td>\n",
       "      <td>B0001VWE02</td>\n",
       "      <td>AQM74O8Z4FMS0</td>\n",
       "      <td>Sunshine</td>\n",
       "      <td>0</td>\n",
       "      <td>0</td>\n",
       "      <td>0</td>\n",
       "      <td>2005-09-25</td>\n",
       "      <td>Below standard</td>\n",
       "      <td>Too much of the white pith on this orange peel...</td>\n",
       "      <td>much white pith orange peel making product ove...</td>\n",
       "    </tr>\n",
       "    <tr>\n",
       "      <td>2721</td>\n",
       "      <td>2963</td>\n",
       "      <td>B0005YYHQY</td>\n",
       "      <td>A2MWRKME57F53V</td>\n",
       "      <td>Science Geek</td>\n",
       "      <td>7</td>\n",
       "      <td>8</td>\n",
       "      <td>1</td>\n",
       "      <td>2005-10-28</td>\n",
       "      <td>Superlative store bought cookies: very hard to...</td>\n",
       "      <td>Buy these cookies. You will not regret it.&lt;br ...</td>\n",
       "      <td>buy cookies not regret hands best store bought...</td>\n",
       "    </tr>\n",
       "  </tbody>\n",
       "</table>\n",
       "</div>"
      ],
      "text/plain": [
       "        Id   ProductId          UserId     ProfileName  HelpfulnessNumerator  \\\n",
       "1146  1245  B00002Z754  A29Z5PI9BW2PU3          Robbie                     7   \n",
       "1173  1273  B000WNJ73Q  A22A7OEB664QSC  Kathleen Stept                     3   \n",
       "1193  1293  B000WNJ73Q   AE5DR1HZNY9CV  Rich Wyzykoski                     0   \n",
       "2106  2296  B0001VWE02   AQM74O8Z4FMS0        Sunshine                     0   \n",
       "2721  2963  B0005YYHQY  A2MWRKME57F53V    Science Geek                     7   \n",
       "\n",
       "      HelpfulnessDenominator  Score       Time  \\\n",
       "1146                       7      1 2000-06-23   \n",
       "1173                       3      1 2004-08-18   \n",
       "1193                       0      1 2005-01-23   \n",
       "2106                       0      0 2005-09-25   \n",
       "2721                       8      1 2005-10-28   \n",
       "\n",
       "                                                Summary  \\\n",
       "1146                                      Great Product   \n",
       "1173  Healthy, non-fattening, just the right size an...   \n",
       "1193                                   Rich J Wyzykoski   \n",
       "2106                                     Below standard   \n",
       "2721  Superlative store bought cookies: very hard to...   \n",
       "\n",
       "                                                   Text  \\\n",
       "1146  This was a really good idea and the final prod...   \n",
       "1173  I've been feeding liver biscotti for years. I ...   \n",
       "1193  A fantastic product for pet treats,great smell...   \n",
       "2106  Too much of the white pith on this orange peel...   \n",
       "2721  Buy these cookies. You will not regret it.<br ...   \n",
       "\n",
       "                                           cleaned_text  \n",
       "1146  really good idea final product outstanding use...  \n",
       "1173  feeding liver biscotti years looking healthy t...  \n",
       "1193  fantastic product pet treats great smell freez...  \n",
       "2106  much white pith orange peel making product ove...  \n",
       "2721  buy cookies not regret hands best store bought...  "
      ]
     },
     "execution_count": 32,
     "metadata": {},
     "output_type": "execute_result"
    }
   ],
   "source": [
    "#time based splitting of the data\n",
    "#converting time to date and time\n",
    "final_cleaned_data[\"Time\"] = pd.to_datetime(final_cleaned_data[\"Time\"],unit=\"s\")\n",
    "final_cleaned_data = final_cleaned_data.sort_values(by = \"Time\")\n",
    "final_cleaned_data.head()"
   ]
  },
  {
   "cell_type": "code",
   "execution_count": 33,
   "metadata": {},
   "outputs": [],
   "source": [
    "X = np.array(final_cleaned_data.loc[:,[\"cleaned_text\"]])\n",
    "Y = np.array(final_cleaned_data.loc[:,[\"Score\"]])\n",
    "\n",
    "#splitting the data into train and test.\n",
    "X_train,x_test,Y_train,y_test = model_selection.train_test_split(X,Y,test_size = 0.3,random_state= 42)\n",
    "\n",
    "x_train , x_cv,y_train,y_cv = model_selection.train_test_split(X_train,Y_train,test_size =0.3,random_state = 42)\n",
    "\n"
   ]
  },
  {
   "cell_type": "code",
   "execution_count": 34,
   "metadata": {},
   "outputs": [],
   "source": [
    "#converting all into dataframes \n",
    "X_train = pd.DataFrame(X_train,columns = [\"text\"])\n",
    "x_train = pd.DataFrame(x_train,columns = [\"text\"])\n",
    "x_cv = pd.DataFrame(x_cv,columns =[\"text\"])\n",
    "x_test = pd.DataFrame(x_test,columns =[\"text\"])\n",
    "\n",
    "\n",
    "# Initialising the BOW vector representation\n",
    "count_vec = CountVectorizer()\n",
    "count_vec.fit(x_train[\"text\"])\n",
    "X_train_bow = count_vec.transform(X_train[\"text\"])\n",
    "x_train_bow = count_vec.transform(x_train[\"text\"])\n",
    "x_cv_bow = count_vec.transform(x_cv[\"text\"])\n",
    "x_test_bow = count_vec.transform(x_test[\"text\"])\n"
   ]
  },
  {
   "cell_type": "code",
   "execution_count": 35,
   "metadata": {},
   "outputs": [
    {
     "name": "stdout",
     "output_type": "stream",
     "text": [
      "5485\n",
      "[[0 0 0 ... 0 0 0]]\n"
     ]
    }
   ],
   "source": [
    "print(len(count_vec.get_feature_names()))\n",
    "print(X_train_bow[1].toarray())"
   ]
  },
  {
   "cell_type": "markdown",
   "metadata": {},
   "source": [
    "### Hyperparameter Tuning :- <FONT COLOR=\"RED\">GRID SEARCH CV"
   ]
  },
  {
   "cell_type": "code",
   "execution_count": 36,
   "metadata": {},
   "outputs": [
    {
     "name": "stdout",
     "output_type": "stream",
     "text": [
      "The best c value is  1\n"
     ]
    }
   ],
   "source": [
    "#performing cross validation using gridsearchcv\n",
    "from sklearn import model_selection\n",
    "from sklearn.model_selection import GridSearchCV\n",
    "from sklearn.metrics import roc_auc_score\n",
    "roc_auc_train = []\n",
    "roc_auc_cv = []\n",
    "C_range_l2 = [0.001,0.01,0.1,1,10]\n",
    "parameters=dict(C = C_range_l2)\n",
    "clf=GridSearchCV(LogisticRegression(),parameters, scoring='roc_auc', refit=True, cv=5,return_train_score = True)\n",
    "\n",
    "#fitting models\n",
    "#The Roc_Auc Value is calculated using method of thresholds, TPR,FPR.\n",
    "\n",
    "clf.fit(x_train_bow,y_train)\n",
    "probcv=clf.predict_proba(x_cv_bow)[:,1]\n",
    "roc_auc_cv.append(roc_auc_score(y_cv.ravel(),probcv))\n",
    "probtr=clf.predict_proba(x_train_bow)[:,1]    \n",
    "roc_auc_train.append(roc_auc_score(y_train.ravel(),probtr))\n",
    "best_c=clf.best_params_['C']\n",
    "print(\"The best c value is \",best_c)"
   ]
  },
  {
   "cell_type": "code",
   "execution_count": 37,
   "metadata": {},
   "outputs": [
    {
     "name": "stdout",
     "output_type": "stream",
     "text": [
      "[0.79394428 0.83833995 0.85782465 0.85998497 0.85679788]\n",
      "For C_value(Lambda)= 0.7939442805805141 mean test score is 0.001\n",
      "For C_value(Lambda)= 0.8383399483546615 mean test score is 0.01\n",
      "For C_value(Lambda)= 0.8578246540398012 mean test score is 0.1\n",
      "For C_value(Lambda)= 0.8599849687887864 mean test score is 1\n",
      "For C_value(Lambda)= 0.856797875617805 mean test score is 10\n"
     ]
    },
    {
     "data": {
      "image/png": "[encoded data removed]",
      "text/plain": [
       "<Figure size 432x288 with 1 Axes>"
      ]
     },
     "metadata": {},
     "output_type": "display_data"
    }
   ],
   "source": [
    "#plotting error plot\n",
    "mean_test_score = clf.cv_results_['mean_test_score']\n",
    "print(mean_test_score)\n",
    "for i in range(len(mean_test_score)):\n",
    "    print(\"For C_value(Lambda)= {0} mean test score is {1}\".format(mean_test_score[i],C_range_l2[i]))\n",
    "    \n",
    "error = [(1-i)*100 for i in mean_test_score]\n",
    "fig, ax = plt.subplots()\n",
    "ax.plot(C_range_l2, error,c='g')\n",
    "for i, txt in enumerate(np.round(error,3)):\n",
    "    ax.annotate((C_range_l2[i],np.round(txt,3)), (C_range_l2[i],error[i]))\n",
    "plt.grid()\n",
    "plt.title(\"Cross Validation Error for each alpha\")\n",
    "plt.xlabel(\"Alpha i's\")\n",
    "plt.ylabel(\"Error measure\")\n",
    "plt.show()"
   ]
  },
  {
   "cell_type": "markdown",
   "metadata": {},
   "source": [
    "## L2 regularizer ON BOW"
   ]
  },
  {
   "cell_type": "code",
   "execution_count": 38,
   "metadata": {},
   "outputs": [
    {
     "data": {
      "text/plain": [
       "LogisticRegression(C=0.1, class_weight=None, dual=False, fit_intercept=True,\n",
       "                   intercept_scaling=1, l1_ratio=None, max_iter=100,\n",
       "                   multi_class='warn', n_jobs=None, penalty='l2',\n",
       "                   random_state=42, solver='warn', tol=0.0001, verbose=0,\n",
       "                   warm_start=False)"
      ]
     },
     "execution_count": 38,
     "metadata": {},
     "output_type": "execute_result"
    }
   ],
   "source": [
    "#training and fiiting the model\n",
    "bow_model_l2 = LogisticRegression(penalty ='l2',C = 0.1,random_state = 42)\n",
    "bow_model_l2.fit(X_train_bow,Y_train)\n"
   ]
  },
  {
   "cell_type": "markdown",
   "metadata": {},
   "source": [
    "### <font color=\"red\"> PERFORMANCE METRICS"
   ]
  },
  {
   "cell_type": "code",
   "execution_count": 39,
   "metadata": {},
   "outputs": [
    {
     "name": "stdout",
     "output_type": "stream",
     "text": [
      "\n",
      "Train accuracy=96.250000%\n",
      "\n",
      "Test accuracy=8.166667e+01% \n",
      "\n",
      "Train ROC value=0.995299\n",
      "\n",
      "Test ROC value=0.891029\n",
      "\n",
      "precision=81.027668%\n",
      "\n",
      "recall=83.673469%\n",
      "\n",
      "F1-Score=82.329317%\n"
     ]
    }
   ],
   "source": [
    "pred_bow_l2 = bow_model_l2.predict(x_test_bow)\n",
    "#train test accuracy\n",
    "train_acc_bow_l2 = bow_model_l2.score(X_train_bow,Y_train.ravel())\n",
    "test_acc_bow_l2 = bow_model_l2.score(x_test_bow,y_test)\n",
    "\n",
    "#train test ROC value\n",
    "y_scores_bow_train = bow_model_l2.predict_proba(x_train_bow)\n",
    "fpr,tpr,thresholds = roc_curve(y_train,y_scores_bow_train[:,1])     # only positive y_scores to be comsidered\n",
    "roc_auc_train_bow_l2 = auc(fpr,tpr)\n",
    "\n",
    "y_scores_bow_test = bow_model_l2.predict_proba(x_test_bow)\n",
    "fpr_1,tpr_1,thresholds = roc_curve(y_test,y_scores_bow_test[:,1])     # only positive y_scores to be comsidered\n",
    "roc_auc_test_bow_l2= auc(fpr_1,tpr_1)\n",
    "\n",
    "#Precision , recall and f1_score \n",
    "pre_bow_l2 = precision_score(y_test, pred_bow_l2) * 100\n",
    "rec_bow_l2 = recall_score(y_test, pred_bow_l2) * 100\n",
    "f1_bow_l2 = f1_score(y_test, pred_bow_l2) * 100\n",
    "\n",
    "\n",
    "print(\"\\nTrain accuracy=%f%%\"% (train_acc_bow_l2*100))\n",
    "print(\"\\nTest accuracy=%e%% \"% (test_acc_bow_l2*100))\n",
    "print(\"\\nTrain ROC value=%f\"% (roc_auc_train_bow_l2))\n",
    "print(\"\\nTest ROC value=%f\"% (roc_auc_test_bow_l2))\n",
    "print('\\nprecision=%f%%' % (pre_bow_l2))\n",
    "print('\\nrecall=%f%%' % (rec_bow_l2))\n",
    "print('\\nF1-Score=%f%%' % (f1_bow_l2))\n",
    "\n"
   ]
  },
  {
   "cell_type": "code",
   "execution_count": 40,
   "metadata": {},
   "outputs": [
    {
     "data": {
      "image/png": "[encoded data removed]",
      "text/plain": [
       "<Figure size 432x288 with 1 Axes>"
      ]
     },
     "metadata": {},
     "output_type": "display_data"
    }
   ],
   "source": [
    "plt.figure()\n",
    "plt.plot(fpr,tpr,label = \"roc curve for training with area({})\".format(roc_auc_train_bow_l2))\n",
    "plt.plot(fpr_1,tpr_1,label = \"roc curve for test data with area({})\".format(roc_auc_test_bow_l2))\n",
    "plt.legend(loc=\"lower right\")\n",
    "plt.show()"
   ]
  },
  {
   "cell_type": "code",
   "execution_count": 41,
   "metadata": {},
   "outputs": [
    {
     "data": {
      "image/png": "[encoded data removed]",
      "text/plain": [
       "<Figure size 432x288 with 2 Axes>"
      ]
     },
     "metadata": {},
     "output_type": "display_data"
    }
   ],
   "source": [
    "\n",
    "cm_bow = confusion_matrix(y_test,pred_bow_l2)\n",
    "class_label = [\"negative\", \"positive\"]\n",
    "df_cm = pd.DataFrame(cm_bow, index = class_label, columns = class_label)\n",
    "sns.heatmap(df_cm, annot = True, fmt = \"d\")\n",
    "plt.title(\"Confusion Matrix\")\n",
    "plt.xlabel(\"Predicted Label\")\n",
    "plt.ylabel(\"True Label\")\n",
    "plt.show()"
   ]
  },
  {
   "cell_type": "markdown",
   "metadata": {},
   "source": [
    "# Using l1 Regularizer"
   ]
  },
  {
   "cell_type": "markdown",
   "metadata": {},
   "source": [
    "### HYPERPARAMETER TUNING: <font color = \"red\">GRIDSEARCH CV"
   ]
  },
  {
   "cell_type": "code",
   "execution_count": 42,
   "metadata": {},
   "outputs": [
    {
     "name": "stdout",
     "output_type": "stream",
     "text": [
      "The best c value is  1\n"
     ]
    }
   ],
   "source": [
    "#performing cross validation using gridsearchcv\n",
    "from sklearn import model_selection\n",
    "from sklearn.model_selection import GridSearchCV\n",
    "from sklearn.metrics import roc_auc_score\n",
    "roc_auc_train = []\n",
    "roc_auc_cv = []\n",
    "C_range_l1 = [0.001,0.01,0.1,1,10]\n",
    "parameters=dict(C = C_range_l1)\n",
    "clf_1=GridSearchCV(LogisticRegression(penalty ='l1'),parameters, scoring='roc_auc', refit=True, cv=5,return_train_score = True)\n",
    "\n",
    "#fitting models\n",
    "clf_1.fit(x_train_bow,y_train)\n",
    "probcv=clf.predict_proba(x_cv_bow)[:,1]\n",
    "roc_auc_cv.append(roc_auc_score(y_cv.ravel(),probcv))\n",
    "probtr=clf.predict_proba(x_train_bow)[:,1]    \n",
    "roc_auc_train.append(roc_auc_score(y_train.ravel(),probtr))\n",
    "best_c1=clf.best_params_['C']\n",
    "print(\"The best c value is \",best_c1)"
   ]
  },
  {
   "cell_type": "code",
   "execution_count": 43,
   "metadata": {},
   "outputs": [
    {
     "name": "stdout",
     "output_type": "stream",
     "text": [
      "[0.79394428 0.83833995 0.85782465 0.85998497 0.85679788]\n",
      "For C_value(Lambda)= 0.7939442805805141 mean test score is 0.001\n",
      "For C_value(Lambda)= 0.8383399483546615 mean test score is 0.01\n",
      "For C_value(Lambda)= 0.8578246540398012 mean test score is 0.1\n",
      "For C_value(Lambda)= 0.8599849687887864 mean test score is 1\n",
      "For C_value(Lambda)= 0.856797875617805 mean test score is 10\n"
     ]
    },
    {
     "data": {
      "image/png": "[encoded data removed]",
      "text/plain": [
       "<Figure size 432x288 with 1 Axes>"
      ]
     },
     "metadata": {},
     "output_type": "display_data"
    }
   ],
   "source": [
    "#plotting error plot\n",
    "mean_test_score = clf.cv_results_['mean_test_score']\n",
    "print(mean_test_score)\n",
    "for i in range(len(mean_test_score)):\n",
    "    print(\"For C_value(Lambda)= {0} mean test score is {1}\".format(mean_test_score[i],C_range_l1[i]))\n",
    "    \n",
    "error = [(1-i)*100 for i in mean_test_score]\n",
    "fig, ax = plt.subplots()\n",
    "ax.plot(C_range_l1, error,c='g')\n",
    "for i, txt in enumerate(np.round(error,3)):\n",
    "    ax.annotate((C_range_l1[i],np.round(txt,3)), (C_range_l1[i],error[i]))\n",
    "plt.grid()\n",
    "plt.title(\"Cross Validation Error for each alpha\")\n",
    "plt.xlabel(\"Alpha i's\")\n",
    "plt.ylabel(\"Error measure\")\n",
    "plt.show()"
   ]
  },
  {
   "cell_type": "code",
   "execution_count": 44,
   "metadata": {},
   "outputs": [
    {
     "data": {
      "text/plain": [
       "LogisticRegression(C=0.1, class_weight=None, dual=False, fit_intercept=True,\n",
       "                   intercept_scaling=1, l1_ratio=None, max_iter=100,\n",
       "                   multi_class='warn', n_jobs=None, penalty='l1',\n",
       "                   random_state=42, solver='warn', tol=0.0001, verbose=0,\n",
       "                   warm_start=False)"
      ]
     },
     "execution_count": 44,
     "metadata": {},
     "output_type": "execute_result"
    }
   ],
   "source": [
    "#Training and testing the model with obtained value of C values\n",
    "bow_model_l1 = LogisticRegression(penalty ='l1',C = 0.1,random_state = 42)\n",
    "bow_model_l1.fit(X_train_bow,Y_train)\n"
   ]
  },
  {
   "cell_type": "code",
   "execution_count": 45,
   "metadata": {},
   "outputs": [
    {
     "name": "stdout",
     "output_type": "stream",
     "text": [
      "\n",
      "Train accuracy=76.250000%\n",
      "\n",
      "Test accuracy=7.625000e+01% \n",
      "\n",
      "Train ROC value=0.995299%\n",
      "\n",
      "Test ROC value=0.821607%\n",
      "\n",
      "precision=78.854626%\n",
      "\n",
      "recall=73.061224%\n",
      "\n",
      "Fl1-Score=75.847458%\n"
     ]
    }
   ],
   "source": [
    "pred_bow_l1 = bow_model_l1.predict(x_test_bow)\n",
    "#train test accuracy\n",
    "train_acc_bow_l1 = bow_model_l1.score(X_train_bow,Y_train.ravel())\n",
    "test_acc_bow_l1 = bow_model_l1.score(x_test_bow,y_test)\n",
    "\n",
    "#train test ROC value\n",
    "y_scores_bow_train_l1 = bow_model_l1.predict_proba(x_train_bow)\n",
    "fpr,tpr,thresholds = roc_curve(y_train,y_scores_bow_train[:,1])     # only positive y_scores to be comsidered\n",
    "roc_auc_train_bow_l1 = auc(fpr,tpr)\n",
    "\n",
    "y_scores_bow_test = bow_model_l1.predict_proba(x_test_bow)\n",
    "fpr_l1,tpr_l1,thresholds = roc_curve(y_test,y_scores_bow_test[:,1])     # only positive y_scores to be comsidered\n",
    "roc_auc_test_bow_l1 = auc(fpr_l1,tpr_l1)\n",
    "\n",
    "#Precision , recall and fl1_score \n",
    "pre_bow_l1 = precision_score(y_test, pred_bow_l1) * 100\n",
    "rec_bow_l1 = recall_score(y_test, pred_bow_l1) * 100\n",
    "fl_bow_l1 = f1_score(y_test, pred_bow_l1) * 100\n",
    "\n",
    "\n",
    "print(\"\\nTrain accuracy=%f%%\"% (test_acc_bow_l1*100))\n",
    "print(\"\\nTest accuracy=%e%% \"% (test_acc_bow_l1*100))\n",
    "print(\"\\nTrain ROC value=%f%%\"% (roc_auc_train_bow_l1))\n",
    "print(\"\\nTest ROC value=%f%%\"% (roc_auc_test_bow_l1))\n",
    "print('\\nprecision=%f%%' % (pre_bow_l1))\n",
    "print('\\nrecall=%f%%' % (rec_bow_l1))\n",
    "print('\\nFl1-Score=%f%%' % (fl_bow_l1))\n",
    "\n"
   ]
  },
  {
   "cell_type": "code",
   "execution_count": 46,
   "metadata": {},
   "outputs": [
    {
     "data": {
      "text/plain": [
       "array([[187,  48],\n",
       "       [ 66, 179]], dtype=int64)"
      ]
     },
     "execution_count": 46,
     "metadata": {},
     "output_type": "execute_result"
    }
   ],
   "source": [
    "#Confusion Matrix\n",
    "  \n",
    "from sklearn.metrics import confusion_matrix\n",
    "cm_bow_l1 = confusion_matrix(y_test, pred_bow_l1)\n",
    "cm_bow_l1"
   ]
  },
  {
   "cell_type": "code",
   "execution_count": 47,
   "metadata": {},
   "outputs": [
    {
     "data": {
      "image/png": "[encoded data removed]",
      "text/plain": [
       "<Figure size 432x288 with 2 Axes>"
      ]
     },
     "metadata": {},
     "output_type": "display_data"
    }
   ],
   "source": [
    "cm_bow_l1 = confusion_matrix(y_test,pred_bow_l1)\n",
    "class_label = [\"negative\", \"positive\"]\n",
    "df_cm = pd.DataFrame(cm_bow_l1, index = class_label, columns = class_label)\n",
    "sns.heatmap(df_cm, annot = True, fmt = \"d\")\n",
    "plt.title(\"Confusion Matrix\")\n",
    "plt.xlabel(\"Predicted Label\")\n",
    "plt.ylabel(\"True Label\")\n",
    "plt.show()"
   ]
  },
  {
   "cell_type": "code",
   "execution_count": 48,
   "metadata": {},
   "outputs": [
    {
     "name": "stdout",
     "output_type": "stream",
     "text": [
      "43\n",
      "5485\n"
     ]
    }
   ],
   "source": [
    "#Calculating sparsity\n",
    "w = bow_model_l1.coef_[0]\n",
    "sparsity = np.count_nonzero(w)\n",
    "print(sparsity)\n",
    "print(len(w))"
   ]
  },
  {
   "cell_type": "code",
   "execution_count": 49,
   "metadata": {},
   "outputs": [
    {
     "ename": "ModuleNotFoundError",
     "evalue": "No module named 'resource'",
     "output_type": "error",
     "traceback": [
      "\u001b[1;31m---------------------------------------------------------------------------\u001b[0m",
      "\u001b[1;31mModuleNotFoundError\u001b[0m                       Traceback (most recent call last)",
      "\u001b[1;32m<ipython-input-49-aaad36b8a71c>\u001b[0m in \u001b[0;36m<module>\u001b[1;34m()\u001b[0m\n\u001b[1;32m----> 1\u001b[1;33m \u001b[1;32mimport\u001b[0m \u001b[0mresource\u001b[0m\u001b[1;33m\u001b[0m\u001b[0m\n\u001b[0m\u001b[0;32m      2\u001b[0m \u001b[0mresource\u001b[0m\u001b[1;33m.\u001b[0m\u001b[0mgetrusage\u001b[0m\u001b[1;33m(\u001b[0m\u001b[0mresource\u001b[0m\u001b[1;33m.\u001b[0m\u001b[0mRUSAGE_SELF\u001b[0m\u001b[1;33m)\u001b[0m\u001b[1;33m.\u001b[0m\u001b[0mru_maxrss\u001b[0m\u001b[1;33m\u001b[0m\u001b[0m\n",
      "\u001b[1;31mModuleNotFoundError\u001b[0m: No module named 'resource'"
     ]
    }
   ],
   "source": []
  },
  {
   "cell_type": "markdown",
   "metadata": {},
   "source": [
    "### OBSERVATION:"
   ]
  },
  {
   "cell_type": "markdown",
   "metadata": {},
   "source": [
    "The sparsity value is 560.(i.e number of non zero features is only 327 out of ).The advantage of using l1 regularizer is , it convert non-important features into zero vector.)"
   ]
  },
  {
   "cell_type": "markdown",
   "metadata": {},
   "source": [
    "# PERTUBATION TEST"
   ]
  },
  {
   "cell_type": "markdown",
   "metadata": {},
   "source": [
    "This test is to check whether the features are collinear or not. \n",
    "#### CONCEPT : If the median value of percentage change vector is high implies that features are collinear otherwise non collinear. if non-collinear then weight vectors can be used to get the top features."
   ]
  },
  {
   "cell_type": "code",
   "execution_count": 1,
   "metadata": {},
   "outputs": [
    {
     "ename": "NameError",
     "evalue": "name 'bow_model_l2' is not defined",
     "output_type": "error",
     "traceback": [
      "\u001b[1;31m---------------------------------------------------------------------------\u001b[0m",
      "\u001b[1;31mNameError\u001b[0m                                 Traceback (most recent call last)",
      "\u001b[1;32m<ipython-input-1-8134d43a46c4>\u001b[0m in \u001b[0;36m<module>\u001b[1;34m()\u001b[0m\n\u001b[1;32m----> 1\u001b[1;33m \u001b[0mpre_w\u001b[0m \u001b[1;33m=\u001b[0m \u001b[0mbow_model_l2\u001b[0m\u001b[1;33m.\u001b[0m\u001b[0mcoef_\u001b[0m\u001b[1;33m[\u001b[0m\u001b[1;36m0\u001b[0m\u001b[1;33m]\u001b[0m\u001b[1;33m\u001b[0m\u001b[0m\n\u001b[0m\u001b[0;32m      2\u001b[0m \u001b[0mpre_w\u001b[0m \u001b[1;33m+=\u001b[0m \u001b[1;36m10\u001b[0m\u001b[1;33m**\u001b[0m\u001b[1;33m-\u001b[0m\u001b[1;36m6\u001b[0m\u001b[1;33m\u001b[0m\u001b[0m\n\u001b[0;32m      3\u001b[0m \u001b[1;33m\u001b[0m\u001b[0m\n\u001b[0;32m      4\u001b[0m \u001b[0mX_train_bow\u001b[0m \u001b[1;33m=\u001b[0m \u001b[0mX_train_bow\u001b[0m\u001b[1;33m.\u001b[0m\u001b[0mtoarray\u001b[0m\u001b[1;33m(\u001b[0m\u001b[1;33m)\u001b[0m\u001b[1;33m\u001b[0m\u001b[0m\n\u001b[0;32m      5\u001b[0m \u001b[0mX_train_bow\u001b[0m \u001b[1;33m=\u001b[0m \u001b[0mX_train_bow\u001b[0m\u001b[1;33m.\u001b[0m\u001b[0mastype\u001b[0m\u001b[1;33m(\u001b[0m\u001b[0mfloat\u001b[0m\u001b[1;33m)\u001b[0m\u001b[1;33m\u001b[0m\u001b[0m\n",
      "\u001b[1;31mNameError\u001b[0m: name 'bow_model_l2' is not defined"
     ]
    }
   ],
   "source": [
    "pre_w = bow_model_l2.coef_[0]\n",
    "pre_w += 10**-6\n",
    "\n",
    "X_train_bow = X_train_bow.toarray()\n",
    "X_train_bow = X_train_bow.astype(float)\n",
    "noise_data = X_train_bow\n",
    "noise_data +=0.01\n",
    "\n",
    "clf = LogisticRegression(C = best_c)\n",
    "clf.fit(noise_data,Y_train)\n",
    "\n",
    "new_w = clf.coef_[0]\n",
    "new_w +=10**-6\n",
    "\n",
    "\n"
   ]
  },
  {
   "cell_type": "code",
   "execution_count": 49,
   "metadata": {},
   "outputs": [],
   "source": [
    "#finding the change in percentage value \n",
    "def Weight_change(Pre_weights,New_weights):\n",
    "    per_cng=[]\n",
    "    for i in range(len(pre_w)):\n",
    "        per = a[i]*100/pre_w[i]\n",
    "        per_cng.append(per)\n",
    "    return per_cng\n",
    "    \n",
    "# to calculate percentage change for both weights\n",
    "a = new_w - pre_w  \n",
    "per_change = Weight_change(pre_w,new_w)"
   ]
  },
  {
   "cell_type": "code",
   "execution_count": 50,
   "metadata": {},
   "outputs": [
    {
     "name": "stdout",
     "output_type": "stream",
     "text": [
      "73.403766833797\n"
     ]
    }
   ],
   "source": [
    "import math as m\n",
    "per_change = abs(np.array(per_change))\n",
    "print(np.median(per_change))"
   ]
  },
  {
   "cell_type": "markdown",
   "metadata": {},
   "source": [
    "The median value of the percentage change vector is 0.46% i.e: the value is very less implying that the features are NON COLLINEAR"
   ]
  },
  {
   "cell_type": "code",
   "execution_count": 51,
   "metadata": {},
   "outputs": [
    {
     "name": "stdout",
     "output_type": "stream",
     "text": [
      "[ 99.1  99.2  99.3  99.4  99.5  99.6  99.7  99.8  99.9 100. ]\n",
      "[9300.302222808887, 10568.371246496665, 11309.332783409967, 12265.418309122977, 13424.457053127006, 14364.419893018436, 16474.7777076888, 31027.60160842448, 91385.3480749347, 689926.3954904546]\n"
     ]
    },
    {
     "data": {
      "image/png": "[encoded data removed]",
      "text/plain": [
       "<Figure size 432x288 with 1 Axes>"
      ]
     },
     "metadata": {},
     "output_type": "display_data"
    }
   ],
   "source": [
    "per_change = np.array(per_change)\n",
    "percentiles = []\n",
    "a = np.arange(99.1,100.0,0.1)\n",
    "print(a)\n",
    "for i in a:\n",
    "    b=np.percentile(per_change,i)\n",
    "    percentiles.append(b)\n",
    "print(percentiles)    \n",
    "plt.plot(a,np.array(percentiles))    \n",
    "plt.scatter(a,np.array(percentiles))   \n",
    "plt.show()"
   ]
  },
  {
   "cell_type": "markdown",
   "metadata": {},
   "source": [
    "####  The features are non collinear. Hence, the feature importance can be obtained using the weight vectors "
   ]
  },
  {
   "cell_type": "code",
   "execution_count": 52,
   "metadata": {},
   "outputs": [
    {
     "name": "stdout",
     "output_type": "stream",
     "text": [
      "(17611,)\n"
     ]
    },
    {
     "data": {
      "text/html": [
       "<div>\n",
       "<style scoped>\n",
       "    .dataframe tbody tr th:only-of-type {\n",
       "        vertical-align: middle;\n",
       "    }\n",
       "\n",
       "    .dataframe tbody tr th {\n",
       "        vertical-align: top;\n",
       "    }\n",
       "\n",
       "    .dataframe thead th {\n",
       "        text-align: right;\n",
       "    }\n",
       "</style>\n",
       "<table border=\"1\" class=\"dataframe\">\n",
       "  <thead>\n",
       "    <tr style=\"text-align: right;\">\n",
       "      <th></th>\n",
       "      <th>weight</th>\n",
       "      <th>feature</th>\n",
       "    </tr>\n",
       "  </thead>\n",
       "  <tbody>\n",
       "    <tr>\n",
       "      <td>0</td>\n",
       "      <td>-0.161610</td>\n",
       "      <td>aa</td>\n",
       "    </tr>\n",
       "    <tr>\n",
       "      <td>1</td>\n",
       "      <td>0.019624</td>\n",
       "      <td>aaa</td>\n",
       "    </tr>\n",
       "    <tr>\n",
       "      <td>2</td>\n",
       "      <td>-0.027124</td>\n",
       "      <td>aachen</td>\n",
       "    </tr>\n",
       "    <tr>\n",
       "      <td>3</td>\n",
       "      <td>0.003631</td>\n",
       "      <td>aadp</td>\n",
       "    </tr>\n",
       "    <tr>\n",
       "      <td>4</td>\n",
       "      <td>0.103684</td>\n",
       "      <td>aamazon</td>\n",
       "    </tr>\n",
       "  </tbody>\n",
       "</table>\n",
       "</div>"
      ],
      "text/plain": [
       "     weight  feature\n",
       "0 -0.161610       aa\n",
       "1  0.019624      aaa\n",
       "2 -0.027124   aachen\n",
       "3  0.003631     aadp\n",
       "4  0.103684  aamazon"
      ]
     },
     "execution_count": 52,
     "metadata": {},
     "output_type": "execute_result"
    }
   ],
   "source": [
    "#extracting all features name obtained from BOW count vectorizer.\n",
    "f = count_vec.get_feature_names()\n",
    "f = np.array(f)\n",
    "print(f.shape)\n",
    "\n",
    "#extracting coefficients from logistic regression model(i.e - The values of w and b)\n",
    "cof = bow_model.coef_[0]\n",
    "cof= np.array(cof)\n",
    "cof.shape\n",
    "cof = cof.T\n",
    "cof.shape\n",
    "\n",
    "##creating a dataframe for features and it's corresponding weight vector\n",
    "weight_vector = pd.DataFrame({'weight':cof,'feature':f})\n",
    "weight_vector.head()"
   ]
  },
  {
   "cell_type": "markdown",
   "metadata": {},
   "source": [
    "#### Top 10 important features of positive class from<font color='red'> SET 1</font>"
   ]
  },
  {
   "cell_type": "code",
   "execution_count": 53,
   "metadata": {},
   "outputs": [
    {
     "data": {
      "text/html": [
       "<div>\n",
       "<style scoped>\n",
       "    .dataframe tbody tr th:only-of-type {\n",
       "        vertical-align: middle;\n",
       "    }\n",
       "\n",
       "    .dataframe tbody tr th {\n",
       "        vertical-align: top;\n",
       "    }\n",
       "\n",
       "    .dataframe thead th {\n",
       "        text-align: right;\n",
       "    }\n",
       "</style>\n",
       "<table border=\"1\" class=\"dataframe\">\n",
       "  <thead>\n",
       "    <tr style=\"text-align: right;\">\n",
       "      <th></th>\n",
       "      <th>weight</th>\n",
       "      <th>feature</th>\n",
       "    </tr>\n",
       "  </thead>\n",
       "  <tbody>\n",
       "    <tr>\n",
       "      <td>17334</td>\n",
       "      <td>2.142878</td>\n",
       "      <td>wonderful</td>\n",
       "    </tr>\n",
       "    <tr>\n",
       "      <td>5368</td>\n",
       "      <td>2.097212</td>\n",
       "      <td>excellent</td>\n",
       "    </tr>\n",
       "    <tr>\n",
       "      <td>4052</td>\n",
       "      <td>1.998955</td>\n",
       "      <td>delicious</td>\n",
       "    </tr>\n",
       "    <tr>\n",
       "      <td>5350</td>\n",
       "      <td>1.835145</td>\n",
       "      <td>exactly</td>\n",
       "    </tr>\n",
       "    <tr>\n",
       "      <td>500</td>\n",
       "      <td>1.810816</td>\n",
       "      <td>amazing</td>\n",
       "    </tr>\n",
       "  </tbody>\n",
       "</table>\n",
       "</div>"
      ],
      "text/plain": [
       "         weight    feature\n",
       "17334  2.142878  wonderful\n",
       "5368   2.097212  excellent\n",
       "4052   1.998955  delicious\n",
       "5350   1.835145    exactly\n",
       "500    1.810816    amazing"
      ]
     },
     "execution_count": 53,
     "metadata": {},
     "output_type": "execute_result"
    }
   ],
   "source": [
    "# to get top 20 positive and negative features \n",
    "weight_vector = weight_vector.sort_values(\"weight\", axis = 0 ,ascending = False, kind = 'quicksort',na_position = 'last')\n",
    "weight_vector.head()"
   ]
  },
  {
   "cell_type": "code",
   "execution_count": 54,
   "metadata": {},
   "outputs": [
    {
     "name": "stdout",
     "output_type": "stream",
     "text": [
      "   weight     feature\n",
      " 2.142878   wonderful\n",
      " 2.097212   excellent\n",
      " 1.998955   delicious\n",
      " 1.835145     exactly\n",
      " 1.810816     amazing\n",
      " 1.759537     pleased\n",
      " 1.666253      highly\n",
      " 1.638550     perfect\n",
      " 1.623569      smooth\n",
      " 1.579115        best\n",
      " 1.572880        beat\n",
      " 1.549943       yummy\n",
      " 1.537010      slight\n",
      " 1.505903        nice\n",
      " 1.495546   beautiful\n",
      " 1.466568       great\n",
      " 1.367348   fantastic\n",
      " 1.337546     overall\n",
      " 1.327257        coat\n",
      " 1.318571  affordable\n"
     ]
    }
   ],
   "source": [
    "print(weight_vector.head(20).to_string(index = False))"
   ]
  },
  {
   "cell_type": "markdown",
   "metadata": {},
   "source": [
    "#### Top 10 important features of negative class from<font color='red'> SET 1</font>"
   ]
  },
  {
   "cell_type": "code",
   "execution_count": 55,
   "metadata": {},
   "outputs": [
    {
     "name": "stdout",
     "output_type": "stream",
     "text": [
      "   weight         feature\n",
      "-1.434352           threw\n",
      "-1.460758          caused\n",
      "-1.534957           shame\n",
      "-1.540206    disappointed\n",
      "-1.562984           stick\n",
      "-1.579504           bland\n",
      "-1.586722           nasty\n",
      "-1.631386           awful\n",
      "-1.643334            weak\n",
      "-1.663272   unfortunately\n",
      "-1.694105      disgusting\n",
      "-1.712684          return\n",
      "-1.796873         pricing\n",
      "-1.841476        terrible\n",
      "-1.906638        horrible\n",
      "-2.000301  disappointment\n",
      "-2.018719           trash\n",
      "-2.333895           worst\n",
      "-2.394414   disappointing\n",
      "-2.408162             rip\n"
     ]
    }
   ],
   "source": [
    "print(weight_vector.tail(20).to_string(index = False))"
   ]
  },
  {
   "cell_type": "markdown",
   "metadata": {},
   "source": [
    "## Pretty table "
   ]
  },
  {
   "cell_type": "code",
   "execution_count": 56,
   "metadata": {},
   "outputs": [
    {
     "name": "stdout",
     "output_type": "stream",
     "text": [
      "+------+-------------+---------+----------------+---------------+--------------+-----------+-------------+\n",
      "|  CV  | Regularizer | C_value | Train_error(%) | Test_error(%) | Precision(%) | Recall(%) | F1-Score(%) |\n",
      "+------+-------------+---------+----------------+---------------+--------------+-----------+-------------+\n",
      "| Grid |      L1     |   0.1   |      4.63      |     14.56     |    85.32     |   85.28   |     85.3    |\n",
      "| Grid |      L2     |   0.1   |      1.86      |     14.33     |    85.48     |   85.59   |    85.53    |\n",
      "+------+-------------+---------+----------------+---------------+--------------+-----------+-------------+\n"
     ]
    }
   ],
   "source": [
    "from prettytable import PrettyTable\n",
    "x = PrettyTable()\n",
    "\n",
    "reg1 = 'L1'\n",
    "reg2 = 'L2'\n",
    "cv = 'Grid'\n",
    "x.field_names = [\"CV\",\"Regularizer\",\"C_value\",\"Train_error(%)\",\"Test_error(%)\",\"Precision(%)\",\"Recall(%)\",\"F1-Score(%)\"]\n",
    "\n",
    "\n",
    "err1_train = np.around(100 - train_acc_bow1*100 , decimals = 2)\n",
    "err1_test =  np.around(100 - test_acc_bow1*100 , decimals = 2)\n",
    "pre1 = np.around(pre1, decimals = 2)\n",
    "rec1 = np.around(rec1, decimals = 2)\n",
    "f11 = np.around(f11, decimals = 2)\n",
    "\n",
    "\n",
    "err2_train = np.around(100 - train_acc_bow2*100, decimals = 2)\n",
    "err2_test =  np.around(100 - test_acc_bow2*100, decimals = 2)\n",
    "pre2 = np.around(pre2, decimals = 2)\n",
    "rec2 = np.around(rec2, decimals = 2)\n",
    "f12 = np.around(f12, decimals = 2)\n",
    "\n",
    "x.add_row([cv,reg1,best_c,err1_train,err1_test,pre1,rec1,f11])\n",
    "x.add_row([cv,reg2,best_c,err2_train,err2_test,pre2,rec2,f12])\n",
    "\n",
    "print(x)"
   ]
  },
  {
   "cell_type": "markdown",
   "metadata": {},
   "source": [
    "The test error obtained is high as compared to train error. Even the test error is high but it's not too high , Hence this model is sensible for classification."
   ]
  },
  {
   "cell_type": "markdown",
   "metadata": {
    "colab_type": "text",
    "id": "nKn3VXcZLPpN"
   },
   "source": [
    "## [5.2] Logistic Regression on TFIDF,<font color='red'> SET 2</font>"
   ]
  },
  {
   "cell_type": "markdown",
   "metadata": {
    "colab_type": "text",
    "id": "naTBSzm6LPpN"
   },
   "source": [
    "### [5.2.1] Applying Logistic Regression with L2 regularization on TFIDF,<font color='red'> SET 2</font>"
   ]
  },
  {
   "cell_type": "code",
   "execution_count": 57,
   "metadata": {
    "colab": {},
    "colab_type": "code",
    "id": "PEhaagXXLPpS"
   },
   "outputs": [
    {
     "data": {
      "text/plain": [
       "(87773, 11)"
      ]
     },
     "execution_count": 57,
     "metadata": {},
     "output_type": "execute_result"
    }
   ],
   "source": [
    "final.shape\n"
   ]
  },
  {
   "cell_type": "code",
   "execution_count": 58,
   "metadata": {},
   "outputs": [
    {
     "data": {
      "text/plain": [
       "(15000, 11)"
      ]
     },
     "execution_count": 58,
     "metadata": {},
     "output_type": "execute_result"
    }
   ],
   "source": [
    "#using cleaned data we did in BOW \n",
    "final_cleaned_data.shape"
   ]
  },
  {
   "cell_type": "code",
   "execution_count": 59,
   "metadata": {},
   "outputs": [],
   "source": [
    "#splitting the data into train and test\n",
    "X_tfidf = np.array(final_cleaned_data.loc[:,[\"cleaned_text\"]])\n",
    "Y_tfidf = np.array(final_cleaned_data.loc[:,[\"Score\"]])\n",
    "X_train,x_test,Y_train,y_test = model_selection.train_test_split(X_tfidf,Y_tfidf,test_size = 0.3,random_state= 42)\n",
    "x_train , x_cv,y_train,y_cv = model_selection.train_test_split(X_train,Y_train,test_size =0.3,random_state = 42)\n"
   ]
  },
  {
   "cell_type": "code",
   "execution_count": 69,
   "metadata": {},
   "outputs": [
    {
     "name": "stdout",
     "output_type": "stream",
     "text": [
      "(7350, 6628)\n",
      "(7350, 1)\n"
     ]
    }
   ],
   "source": [
    "#converting all into dataframes \n",
    "X_train = pd.DataFrame(X_train,columns = [\"text\"])\n",
    "x_train = pd.DataFrame(x_train,columns = [\"text\"])\n",
    "x_cv = pd.DataFrame(x_cv,columns =[\"text\"])\n",
    "x_test = pd.DataFrame(x_test,columns =[\"text\"])\n",
    "\n",
    "# Initialising the TFIDF vetorizer\n",
    "tfidf_vec = TfidfVectorizer(min_df = 10,ngram_range =(1,2))\n",
    "tfidf_vec.fit(X_train[\"text\"])\n",
    "X_train_tfidf = tfidf_vec.transform(X_train[\"text\"])\n",
    "x_train_tfidf = tfidf_vec.transform(x_train[\"text\"])\n",
    "x_cv_tfidf = tfidf_vec.transform(x_cv[\"text\"])\n",
    "x_test_tfidf = tfidf_vec.transform(x_test[\"text\"])\n",
    "#X_train = count_vec.transform(X_train[\"text\"])\n",
    "print(x_train_tfidf.shape)\n",
    "print(y_train.shape)"
   ]
  },
  {
   "cell_type": "markdown",
   "metadata": {},
   "source": [
    "#### HYPERPARAMETER TUNING: <FONT COLOR=\"RED\"> GRIDSEARCHCV"
   ]
  },
  {
   "cell_type": "code",
   "execution_count": 70,
   "metadata": {},
   "outputs": [
    {
     "name": "stdout",
     "output_type": "stream",
     "text": [
      "The best c value is  10\n"
     ]
    }
   ],
   "source": [
    "#performing cross validation using gridsearchcv\n",
    "from sklearn import model_selection\n",
    "from sklearn.model_selection import GridSearchCV\n",
    "from sklearn.metrics import roc_auc_score\n",
    "roc_auc_train = []\n",
    "roc_auc_cv = []\n",
    "C_range = [0.001,0.01,0.1,1,10]\n",
    "parameters=dict(C = C_range)\n",
    "clf=GridSearchCV(LogisticRegression(),parameters, scoring='roc_auc', refit=True, cv=5,return_train_score = True)\n",
    "\n",
    "#fitting models\n",
    "clf.fit(x_train_tfidf,y_train)\n",
    "probcv=clf.predict_proba(x_cv_tfidf)[:,1]\n",
    "roc_auc_cv.append(roc_auc_score(y_cv.ravel(),probcv))\n",
    "probtr=clf.predict_proba(x_train_tfidf)[:,1]    \n",
    "roc_auc_train.append(roc_auc_score(y_train.ravel(),probtr))\n",
    "best_c=clf.best_params_['C']\n",
    "print(\"The best c value is \",best_c)"
   ]
  },
  {
   "cell_type": "code",
   "execution_count": 71,
   "metadata": {},
   "outputs": [
    {
     "data": {
      "image/png": "[encoded data removed]",
      "text/plain": [
       "<Figure size 432x288 with 1 Axes>"
      ]
     },
     "metadata": {},
     "output_type": "display_data"
    }
   ],
   "source": [
    "import matplotlib.pyplot as plt \n",
    "\n",
    "error = [(1-i)*100 for i in clf.cv_results_['mean_test_score']]\n",
    "plt.plot(C_range, error)\n",
    "plt.title('Error plot')\n",
    "plt.xlabel('lambda value')\n",
    "plt.ylabel('Test_Error')\n",
    "plt.show()"
   ]
  },
  {
   "cell_type": "code",
   "execution_count": 72,
   "metadata": {},
   "outputs": [
    {
     "data": {
      "text/plain": [
       "LogisticRegression(C=10, class_weight=None, dual=False, fit_intercept=True,\n",
       "                   intercept_scaling=1, l1_ratio=None, max_iter=100,\n",
       "                   multi_class='warn', n_jobs=None, penalty='l2',\n",
       "                   random_state=42, solver='warn', tol=0.0001, verbose=0,\n",
       "                   warm_start=False)"
      ]
     },
     "execution_count": 72,
     "metadata": {},
     "output_type": "execute_result"
    }
   ],
   "source": [
    "#fitting the model\n",
    "tfidf_model = LogisticRegression(penalty ='l2',C = 10,random_state = 42)\n",
    "tfidf_model.fit(X_train_tfidf,Y_train)\n"
   ]
  },
  {
   "cell_type": "markdown",
   "metadata": {},
   "source": [
    "#### <FONT COLOR=\"RED\"> PERFORMANCE METRICS"
   ]
  },
  {
   "cell_type": "code",
   "execution_count": 73,
   "metadata": {},
   "outputs": [
    {
     "name": "stdout",
     "output_type": "stream",
     "text": [
      "\n",
      "Train accuracy=97.723810%\n",
      "\n",
      "Test accuracy=8.813333e+01% \n",
      "\n",
      "Train ROC value=0.950702\n",
      "\n",
      "Test ROC value=0.922319\n",
      "\n",
      "precision=88.187556%\n",
      "\n",
      "recall=87.791741%\n",
      "\n",
      "F1-Score=87.989204%\n"
     ]
    }
   ],
   "source": [
    "pred_tfidf = tfidf_model.predict(x_test_tfidf)\n",
    "\n",
    "#train test accuracy\n",
    "train_acc_tfidf2 = tfidf_model.score(X_train_tfidf,Y_train.ravel())\n",
    "test_acc_tfidf2 = tfidf_model.score(x_test_tfidf,y_test)\n",
    "\n",
    "#train test ROC value\n",
    "y_scores_tfidf_train = tfidf_model.predict_proba(x_train_tfidf)\n",
    "fpr,tpr,thresholds = roc_curve(y_train,y_scores_tfidf_train[:,1])     # only positive y_scores to be comsidered\n",
    "roc_auc = auc(fpr,tpr)\n",
    "\n",
    "y_scores_tfidf_test = tfidf_model.predict_proba(x_test_tfidf)\n",
    "fpr_1,tpr_1,thresholds = roc_curve(y_test,y_scores_tfidf_test[:,1])     # only positive y_scores to be comsidered\n",
    "roc_auc = auc(fpr_1,tpr_1)\n",
    "\n",
    "#Precision , recall and f1_score \n",
    "pre2 = precision_score(y_test, pred_tfidf) * 100\n",
    "rec2 = recall_score(y_test, pred_tfidf) * 100\n",
    "f12 = f1_score(y_test, pred_tfidf) * 100\n",
    "\n",
    "\n",
    "print(\"\\nTrain accuracy=%f%%\"% (train_acc_tfidf2*100))\n",
    "print(\"\\nTest accuracy=%e%% \"% (test_acc_tfidf2*100))\n",
    "print(\"\\nTrain ROC value=%f\"% (roc_auc))\n",
    "print(\"\\nTest ROC value=%f\"% (roc_auc_1))\n",
    "print('\\nprecision=%f%%' % (pre2))\n",
    "print('\\nrecall=%f%%' % (rec2))\n",
    "print('\\nF1-Score=%f%%' % (f12))\n",
    "\n"
   ]
  },
  {
   "cell_type": "code",
   "execution_count": 74,
   "metadata": {},
   "outputs": [
    {
     "data": {
      "image/png": "[encoded data removed]",
      "text/plain": [
       "<Figure size 432x288 with 1 Axes>"
      ]
     },
     "metadata": {},
     "output_type": "display_data"
    }
   ],
   "source": [
    "plt.figure()\n",
    "plt.plot(fpr,tpr,label = \"roc curve for training with area({})\".format(roc_auc))\n",
    "plt.plot(fpr_1,tpr_1,label = \"roc curve for test data with area({})\".format(roc_auc_1))\n",
    "plt.legend(loc=\"lower right\")\n",
    "plt.show()"
   ]
  },
  {
   "cell_type": "code",
   "execution_count": 75,
   "metadata": {},
   "outputs": [
    {
     "data": {
      "text/plain": [
       "array([[2010,  262],\n",
       "       [ 272, 1956]], dtype=int64)"
      ]
     },
     "execution_count": 75,
     "metadata": {},
     "output_type": "execute_result"
    }
   ],
   "source": [
    " #Confusion Matrix\n",
    "pred_tfidf = tfidf_model.predict(x_test_tfidf)    \n",
    "from sklearn.metrics import confusion_matrix\n",
    "cm_tfidf = confusion_matrix(y_test, pred_tfidf)\n",
    "cm_tfidf"
   ]
  },
  {
   "cell_type": "code",
   "execution_count": 76,
   "metadata": {},
   "outputs": [
    {
     "data": {
      "image/png": "[encoded data removed]",
      "text/plain": [
       "<Figure size 432x288 with 2 Axes>"
      ]
     },
     "metadata": {},
     "output_type": "display_data"
    }
   ],
   "source": [
    "class_label = [\"negative\", \"positive\"]\n",
    "df_cm = pd.DataFrame(cm_tfidf, index = class_label, columns = class_label)\n",
    "sns.heatmap(df_cm, annot = True, fmt = \"d\")\n",
    "plt.title(\"Confusion Matrix\")\n",
    "plt.xlabel(\"Predicted Label\")\n",
    "plt.ylabel(\"True Label\")\n",
    "plt.show()"
   ]
  },
  {
   "cell_type": "markdown",
   "metadata": {},
   "source": [
    "### OBSERVATIONS:\n",
    "1. The TPR and TNR value is high as compared to FPR and FNR value.<br>\n",
    "2. The ROC value for test data is greater than 0.5 (i.e 0.85). Hence, our model is sensible and good for classification.\n",
    "3. The Precision, Recall and F_1 score is high. Hence, model is predicting more correct responses."
   ]
  },
  {
   "cell_type": "markdown",
   "metadata": {},
   "source": [
    "### PERBUTAION TEST FOR TFIDF"
   ]
  },
  {
   "cell_type": "markdown",
   "metadata": {},
   "source": [
    "This test is to check whether the features are collinear or not. \n",
    "#### CONCEPT : If the median value of percentage change vector is high implies that features are collinear otherwise non collinear. if non-collinear then weight vectors can be used to get the top features."
   ]
  },
  {
   "cell_type": "markdown",
   "metadata": {},
   "source": [
    "### <FONT COLOR=\"RED\"> Gridsearchcv"
   ]
  },
  {
   "cell_type": "code",
   "execution_count": 77,
   "metadata": {},
   "outputs": [],
   "source": [
    "pre_w = tfidf_model.coef_[0]\n",
    "pre_w += 10**-6\n",
    "\n",
    "X_train_tfidf = X_train_tfidf.toarray()\n",
    "X_train_tfidf = X_train_tfidf.astype(float)\n",
    "noise_data = X_train_tfidf\n",
    "noise_data +=0.01\n",
    "\n",
    "clf = LogisticRegression(C = best_c)\n",
    "clf.fit(noise_data,Y_train)\n",
    "\n",
    "new_w = clf.coef_[0]\n",
    "new_w +=10**-6\n",
    "\n"
   ]
  },
  {
   "cell_type": "code",
   "execution_count": 78,
   "metadata": {},
   "outputs": [],
   "source": [
    "#finding the change in percentage value \n",
    "def Weight_change(Pre_weights,New_weights):\n",
    "    per_cng=[]\n",
    "    for i in range(len(pre_w)):\n",
    "        per = a[i]*100/pre_w[i]\n",
    "        per_cng.append(per)\n",
    "    return per_cng\n",
    "    \n",
    "# to calculate percentage change for both weights\n",
    "a = new_w - pre_w  \n",
    "per_change = Weight_change(pre_w,new_w)"
   ]
  },
  {
   "cell_type": "code",
   "execution_count": 79,
   "metadata": {},
   "outputs": [
    {
     "name": "stdout",
     "output_type": "stream",
     "text": [
      "0.6055080350329358\n"
     ]
    }
   ],
   "source": [
    "import math as m\n",
    "per_change = abs(np.array(per_change))\n",
    "print(np.median(per_change))"
   ]
  },
  {
   "cell_type": "markdown",
   "metadata": {},
   "source": [
    "The median value is low. Hence , the feature are non collinear."
   ]
  },
  {
   "cell_type": "code",
   "execution_count": 80,
   "metadata": {
    "scrolled": true
   },
   "outputs": [
    {
     "name": "stdout",
     "output_type": "stream",
     "text": [
      "[ 99.1  99.2  99.3  99.4  99.5  99.6  99.7  99.8  99.9 100. ]\n",
      "[34.03971343854851, 43.42322249506391, 47.50971418296987, 55.75706739887896, 64.43142235822417, 68.67994057978966, 83.09150049656206, 111.1860767830668, 207.03100659155928, 4217.343972233539]\n"
     ]
    },
    {
     "data": {
      "image/png": "[encoded data removed]",
      "text/plain": [
       "<Figure size 432x288 with 1 Axes>"
      ]
     },
     "metadata": {},
     "output_type": "display_data"
    }
   ],
   "source": [
    "per_change = np.array(per_change)\n",
    "percentiles = []\n",
    "a = np.arange(99.1,100.0,0.1)\n",
    "print(a)\n",
    "for i in a:\n",
    "    b=np.percentile(per_change,i)\n",
    "    percentiles.append(b)\n",
    "print(percentiles)    \n",
    "plt.plot(a,np.array(percentiles))    \n",
    "plt.scatter(a,np.array(percentiles))   \n",
    "plt.show()"
   ]
  },
  {
   "cell_type": "markdown",
   "metadata": {},
   "source": [
    "### [5.2.3] Feature Importance on TFIDF,<font color='red'> SET 2</font>"
   ]
  },
  {
   "cell_type": "code",
   "execution_count": 81,
   "metadata": {},
   "outputs": [
    {
     "name": "stdout",
     "output_type": "stream",
     "text": [
      "(6628,)\n"
     ]
    },
    {
     "data": {
      "text/html": [
       "<div>\n",
       "<style scoped>\n",
       "    .dataframe tbody tr th:only-of-type {\n",
       "        vertical-align: middle;\n",
       "    }\n",
       "\n",
       "    .dataframe tbody tr th {\n",
       "        vertical-align: top;\n",
       "    }\n",
       "\n",
       "    .dataframe thead th {\n",
       "        text-align: right;\n",
       "    }\n",
       "</style>\n",
       "<table border=\"1\" class=\"dataframe\">\n",
       "  <thead>\n",
       "    <tr style=\"text-align: right;\">\n",
       "      <th></th>\n",
       "      <th>weight</th>\n",
       "      <th>feature</th>\n",
       "    </tr>\n",
       "  </thead>\n",
       "  <tbody>\n",
       "    <tr>\n",
       "      <td>0</td>\n",
       "      <td>-0.155002</td>\n",
       "      <td>ability</td>\n",
       "    </tr>\n",
       "    <tr>\n",
       "      <td>1</td>\n",
       "      <td>1.429269</td>\n",
       "      <td>able</td>\n",
       "    </tr>\n",
       "    <tr>\n",
       "      <td>2</td>\n",
       "      <td>-0.793825</td>\n",
       "      <td>able eat</td>\n",
       "    </tr>\n",
       "    <tr>\n",
       "      <td>3</td>\n",
       "      <td>1.112469</td>\n",
       "      <td>able enjoy</td>\n",
       "    </tr>\n",
       "    <tr>\n",
       "      <td>4</td>\n",
       "      <td>1.523293</td>\n",
       "      <td>able find</td>\n",
       "    </tr>\n",
       "  </tbody>\n",
       "</table>\n",
       "</div>"
      ],
      "text/plain": [
       "     weight     feature\n",
       "0 -0.155002     ability\n",
       "1  1.429269        able\n",
       "2 -0.793825    able eat\n",
       "3  1.112469  able enjoy\n",
       "4  1.523293   able find"
      ]
     },
     "execution_count": 81,
     "metadata": {},
     "output_type": "execute_result"
    }
   ],
   "source": [
    "#extracting all features name obtained from tfidf count vectorizer.\n",
    "f = tfidf_vec.get_feature_names()\n",
    "f = np.array(f)\n",
    "print(f.shape)\n",
    "\n",
    "#extracting coefficients from logistic regression model(i.e - The values of w and b)\n",
    "cof = tfidf_model.coef_[0]\n",
    "cof= np.array(cof)\n",
    "cof.shape\n",
    "cof = cof.T\n",
    "cof.shape\n",
    "\n",
    "##creating a dataframe for features and it's corresponding weight vector\n",
    "weight_vector = pd.DataFrame({'weight':cof,'feature':f})\n",
    "weight_vector.head()"
   ]
  },
  {
   "cell_type": "code",
   "execution_count": 82,
   "metadata": {},
   "outputs": [
    {
     "data": {
      "text/html": [
       "<div>\n",
       "<style scoped>\n",
       "    .dataframe tbody tr th:only-of-type {\n",
       "        vertical-align: middle;\n",
       "    }\n",
       "\n",
       "    .dataframe tbody tr th {\n",
       "        vertical-align: top;\n",
       "    }\n",
       "\n",
       "    .dataframe thead th {\n",
       "        text-align: right;\n",
       "    }\n",
       "</style>\n",
       "<table border=\"1\" class=\"dataframe\">\n",
       "  <thead>\n",
       "    <tr style=\"text-align: right;\">\n",
       "      <th></th>\n",
       "      <th>weight</th>\n",
       "      <th>feature</th>\n",
       "    </tr>\n",
       "  </thead>\n",
       "  <tbody>\n",
       "    <tr>\n",
       "      <td>2444</td>\n",
       "      <td>10.944389</td>\n",
       "      <td>great</td>\n",
       "    </tr>\n",
       "    <tr>\n",
       "      <td>1367</td>\n",
       "      <td>10.299934</td>\n",
       "      <td>delicious</td>\n",
       "    </tr>\n",
       "    <tr>\n",
       "      <td>420</td>\n",
       "      <td>8.797491</td>\n",
       "      <td>best</td>\n",
       "    </tr>\n",
       "    <tr>\n",
       "      <td>6475</td>\n",
       "      <td>8.505665</td>\n",
       "      <td>wonderful</td>\n",
       "    </tr>\n",
       "    <tr>\n",
       "      <td>1791</td>\n",
       "      <td>8.488256</td>\n",
       "      <td>excellent</td>\n",
       "    </tr>\n",
       "  </tbody>\n",
       "</table>\n",
       "</div>"
      ],
      "text/plain": [
       "         weight    feature\n",
       "2444  10.944389      great\n",
       "1367  10.299934  delicious\n",
       "420    8.797491       best\n",
       "6475   8.505665  wonderful\n",
       "1791   8.488256  excellent"
      ]
     },
     "execution_count": 82,
     "metadata": {},
     "output_type": "execute_result"
    }
   ],
   "source": [
    "# to get top 20 positive and negative features \n",
    "weight_vector = weight_vector.sort_values(\"weight\", axis = 0 ,ascending = False, kind = 'quicksort',na_position = 'last')\n",
    "weight_vector.head()"
   ]
  },
  {
   "cell_type": "markdown",
   "metadata": {},
   "source": [
    "#### Top 10 important features of positive class from<font color='red'> SET 2</font>"
   ]
  },
  {
   "cell_type": "code",
   "execution_count": 83,
   "metadata": {},
   "outputs": [
    {
     "name": "stdout",
     "output_type": "stream",
     "text": [
      "    weight           feature\n",
      " 10.944389             great\n",
      " 10.299934         delicious\n",
      "  8.797491              best\n",
      "  8.505665         wonderful\n",
      "  8.488256         excellent\n",
      "  8.079078           perfect\n",
      "  7.932406              good\n",
      "  7.899415  not disappointed\n",
      "  7.769914              love\n",
      "  7.460308              nice\n",
      "  7.313077             loves\n",
      "  6.848862           amazing\n",
      "  6.542765           exactly\n",
      "  6.453281           pleased\n",
      "  6.183079             yummy\n",
      "  6.006350  highly recommend\n",
      "  5.703808             tasty\n",
      "  5.614015            smooth\n",
      "  5.440910          favorite\n",
      "  5.400462            highly\n"
     ]
    }
   ],
   "source": [
    "# to get top 20 positive and negative features \n",
    "print(weight_vector.head(20).to_string(index=False))\n",
    "#weight_vector.iloc[0:10,0:2]"
   ]
  },
  {
   "cell_type": "markdown",
   "metadata": {},
   "source": [
    "#### Top 10 important features of negative class from<font color='red'> SET 2</font>"
   ]
  },
  {
   "cell_type": "code",
   "execution_count": 84,
   "metadata": {},
   "outputs": [
    {
     "name": "stdout",
     "output_type": "stream",
     "text": [
      "   weight         feature\n",
      "-6.003777           stick\n",
      "-6.050040   not recommend\n",
      "-6.121525    not purchase\n",
      "-6.132028           trash\n",
      "-6.394697  definitely not\n",
      "-6.433475          return\n",
      "-6.466293           awful\n",
      "-6.594975             rip\n",
      "-6.659504           bland\n",
      "-6.772899         not buy\n",
      "-6.942547        terrible\n",
      "-6.985115  disappointment\n",
      "-7.063280   unfortunately\n",
      "-7.345898        horrible\n",
      "-7.684399           worst\n",
      "-7.888788   disappointing\n",
      "-7.993195       not worth\n",
      "-8.692260    disappointed\n",
      "-8.771967        not good\n",
      "-8.968454             not\n"
     ]
    }
   ],
   "source": [
    "print(weight_vector.tail(20).to_string(index = False))"
   ]
  },
  {
   "cell_type": "code",
   "execution_count": 85,
   "metadata": {},
   "outputs": [
    {
     "name": "stdout",
     "output_type": "stream",
     "text": [
      "+------+-------------+---------+----------------+---------------+--------------+-----------+-------------+\n",
      "|  CV  | Regularizer | C_value | Train_error(%) | Test_error(%) | Precision(%) | Recall(%) | F1-Score(%) |\n",
      "+------+-------------+---------+----------------+---------------+--------------+-----------+-------------+\n",
      "| Grid |      L2     |    10   |      1.86      |     14.33     |    88.19     |   87.79   |    87.99    |\n",
      "+------+-------------+---------+----------------+---------------+--------------+-----------+-------------+\n"
     ]
    }
   ],
   "source": [
    "from prettytable import PrettyTable\n",
    "x = PrettyTable()\n",
    "\n",
    "\n",
    "reg2 = 'L2'\n",
    "cv = 'Grid'\n",
    "x.field_names = [\"CV\",\"Regularizer\",\"C_value\",\"Train_error(%)\",\"Test_error(%)\",\"Precision(%)\",\"Recall(%)\",\"F1-Score(%)\"]\n",
    "\n",
    "\n",
    "\n",
    "\n",
    "err2_train = np.around(100 - train_acc_bow2*100, decimals = 2)\n",
    "err2_test =  np.around(100 - test_acc_bow2*100, decimals = 2)\n",
    "pre2 = np.around(pre2, decimals = 2)\n",
    "rec2 = np.around(rec2, decimals = 2)\n",
    "f12 = np.around(f12, decimals = 2)\n",
    "\n",
    "\n",
    "x.add_row([cv,reg2,best_c,err2_train,err2_test,pre2,rec2,f12])\n",
    "\n",
    "print(x)"
   ]
  },
  {
   "cell_type": "markdown",
   "metadata": {},
   "source": [
    "Comparing with BOW model , TFIDF model is better and sensible."
   ]
  },
  {
   "cell_type": "markdown",
   "metadata": {
    "colab_type": "text",
    "id": "sqYadGOgLPpi"
   },
   "source": [
    "## [5.3] Logistic Regression on AVG W2V,<font color='red'> SET 3</font>"
   ]
  },
  {
   "cell_type": "markdown",
   "metadata": {
    "colab_type": "text",
    "id": "O_8Gu2SfLPpn"
   },
   "source": [
    "### [5.3.2] Applying Logistic Regression with L2 regularization on AVG W2V,<font color='red'> SET 3</font>"
   ]
  },
  {
   "cell_type": "code",
   "execution_count": 86,
   "metadata": {
    "colab": {},
    "colab_type": "code",
    "id": "Zy3s4jk1LPpn"
   },
   "outputs": [],
   "source": [
    "#converting all the dataframe into list.\n",
    "\n",
    "X_train_w2v = X_train[\"text\"].tolist() \n",
    "x_train_w2v = x_train[\"text\"].tolist()\n",
    "x_cv_w2v = x_cv[\"text\"].tolist()\n",
    "x_test_w2v = x_test[\"text\"].tolist()"
   ]
  },
  {
   "cell_type": "code",
   "execution_count": 87,
   "metadata": {},
   "outputs": [],
   "source": [
    "#storing  all the datasets into one list\n",
    "data_for_w2v = []\n",
    "data_for_w2v.append(X_train_w2v)\n",
    "data_for_w2v.append(x_train_w2v)\n",
    "data_for_w2v.append(x_cv_w2v)\n",
    "data_for_w2v.append(x_test_w2v)"
   ]
  },
  {
   "cell_type": "code",
   "execution_count": 88,
   "metadata": {},
   "outputs": [],
   "source": [
    "# Train your own Word2Vec model using your own text corpus\n",
    "\n",
    "#appending the text for train test crossval in one list.\n",
    "#note: \n",
    "    # index 0 implies x_1 data\n",
    "    #index 1 implies x_train data\n",
    "    # index 2 implies x_crossval data\n",
    "    #index 3 implies x_test data\n",
    "    \n",
    "\n",
    "count = 0\n",
    "list_of_sentance_for_w2v = []\n",
    "for i in data_for_w2v:\n",
    "    locals()['list_of_sentance_{}'.format(count)] = []\n",
    "    for sentance in i:\n",
    "        locals()['list_of_sentance_{}'.format(count)].append(sentance.split())\n",
    "        \n",
    "    count +=1\n",
    "    \n",
    "list_of_sentance_for_w2v.append(list_of_sentance_0) \n",
    "list_of_sentance_for_w2v.append(list_of_sentance_1) \n",
    "list_of_sentance_for_w2v.append(list_of_sentance_2) \n",
    "list_of_sentance_for_w2v.append(list_of_sentance_3)\n"
   ]
  },
  {
   "cell_type": "code",
   "execution_count": 89,
   "metadata": {},
   "outputs": [
    {
     "name": "stdout",
     "output_type": "stream",
     "text": [
      "Word2Vec(vocab=6438, size=50, alpha=0.025)\n",
      "Word2Vec(vocab=5326, size=50, alpha=0.025)\n",
      "Word2Vec(vocab=3206, size=50, alpha=0.025)\n",
      "Word2Vec(vocab=4003, size=50, alpha=0.025)\n",
      "no\n"
     ]
    }
   ],
   "source": [
    "#Training w2v model / converting texts into vectors.\n",
    "\n",
    "counts = 0\n",
    "for i in list_of_sentance_for_w2v:\n",
    "    is_your_ram_gt_16g=False\n",
    "    want_to_use_google_w2v = False\n",
    "    want_to_train_w2v = True\n",
    "\n",
    "    if want_to_train_w2v:\n",
    "        # min_count = 5 considers only words that occured atleast 5 times\n",
    "         # min_count = 5 considers only words that occured atleast 5 times\n",
    "        #w2v_model=Word2Vec(list_of_sentance,min_count=5,size=50, workers=4)\n",
    "   \n",
    "        locals()['w2v_model_{}'.format(counts)]=Word2Vec(i,min_count=5,size=50, workers=4)  # models for train and test data\n",
    "        locals()['w2v_words_{}'.format(counts)] = list(locals()['w2v_model_{}'.format(counts)].wv.vocab) #words of train and test data\n",
    "    \n",
    "    \n",
    "    elif want_to_use_google_w2v and is_your_ram_gt_16g:\n",
    "        if os.path.isfile('GoogleNews-vectors-negative300.bin'):\n",
    "            w2v_model=KeyedVectors.load_word2vec_format('GoogleNews-vectors-negative300.bin', binary=True)\n",
    "        \n",
    "        else:\n",
    "            print(\"you don't have gogole's word2vec file, keep want_to_train_w2v = True, to train your own w2v \")\n",
    "    counts+=1            \n",
    "            \n",
    "print(w2v_model_0)    # x_1 data\n",
    "print(w2v_model_1)  #x_train data\n",
    "print(w2v_model_2)    #x_crossval data\n",
    "print(w2v_model_3)  #x_test data\n",
    "print(w2v_words_1[6])\n"
   ]
  },
  {
   "cell_type": "code",
   "execution_count": 90,
   "metadata": {},
   "outputs": [
    {
     "name": "stderr",
     "output_type": "stream",
     "text": [
      "100%|███████████████████████████████████████████████████████████████████████████| 10500/10500 [00:27<00:00, 382.92it/s]\n",
      "100%|█████████████████████████████████████████████████████████████████████████████| 7350/7350 [00:13<00:00, 529.93it/s]\n",
      "100%|█████████████████████████████████████████████████████████████████████████████| 3150/3150 [00:04<00:00, 731.51it/s]\n",
      "100%|█████████████████████████████████████████████████████████████████████████████| 4500/4500 [00:07<00:00, 594.80it/s]\n"
     ]
    }
   ],
   "source": [
    "# average Word2Vec\n",
    "# compute average word2vec for each review.\n",
    "# the avg-w2v for each sentence/review is stored in this list= []; # the avg-w2v for each sentence/review is stored in this list = []; # the avg-w2v for each sentence/review is stored in this list\n",
    "\n",
    "\n",
    "k=0\n",
    "vectors_for_avg_w2v = []\n",
    "for i in list_of_sentance_for_w2v:\n",
    "    locals()['data_{}'.format(k)] = []\n",
    "    for sent in tqdm(i):\n",
    "       # for each review/sentence\n",
    "        sent_vec= np.zeros(50) # as word vectors are of zero length 50, you might need to change this to 300 if you use google's w2v\n",
    "        cnt_words =0; # num of words with a valid vector in the sentence/review\n",
    "        for word in sent: # for each word in a review/sentence\n",
    "            if word in locals()['w2v_words_{}'.format(k)]:\n",
    "                vec = locals()['w2v_model_{}'.format(k)].wv[word]\n",
    "                sent_vec+= vec\n",
    "                cnt_words += 1\n",
    "        if cnt_words != 0:\n",
    "            sent_vec /= cnt_words\n",
    "        locals()['data_{}'.format(k)].append(sent_vec)\n",
    "    vectors_for_avg_w2v.append(locals()['data_{}'.format(k)]) \n",
    "    k+=1\n",
    "            \n",
    "           \n",
    "##NOTE: vectors_for_avg_w2v list contains vectors representation of x_1, x_train , x_crossval , x_test.            \n",
    "         \n",
    "     "
   ]
  },
  {
   "cell_type": "markdown",
   "metadata": {},
   "source": [
    "#### HYPER PARAMETER: <FONT COLOR=\"RED\"> GRID SEARCH CV\n"
   ]
  },
  {
   "cell_type": "code",
   "execution_count": 91,
   "metadata": {},
   "outputs": [
    {
     "name": "stdout",
     "output_type": "stream",
     "text": [
      "The best c value is  10\n"
     ]
    }
   ],
   "source": [
    "#performing cross validation using gridsearchcv\n",
    "from sklearn import model_selection\n",
    "from sklearn.model_selection import GridSearchCV\n",
    "from sklearn.metrics import roc_auc_score\n",
    "roc_auc_train = []\n",
    "roc_auc_cv = []\n",
    "C_range = [0.001,0.01,0.1,1,10]\n",
    "parameters=dict(C = C_range)\n",
    "clf=GridSearchCV(LogisticRegression(),parameters, scoring='roc_auc', refit=True, cv=5,return_train_score = True)\n",
    "\n",
    "#fitting models\n",
    "clf.fit(vectors_for_avg_w2v[1],y_train)\n",
    "probcv=clf.predict_proba(vectors_for_avg_w2v[2])[:,1]\n",
    "roc_auc_cv.append(roc_auc_score(y_cv.ravel(),probcv))\n",
    "probtr=clf.predict_proba(vectors_for_avg_w2v[1])[:,1]    \n",
    "roc_auc_train.append(roc_auc_score(y_train.ravel(),probtr))\n",
    "best_c=clf.best_params_['C']\n",
    "print(\"The best c value is \",best_c)"
   ]
  },
  {
   "cell_type": "code",
   "execution_count": 92,
   "metadata": {},
   "outputs": [
    {
     "data": {
      "image/png": "[encoded data removed]",
      "text/plain": [
       "<Figure size 432x288 with 1 Axes>"
      ]
     },
     "metadata": {},
     "output_type": "display_data"
    }
   ],
   "source": [
    "import matplotlib.pyplot as plt \n",
    "\n",
    "error = [(1-i)*100 for i in clf.cv_results_['mean_test_score']]\n",
    "plt.plot(C_range, error)\n",
    "plt.title('Error plot')\n",
    "plt.xlabel('lambda value')\n",
    "plt.ylabel('Test_Error')\n",
    "plt.show()"
   ]
  },
  {
   "cell_type": "code",
   "execution_count": 93,
   "metadata": {},
   "outputs": [
    {
     "data": {
      "text/plain": [
       "LogisticRegression(C=10, class_weight=None, dual=False, fit_intercept=True,\n",
       "                   intercept_scaling=1, l1_ratio=None, max_iter=100,\n",
       "                   multi_class='warn', n_jobs=None, penalty='l2',\n",
       "                   random_state=42, solver='warn', tol=0.0001, verbose=0,\n",
       "                   warm_start=False)"
      ]
     },
     "execution_count": 93,
     "metadata": {},
     "output_type": "execute_result"
    }
   ],
   "source": [
    "#FITTING THE MODEL\n",
    "w2v_avg_model = LogisticRegression(penalty ='l2',C = 10,random_state = 42)\n",
    "w2v_avg_model.fit(vectors_for_avg_w2v[1],y_train)\n"
   ]
  },
  {
   "cell_type": "markdown",
   "metadata": {},
   "source": [
    "#### <font color=\"red\">PERFORMANCE METRICS."
   ]
  },
  {
   "cell_type": "code",
   "execution_count": 94,
   "metadata": {},
   "outputs": [
    {
     "name": "stdout",
     "output_type": "stream",
     "text": [
      "\n",
      "Train accuracy=60.333333%\n",
      "\n",
      "Test accuracy=5.048889e+01% \n",
      "\n",
      "Train ROC value=0.550272\n",
      "\n",
      "Test ROC value=0.922319\n",
      "\n",
      "precision=0.000000%\n",
      "\n",
      "recall=0.000000%\n",
      "\n",
      "F1-Score=0.000000%\n"
     ]
    }
   ],
   "source": [
    "pred_w2v = w2v_avg_model.predict(vectors_for_avg_w2v[3])\n",
    "\n",
    "#train test accuracy\n",
    "train_acc_w2v2 = w2v_avg_model.score(vectors_for_avg_w2v[0],Y_train.ravel())\n",
    "test_acc_w2v2 = w2v_avg_model.score(vectors_for_avg_w2v[3],y_test)\n",
    "\n",
    "#train test ROC value\n",
    "y_scores_w2v_train = w2v_avg_model.predict_proba(vectors_for_avg_w2v[1])\n",
    "fpr,tpr,thresholds = roc_curve(y_train,y_scores_w2v_train[:,1])     # only positive y_scores to be comsidered\n",
    "roc_auc = auc(fpr,tpr)\n",
    "\n",
    "y_scores_w2v_test = w2v_avg_model.predict_proba(vectors_for_avg_w2v[3])\n",
    "fpr_1,tpr_1,thresholds = roc_curve(y_test,y_scores_w2v_test[:,1])     # only positive y_scores to be comsidered\n",
    "roc_auc = auc(fpr_1,tpr_1)\n",
    "\n",
    "#Precision , recall and f1_score \n",
    "pre2 = precision_score(y_test, pred_w2v) * 100\n",
    "rec2 = recall_score(y_test, pred_w2v) * 100\n",
    "f12 = f1_score(y_test, pred_w2v) * 100\n",
    "\n",
    "\n",
    "print(\"\\nTrain accuracy=%f%%\"% (train_acc_w2v2*100))\n",
    "print(\"\\nTest accuracy=%e%% \"% (test_acc_w2v2*100))\n",
    "print(\"\\nTrain ROC value=%f\"% (roc_auc))\n",
    "print(\"\\nTest ROC value=%f\"% (roc_auc_1))\n",
    "print('\\nprecision=%f%%' % (pre2))\n",
    "print('\\nrecall=%f%%' % (rec2))\n",
    "print('\\nF1-Score=%f%%' % (f12))\n",
    "\n"
   ]
  },
  {
   "cell_type": "code",
   "execution_count": 95,
   "metadata": {},
   "outputs": [
    {
     "data": {
      "image/png": "[encoded data removed]",
      "text/plain": [
       "<Figure size 432x288 with 1 Axes>"
      ]
     },
     "metadata": {},
     "output_type": "display_data"
    }
   ],
   "source": [
    "plt.figure()\n",
    "plt.plot(fpr,tpr,label = \"roc curve for training with area({})\".format(roc_auc))\n",
    "plt.plot(fpr_1,tpr_1,label = \"roc curve for test data with area({})\".format(roc_auc_1))\n",
    "plt.legend(loc=\"lower right\")\n",
    "plt.show()"
   ]
  },
  {
   "cell_type": "code",
   "execution_count": 96,
   "metadata": {},
   "outputs": [
    {
     "data": {
      "text/plain": [
       "array([[2272,    0],\n",
       "       [2228,    0]], dtype=int64)"
      ]
     },
     "execution_count": 96,
     "metadata": {},
     "output_type": "execute_result"
    }
   ],
   "source": [
    "#Confusion Matrix\n",
    "pred_avg_w2v = w2v_avg_model.predict(vectors_for_avg_w2v[3])    \n",
    "from sklearn.metrics import confusion_matrix\n",
    "cm_avg_w2v = confusion_matrix(y_test, pred_avg_w2v)\n",
    "cm_avg_w2v"
   ]
  },
  {
   "cell_type": "code",
   "execution_count": 97,
   "metadata": {},
   "outputs": [
    {
     "data": {
      "image/png": "[encoded data removed]",
      "text/plain": [
       "<Figure size 432x288 with 2 Axes>"
      ]
     },
     "metadata": {},
     "output_type": "display_data"
    }
   ],
   "source": [
    "class_label = [\"negative\", \"positive\"]\n",
    "df_cm = pd.DataFrame(cm_avg_w2v, index = class_label, columns = class_label)\n",
    "sns.heatmap(df_cm, annot = True, fmt = \"d\")\n",
    "plt.title(\"Confusion Matrix\")\n",
    "plt.xlabel(\"Predicted Label\")\n",
    "plt.ylabel(\"True Label\")\n",
    "plt.show()"
   ]
  },
  {
   "cell_type": "markdown",
   "metadata": {},
   "source": [
    "### OBSERVATIONS:\n",
    "1. The FPR value is very high while the TNR value is zero.<br>\n",
    "2. The ROC value for test data is approx 0.5.Hence, The W2V model is not good enough for classification."
   ]
  },
  {
   "cell_type": "code",
   "execution_count": 98,
   "metadata": {},
   "outputs": [
    {
     "name": "stdout",
     "output_type": "stream",
     "text": [
      "+------+-------------+---------+----------------+---------------+--------------+-----------+-------------+\n",
      "|  CV  | Regularizer | C_value | Train_error(%) | Test_error(%) | Precision(%) | Recall(%) | F1-Score(%) |\n",
      "+------+-------------+---------+----------------+---------------+--------------+-----------+-------------+\n",
      "| Grid |      L2     |    10   |     39.67      |     49.51     |     0.0      |    0.0    |     0.0     |\n",
      "+------+-------------+---------+----------------+---------------+--------------+-----------+-------------+\n"
     ]
    }
   ],
   "source": [
    "from prettytable import PrettyTable\n",
    "x = PrettyTable()\n",
    "\n",
    "\n",
    "reg2 = 'L2'\n",
    "cv = 'Grid'\n",
    "x.field_names = [\"CV\",\"Regularizer\",\"C_value\",\"Train_error(%)\",\"Test_error(%)\",\"Precision(%)\",\"Recall(%)\",\"F1-Score(%)\"]\n",
    "\n",
    "\n",
    "\n",
    "\n",
    "err2_train = np.around(100 - train_acc_w2v2*100, decimals = 2)\n",
    "err2_test =  np.around(100 - test_acc_w2v2*100, decimals = 2)\n",
    "pre2 = np.around(pre2, decimals = 2)\n",
    "rec2 = np.around(rec2, decimals = 2)\n",
    "f12 = np.around(f12, decimals = 2)\n",
    "\n",
    "\n",
    "x.add_row([cv,reg2,best_c,err2_train,err2_test,pre2,rec2,f12])\n",
    "\n",
    "print(x)"
   ]
  },
  {
   "cell_type": "markdown",
   "metadata": {},
   "source": [
    "The TRAIN and TEST error is very high."
   ]
  },
  {
   "cell_type": "markdown",
   "metadata": {
    "colab_type": "text",
    "id": "pdXTwVIPLPpp"
   },
   "source": [
    "## [5.4] Logistic Regression on TFIDF W2V,<font color='red'> SET 4</font>"
   ]
  },
  {
   "cell_type": "markdown",
   "metadata": {
    "colab_type": "text",
    "id": "ynUK2tYDLPps"
   },
   "source": [
    "### [5.4.2] Applying Logistic Regression with L2 regularization on TFIDF W2V,<font color='red'> SET 4</font>"
   ]
  },
  {
   "cell_type": "code",
   "execution_count": 99,
   "metadata": {
    "colab": {},
    "colab_type": "code",
    "id": "hVYuiXl2LPpt"
   },
   "outputs": [],
   "source": [
    "# CONVERTING TEST DATA SET INTO TFIDF W2V REPRESENTATION.\n",
    "model = TfidfVectorizer()\n",
    "tf_idf_matrix = model.fit_transform(x_test_w2v)\n",
    "# we are converting a dictionary with word as a key, and the idf as a value\n",
    "dictionary = dict(zip(model.get_feature_names(), list(model.idf_)))"
   ]
  },
  {
   "cell_type": "code",
   "execution_count": 100,
   "metadata": {},
   "outputs": [
    {
     "name": "stderr",
     "output_type": "stream",
     "text": [
      "100%|██████████████████████████████████████████████████████████████████████████████| 4500/4500 [03:21<00:00, 22.34it/s]\n"
     ]
    }
   ],
   "source": [
    "# TF-IDF weighted Word2Vec\n",
    "tfidf_feat_1 = model.get_feature_names() # tfidf words/col-names\n",
    "# final_tf_idf is the sparse matrix with row= sentence, col=word and cell_val = tfidf\n",
    "\n",
    "x_test_tfidf_w2v = []; # the tfidf-w2v for each sentence/review is stored in this list\n",
    "row=0;\n",
    "for sent in tqdm(x_test_w2v): # for each review/sentence \n",
    "    sent_vec = np.zeros(50) # as word vectors are of zero length\n",
    "    weight_sum =0; # num of words with a valid vector in the sentence/review\n",
    "    for word in sent: # for each word in a review/sentence\n",
    "        if word in w2v_words_3 and word in tfidf_feat_1:\n",
    "            vec = w2v_model_0.wv[word]\n",
    "#             tf_idf = tf_idf_matrix[row, tfidf_feat.index(word)]\n",
    "            # to reduce the computation we are \n",
    "            # dictionary[word] = idf value of word in whole courpus\n",
    "            # sent.count(word) = tf valeus of word in this review\n",
    "            tf_idf = dictionary[word]*(sent.count(word)/len(sent))\n",
    "            sent_vec += (vec * tf_idf)\n",
    "            weight_sum += tf_idf\n",
    "    if weight_sum != 0:\n",
    "        sent_vec /= weight_sum\n",
    "    x_test_tfidf_w2v.append(sent_vec)\n",
    "    row += 1"
   ]
  },
  {
   "cell_type": "code",
   "execution_count": 101,
   "metadata": {},
   "outputs": [],
   "source": [
    "# CONVERTING TRAIN DATA SET INTO TFIDF W2V REPRESENTATION.\n",
    "model = TfidfVectorizer()\n",
    "tf_idf_matrix = model.fit_transform(x_train_w2v)\n",
    "# we are converting a dictionary with word as a key, and the idf as a value\n",
    "dictionary = dict(zip(model.get_feature_names(), list(model.idf_)))"
   ]
  },
  {
   "cell_type": "code",
   "execution_count": 102,
   "metadata": {},
   "outputs": [
    {
     "name": "stderr",
     "output_type": "stream",
     "text": [
      "100%|██████████████████████████████████████████████████████████████████████████████| 7350/7350 [07:30<00:00, 16.33it/s]\n"
     ]
    }
   ],
   "source": [
    "# TF-IDF weighted Word2Vec\n",
    "tfidf_feat_1 = model.get_feature_names() # tfidf words/col-names\n",
    "# final_tf_idf is the sparse matrix with row= sentence, col=word and cell_val = tfidf\n",
    "\n",
    "x_train_tfidf_w2v = []; # the tfidf-w2v for each sentence/review is stored in this list\n",
    "row=0;\n",
    "for sent in tqdm(x_train_w2v): # for each review/sentence \n",
    "    sent_vec = np.zeros(50) # as word vectors are of zero length\n",
    "    weight_sum =0; # num of words with a valid vector in the sentence/review\n",
    "    for word in sent: # for each word in a review/sentence\n",
    "        if word in w2v_words_3 and word in tfidf_feat_1:\n",
    "            vec = w2v_model_0.wv[word]\n",
    "#             tf_idf = tf_idf_matrix[row, tfidf_feat.index(word)]\n",
    "            # to reduce the computation we are \n",
    "            # dictionary[word] = idf value of word in whole courpus\n",
    "            # sent.count(word) = tf valeus of word in this review\n",
    "            tf_idf = dictionary[word]*(sent.count(word)/len(sent))\n",
    "            sent_vec += (vec * tf_idf)\n",
    "            weight_sum += tf_idf\n",
    "    if weight_sum != 0:\n",
    "        sent_vec /= weight_sum\n",
    "    x_train_tfidf_w2v.append(sent_vec)\n",
    "    row += 1"
   ]
  },
  {
   "cell_type": "code",
   "execution_count": 103,
   "metadata": {},
   "outputs": [],
   "source": [
    "# CONVERTING CROSS VALIDATION DATA SET INTO TFIDF W2V REPRESENTATION.\n",
    "model = TfidfVectorizer()\n",
    "tf_idf_matrix = model.fit_transform(x_cv_w2v)\n",
    "# we are converting a dictionary with word as a key, and the idf as a value\n",
    "dictionary = dict(zip(model.get_feature_names(), list(model.idf_)))"
   ]
  },
  {
   "cell_type": "code",
   "execution_count": 104,
   "metadata": {},
   "outputs": [
    {
     "name": "stderr",
     "output_type": "stream",
     "text": [
      "100%|██████████████████████████████████████████████████████████████████████████████| 3150/3150 [02:15<00:00, 23.16it/s]\n"
     ]
    }
   ],
   "source": [
    "# TF-IDF weighted Word2Vec\n",
    "tfidf_feat_1 = model.get_feature_names() # tfidf words/col-names\n",
    "# final_tf_idf is the sparse matrix with row= sentence, col=word and cell_val = tfidf\n",
    "\n",
    "x_crossval_tfidf_w2v = []; # the tfidf-w2v for each sentence/review is stored in this list\n",
    "row=0;\n",
    "for sent in tqdm(x_cv_w2v): # for each review/sentence \n",
    "    sent_vec = np.zeros(50) # as word vectors are of zero length\n",
    "    weight_sum =0; # num of words with a valid vector in the sentence/review\n",
    "    for word in sent: # for each word in a review/sentence\n",
    "        if word in w2v_words_3 and word in tfidf_feat_1:\n",
    "            vec = w2v_model_0.wv[word]\n",
    "#             tf_idf = tf_idf_matrix[row, tfidf_feat.index(word)]\n",
    "            # to reduce the computation we are \n",
    "            # dictionary[word] = idf value of word in whole courpus\n",
    "            # sent.count(word) = tf valeus of word in this review\n",
    "            tf_idf = dictionary[word]*(sent.count(word)/len(sent))\n",
    "            sent_vec += (vec * tf_idf)\n",
    "            weight_sum += tf_idf\n",
    "    if weight_sum != 0:\n",
    "        sent_vec /= weight_sum\n",
    "    x_crossval_tfidf_w2v.append(sent_vec)\n",
    "    row += 1"
   ]
  },
  {
   "cell_type": "code",
   "execution_count": 105,
   "metadata": {},
   "outputs": [],
   "source": [
    "# CONVERTING CROSS VALIDATION DATA SET INTO TFIDF W2V REPRESENTATION.\n",
    "model = TfidfVectorizer()\n",
    "tf_idf_matrix = model.fit_transform(X_train_w2v)\n",
    "# we are converting a dictionary with word as a key, and the idf as a value\n",
    "dictionary = dict(zip(model.get_feature_names(), list(model.idf_)))"
   ]
  },
  {
   "cell_type": "code",
   "execution_count": 106,
   "metadata": {},
   "outputs": [
    {
     "name": "stderr",
     "output_type": "stream",
     "text": [
      "100%|████████████████████████████████████████████████████████████████████████████| 10500/10500 [13:51<00:00, 12.63it/s]\n"
     ]
    }
   ],
   "source": [
    "# TF-IDF weighted Word2Vec\n",
    "tfidf_feat_1 = model.get_feature_names() # tfidf words/col-names\n",
    "# final_tf_idf is the sparse matrix with row= sentence, col=word and cell_val = tfidf\n",
    "\n",
    "X_train_tfidf_w2v = []; # the tfidf-w2v for each sentence/review is stored in this list\n",
    "row=0;\n",
    "for sent in tqdm(X_train_w2v): # for each review/sentence \n",
    "    sent_vec = np.zeros(50) # as word vectors are of zero length\n",
    "    weight_sum =0; # num of words with a valid vector in the sentence/review\n",
    "    for word in sent: # for each word in a review/sentence\n",
    "        if word in w2v_words_3 and word in tfidf_feat_1:\n",
    "            vec = w2v_model_0.wv[word]\n",
    "#             tf_idf = tf_idf_matrix[row, tfidf_feat.index(word)]\n",
    "            # to reduce the computation we are \n",
    "            # dictionary[word] = idf value of word in whole courpus\n",
    "            # sent.count(word) = tf valeus of word in this review\n",
    "            tf_idf = dictionary[word]*(sent.count(word)/len(sent))\n",
    "            sent_vec += (vec * tf_idf)\n",
    "            weight_sum += tf_idf\n",
    "    if weight_sum != 0:\n",
    "        sent_vec /= weight_sum\n",
    "    X_train_tfidf_w2v.append(sent_vec)\n",
    "    row += 1"
   ]
  },
  {
   "cell_type": "code",
   "execution_count": 107,
   "metadata": {},
   "outputs": [
    {
     "name": "stdout",
     "output_type": "stream",
     "text": [
      "The best c value is  0.001\n"
     ]
    }
   ],
   "source": [
    "#performing cross validation using gridsearchcv\n",
    "from sklearn import model_selection\n",
    "from sklearn.model_selection import GridSearchCV\n",
    "from sklearn.metrics import roc_auc_score\n",
    "roc_auc_train = []\n",
    "roc_auc_cv = []\n",
    "C_range = [0.001,0.01,0.1,1,10]\n",
    "parameters=dict(C = C_range)\n",
    "clf=GridSearchCV(LogisticRegression(),parameters, scoring='roc_auc', refit=True, cv=5,return_train_score = True)\n",
    "\n",
    "#fitting models\n",
    "clf.fit(x_train_tfidf_w2v,y_train)\n",
    "probcv=clf.predict_proba(x_crossval_tfidf_w2v)[:,1]\n",
    "roc_auc_cv.append(roc_auc_score(y_cv.ravel(),probcv))\n",
    "probtr=clf.predict_proba(x_train_tfidf_w2v)[:,1]    \n",
    "roc_auc_train.append(roc_auc_score(y_train.ravel(),probtr))\n",
    "best_c=clf.best_params_['C']\n",
    "print(\"The best c value is \",best_c)"
   ]
  },
  {
   "cell_type": "code",
   "execution_count": 108,
   "metadata": {},
   "outputs": [
    {
     "data": {
      "image/png": "[encoded data removed]",
      "text/plain": [
       "<Figure size 432x288 with 1 Axes>"
      ]
     },
     "metadata": {},
     "output_type": "display_data"
    }
   ],
   "source": [
    "import matplotlib.pyplot as plt \n",
    "\n",
    "error = [(1-i)*100 for i in clf.cv_results_['mean_test_score']]\n",
    "plt.plot(C_range, error)\n",
    "plt.title('Error plot')\n",
    "plt.xlabel('lambda value')\n",
    "plt.ylabel('Test_Error')\n",
    "plt.show()"
   ]
  },
  {
   "cell_type": "code",
   "execution_count": 109,
   "metadata": {},
   "outputs": [
    {
     "data": {
      "text/plain": [
       "LogisticRegression(C=0.0001, class_weight=None, dual=False, fit_intercept=True,\n",
       "                   intercept_scaling=1, l1_ratio=None, max_iter=100,\n",
       "                   multi_class='warn', n_jobs=None, penalty='l2',\n",
       "                   random_state=42, solver='warn', tol=0.0001, verbose=0,\n",
       "                   warm_start=False)"
      ]
     },
     "execution_count": 109,
     "metadata": {},
     "output_type": "execute_result"
    }
   ],
   "source": [
    "#fitting the model\n",
    "w2v_tfidf_model = LogisticRegression(penalty ='l2',C = 0.0001,random_state = 42)\n",
    "w2v_tfidf_model.fit(X_train_tfidf_w2v,Y_train)"
   ]
  },
  {
   "cell_type": "code",
   "execution_count": 110,
   "metadata": {},
   "outputs": [
    {
     "name": "stdout",
     "output_type": "stream",
     "text": [
      "\n",
      "Train accuracy=50.209524%\n",
      "\n",
      "Test accuracy=4.951111e+01% \n",
      "\n",
      "Train ROC value=0.500000\n",
      "\n",
      "Test ROC value=0.922319\n",
      "\n",
      "precision=49.511111%\n",
      "\n",
      "recall=100.000000%\n",
      "\n",
      "F1-Score=66.230678%\n"
     ]
    }
   ],
   "source": [
    "pred_w2v = w2v_tfidf_model.predict(x_test_tfidf_w2v)\n",
    "\n",
    "#train test accuracy\n",
    "train_acc_w2v2 = w2v_tfidf_model.score(X_train_tfidf_w2v,Y_train.ravel())\n",
    "test_acc_w2v2 = w2v_tfidf_model.score(x_test_tfidf_w2v,y_test)\n",
    "\n",
    "#train test ROC value\n",
    "y_scores_w2v_train = w2v_tfidf_model.predict_proba(x_train_tfidf_w2v)\n",
    "fpr,tpr,thresholds = roc_curve(y_train,y_scores_w2v_train[:,1])     # only positive y_scores to be comsidered\n",
    "roc_auc = auc(fpr,tpr)\n",
    "\n",
    "y_scores_w2v_test = w2v_tfidf_model.predict_proba(x_test_tfidf_w2v)\n",
    "fpr_1,tpr_1,thresholds = roc_curve(y_test,y_scores_w2v_test[:,1])     # only positive y_scores to be comsidered\n",
    "roc_auc = auc(fpr_1,tpr_1)\n",
    "\n",
    "#Precision , recall and f1_score \n",
    "pre2 = precision_score(y_test, pred_w2v) * 100\n",
    "rec2 = recall_score(y_test, pred_w2v) * 100\n",
    "f12 = f1_score(y_test, pred_w2v) * 100\n",
    "\n",
    "\n",
    "print(\"\\nTrain accuracy=%f%%\"% (train_acc_w2v2*100))\n",
    "print(\"\\nTest accuracy=%e%% \"% (test_acc_w2v2*100))\n",
    "print(\"\\nTrain ROC value=%f\"% (roc_auc))\n",
    "print(\"\\nTest ROC value=%f\"% (roc_auc_1))\n",
    "print('\\nprecision=%f%%' % (pre2))\n",
    "print('\\nrecall=%f%%' % (rec2))\n",
    "print('\\nF1-Score=%f%%' % (f12))\n",
    "\n"
   ]
  },
  {
   "cell_type": "markdown",
   "metadata": {},
   "source": [
    "#### <font color=\"red\"> PERFORMANCE METRICS"
   ]
  },
  {
   "cell_type": "code",
   "execution_count": 111,
   "metadata": {},
   "outputs": [
    {
     "data": {
      "image/png": "[encoded data removed]",
      "text/plain": [
       "<Figure size 432x288 with 1 Axes>"
      ]
     },
     "metadata": {},
     "output_type": "display_data"
    }
   ],
   "source": [
    "plt.figure()\n",
    "plt.plot(fpr,tpr,label = \"roc curve for training with area({})\".format(roc_auc))\n",
    "plt.plot(fpr_1,tpr_1,label = \"roc curve for test data with area({})\".format(roc_auc_1))\n",
    "plt.legend(loc=\"lower right\")\n",
    "plt.show()"
   ]
  },
  {
   "cell_type": "code",
   "execution_count": 112,
   "metadata": {},
   "outputs": [
    {
     "data": {
      "text/plain": [
       "array([[2272,    0],\n",
       "       [2228,    0]], dtype=int64)"
      ]
     },
     "execution_count": 112,
     "metadata": {},
     "output_type": "execute_result"
    }
   ],
   "source": [
    "#Confusion Matrix\n",
    "pred_tfidf_w2v = w2v_avg_model.predict(x_test_tfidf_w2v)    \n",
    "from sklearn.metrics import confusion_matrix\n",
    "cm_tfidf_w2v = confusion_matrix(y_test, pred_tfidf_w2v)\n",
    "cm_tfidf_w2v"
   ]
  },
  {
   "cell_type": "code",
   "execution_count": 113,
   "metadata": {},
   "outputs": [
    {
     "data": {
      "image/png": "[encoded data removed]",
      "text/plain": [
       "<Figure size 432x288 with 2 Axes>"
      ]
     },
     "metadata": {},
     "output_type": "display_data"
    }
   ],
   "source": [
    "class_label = [\"negative\", \"positive\"]\n",
    "df_cm = pd.DataFrame(cm_tfidf_w2v, index = class_label, columns = class_label)\n",
    "sns.heatmap(df_cm, annot = True, fmt = \"d\")\n",
    "plt.title(\"Confusion Matrix\")\n",
    "plt.xlabel(\"Predicted Label\")\n",
    "plt.ylabel(\"True Label\")\n",
    "plt.show()"
   ]
  },
  {
   "cell_type": "code",
   "execution_count": 114,
   "metadata": {},
   "outputs": [
    {
     "name": "stdout",
     "output_type": "stream",
     "text": [
      "+------+-------------+---------+----------------+---------------+--------------+-----------+-------------+\n",
      "|  CV  | Regularizer | C_value | Train_error(%) | Test_error(%) | Precision(%) | Recall(%) | F1-Score(%) |\n",
      "+------+-------------+---------+----------------+---------------+--------------+-----------+-------------+\n",
      "| Grid |      L2     |  0.001  |     49.79      |     50.49     |    49.51     |   100.0   |    66.23    |\n",
      "+------+-------------+---------+----------------+---------------+--------------+-----------+-------------+\n"
     ]
    }
   ],
   "source": [
    "from prettytable import PrettyTable\n",
    "x = PrettyTable()\n",
    "\n",
    "\n",
    "reg2 = 'L2'\n",
    "cv = 'Grid'\n",
    "x.field_names = [\"CV\",\"Regularizer\",\"C_value\",\"Train_error(%)\",\"Test_error(%)\",\"Precision(%)\",\"Recall(%)\",\"F1-Score(%)\"]\n",
    "\n",
    "\n",
    "\n",
    "\n",
    "err2_train = np.around(100 - train_acc_w2v2*100, decimals = 2)\n",
    "err2_test =  np.around(100 - test_acc_w2v2*100, decimals = 2)\n",
    "pre2 = np.around(pre2, decimals = 2)\n",
    "rec2 = np.around(rec2, decimals = 2)\n",
    "f12 = np.around(f12, decimals = 2)\n",
    "\n",
    "\n",
    "x.add_row([cv,reg2,best_c,err2_train,err2_test,pre2,rec2,f12])\n",
    "\n",
    "print(x)"
   ]
  },
  {
   "cell_type": "markdown",
   "metadata": {},
   "source": [
    "### OBSERVATION:\n",
    "1.The TPR value for above model is 0. Hence. we can conclude that our model is not good enough for classification."
   ]
  },
  {
   "cell_type": "markdown",
   "metadata": {},
   "source": [
    "# CONCLUSION:\n",
    "1. The BOW and TFIDF based model is working well for classification. \n",
    "2. The features are non-collinear for BOW as well as TFIDF based on the median value of percentage_change_vector.\n",
    "3. The optimal value for models can be visualized using ERROR PLOT(plotted for each model above)\n"
   ]
  },
  {
   "cell_type": "markdown",
   "metadata": {},
   "source": [
    "## CONSIDERING LENGTH OF REVIEWS AS FEATURE."
   ]
  },
  {
   "cell_type": "code",
   "execution_count": 115,
   "metadata": {},
   "outputs": [
    {
     "data": {
      "text/plain": [
       "(87773, 11)"
      ]
     },
     "execution_count": 115,
     "metadata": {},
     "output_type": "execute_result"
    }
   ],
   "source": [
    "final.shape"
   ]
  },
  {
   "cell_type": "code",
   "execution_count": 116,
   "metadata": {},
   "outputs": [
    {
     "name": "stdout",
     "output_type": "stream",
     "text": [
      "87773\n"
     ]
    }
   ],
   "source": [
    "#Creating a list of lengths of all reviews\n",
    "length_of_reviews = []\n",
    "for i in preprocessed_reviews:\n",
    "    length_of_reviews.append(len(i))\n",
    "print(len(length_of_reviews))    "
   ]
  },
  {
   "cell_type": "code",
   "execution_count": 117,
   "metadata": {},
   "outputs": [
    {
     "name": "stdout",
     "output_type": "stream",
     "text": [
      "[162, 72, 406, 209, 277, 84, 68, 495, 255, 196]\n"
     ]
    }
   ],
   "source": [
    "print(length_of_reviews[:10])"
   ]
  },
  {
   "cell_type": "code",
   "execution_count": 118,
   "metadata": {},
   "outputs": [],
   "source": [
    "# adding length of reviews in amazon food fine reviews dataset\n",
    "final[\"length_of_reviews\"] = length_of_reviews"
   ]
  },
  {
   "cell_type": "code",
   "execution_count": 119,
   "metadata": {},
   "outputs": [
    {
     "data": {
      "text/plain": [
       "(87773, 12)"
      ]
     },
     "execution_count": 119,
     "metadata": {},
     "output_type": "execute_result"
    }
   ],
   "source": [
    "final.shape"
   ]
  },
  {
   "cell_type": "code",
   "execution_count": 120,
   "metadata": {},
   "outputs": [
    {
     "name": "stdout",
     "output_type": "stream",
     "text": [
      "(1600, 12)\n"
     ]
    },
    {
     "data": {
      "text/html": [
       "<div>\n",
       "<style scoped>\n",
       "    .dataframe tbody tr th:only-of-type {\n",
       "        vertical-align: middle;\n",
       "    }\n",
       "\n",
       "    .dataframe tbody tr th {\n",
       "        vertical-align: top;\n",
       "    }\n",
       "\n",
       "    .dataframe thead th {\n",
       "        text-align: right;\n",
       "    }\n",
       "</style>\n",
       "<table border=\"1\" class=\"dataframe\">\n",
       "  <thead>\n",
       "    <tr style=\"text-align: right;\">\n",
       "      <th></th>\n",
       "      <th>Id</th>\n",
       "      <th>ProductId</th>\n",
       "      <th>UserId</th>\n",
       "      <th>ProfileName</th>\n",
       "      <th>HelpfulnessNumerator</th>\n",
       "      <th>HelpfulnessDenominator</th>\n",
       "      <th>Score</th>\n",
       "      <th>Time</th>\n",
       "      <th>Summary</th>\n",
       "      <th>Text</th>\n",
       "      <th>cleaned_text</th>\n",
       "      <th>length_of_reviews</th>\n",
       "    </tr>\n",
       "  </thead>\n",
       "  <tbody>\n",
       "    <tr>\n",
       "      <td>72133</td>\n",
       "      <td>78520</td>\n",
       "      <td>B000BQVS0E</td>\n",
       "      <td>A28NKYVADM4ZNH</td>\n",
       "      <td>catherine</td>\n",
       "      <td>0</td>\n",
       "      <td>0</td>\n",
       "      <td>1</td>\n",
       "      <td>1288915200</td>\n",
       "      <td>Excellent \"milk \"substitute for toddler who ca...</td>\n",
       "      <td>Daughter has dairy/soy issues and we were so h...</td>\n",
       "      <td>daughter dairy soy issues happy found breastfe...</td>\n",
       "      <td>209</td>\n",
       "    </tr>\n",
       "    <tr>\n",
       "      <td>93931</td>\n",
       "      <td>102117</td>\n",
       "      <td>B001HX59QO</td>\n",
       "      <td>A6DJ659L9HA7C</td>\n",
       "      <td>John P. Finley</td>\n",
       "      <td>1</td>\n",
       "      <td>1</td>\n",
       "      <td>1</td>\n",
       "      <td>1264550400</td>\n",
       "      <td>Minty and Refreshing - Excellent K-Cup!</td>\n",
       "      <td>This K-Cup provides a VERY MINTY, refreshing t...</td>\n",
       "      <td>k cup provides minty refreshing taste even lar...</td>\n",
       "      <td>109</td>\n",
       "    </tr>\n",
       "    <tr>\n",
       "      <td>28713</td>\n",
       "      <td>31315</td>\n",
       "      <td>B000TZ70TA</td>\n",
       "      <td>A3PWGSBTJ2J52G</td>\n",
       "      <td>H. Laurin \"always looking for good deals\"</td>\n",
       "      <td>0</td>\n",
       "      <td>0</td>\n",
       "      <td>1</td>\n",
       "      <td>1221696000</td>\n",
       "      <td>GREAT food, my dog Loves it!</td>\n",
       "      <td>I adopted a dog in Oct. 2007, and started tryi...</td>\n",
       "      <td>adopted dog oct started trying different foods...</td>\n",
       "      <td>791</td>\n",
       "    </tr>\n",
       "    <tr>\n",
       "      <td>274</td>\n",
       "      <td>301</td>\n",
       "      <td>B001UJEN6C</td>\n",
       "      <td>A297HRGWRID7I6</td>\n",
       "      <td>Mariza R Barnes</td>\n",
       "      <td>0</td>\n",
       "      <td>0</td>\n",
       "      <td>1</td>\n",
       "      <td>1347321600</td>\n",
       "      <td>The Best</td>\n",
       "      <td>I have tried other energy shots and this one i...</td>\n",
       "      <td>tried energy shots one one really makes feel g...</td>\n",
       "      <td>149</td>\n",
       "    </tr>\n",
       "    <tr>\n",
       "      <td>73897</td>\n",
       "      <td>80408</td>\n",
       "      <td>B0019955O2</td>\n",
       "      <td>A3LS0SWE5K1UAL</td>\n",
       "      <td>Betsy Crites</td>\n",
       "      <td>0</td>\n",
       "      <td>0</td>\n",
       "      <td>1</td>\n",
       "      <td>1280966400</td>\n",
       "      <td>I won't drink anything else</td>\n",
       "      <td>I find Larry's decaf espresso as good or bette...</td>\n",
       "      <td>find larry decaf espresso good better anything...</td>\n",
       "      <td>243</td>\n",
       "    </tr>\n",
       "  </tbody>\n",
       "</table>\n",
       "</div>"
      ],
      "text/plain": [
       "           Id   ProductId          UserId  \\\n",
       "72133   78520  B000BQVS0E  A28NKYVADM4ZNH   \n",
       "93931  102117  B001HX59QO   A6DJ659L9HA7C   \n",
       "28713   31315  B000TZ70TA  A3PWGSBTJ2J52G   \n",
       "274       301  B001UJEN6C  A297HRGWRID7I6   \n",
       "73897   80408  B0019955O2  A3LS0SWE5K1UAL   \n",
       "\n",
       "                                     ProfileName  HelpfulnessNumerator  \\\n",
       "72133                                  catherine                     0   \n",
       "93931                             John P. Finley                     1   \n",
       "28713  H. Laurin \"always looking for good deals\"                     0   \n",
       "274                              Mariza R Barnes                     0   \n",
       "73897                               Betsy Crites                     0   \n",
       "\n",
       "       HelpfulnessDenominator  Score        Time  \\\n",
       "72133                       0      1  1288915200   \n",
       "93931                       1      1  1264550400   \n",
       "28713                       0      1  1221696000   \n",
       "274                         0      1  1347321600   \n",
       "73897                       0      1  1280966400   \n",
       "\n",
       "                                                 Summary  \\\n",
       "72133  Excellent \"milk \"substitute for toddler who ca...   \n",
       "93931            Minty and Refreshing - Excellent K-Cup!   \n",
       "28713                       GREAT food, my dog Loves it!   \n",
       "274                                             The Best   \n",
       "73897                        I won't drink anything else   \n",
       "\n",
       "                                                    Text  \\\n",
       "72133  Daughter has dairy/soy issues and we were so h...   \n",
       "93931  This K-Cup provides a VERY MINTY, refreshing t...   \n",
       "28713  I adopted a dog in Oct. 2007, and started tryi...   \n",
       "274    I have tried other energy shots and this one i...   \n",
       "73897  I find Larry's decaf espresso as good or bette...   \n",
       "\n",
       "                                            cleaned_text  length_of_reviews  \n",
       "72133  daughter dairy soy issues happy found breastfe...                209  \n",
       "93931  k cup provides minty refreshing taste even lar...                109  \n",
       "28713  adopted dog oct started trying different foods...                791  \n",
       "274    tried energy shots one one really makes feel g...                149  \n",
       "73897  find larry decaf espresso good better anything...                243  "
      ]
     },
     "execution_count": 120,
     "metadata": {},
     "output_type": "execute_result"
    }
   ],
   "source": [
    "#Randomly taking 50000 points from each positive and negative reviews due to less memory capacity\n",
    "data_pos_length = final[final[\"Score\"] ==1.0].sample(n = 800)\n",
    "data_neg_length= final[final[\"Score\"] ==0.0].sample(n = 800)\n",
    "\n",
    "\n",
    "#concatenating the positive and negative reviews data \n",
    "final_length_data= pd.concat([data_pos_length,data_neg_length],axis=0)\n",
    "\n",
    "print(final_length_data.shape)\n",
    "final_length_data.head()\n"
   ]
  },
  {
   "cell_type": "markdown",
   "metadata": {},
   "source": [
    "#### NOTE:\n",
    "1.The length of review is a Numerical feature. So, To deal with, we consider that the length of reviews are normally distributed.\n",
    "2.We will plot pdf for both positive and negative reviews. Then, we will calculate the probability for each query point of both classes using pdf."
   ]
  },
  {
   "cell_type": "code",
   "execution_count": 121,
   "metadata": {},
   "outputs": [
    {
     "name": "stdout",
     "output_type": "stream",
     "text": [
      "counts are [2.42508496e-03 4.55668829e-04 1.15848007e-04 5.02008032e-05\n",
      " 1.54464010e-05 1.15848007e-05 3.86160025e-06 7.72320049e-06\n",
      " 0.00000000e+00 3.86160025e-06]\n",
      "***********************************************************\n",
      "bin_edges are [  27.   350.7  674.4  998.1 1321.8 1645.5 1969.2 2292.9 2616.6 2940.3\n",
      " 3264. ]\n",
      "***********************************************************\n"
     ]
    },
    {
     "data": {
      "image/png": "[encoded data removed]",
      "text/plain": [
       "<Figure size 432x288 with 1 Axes>"
      ]
     },
     "metadata": {},
     "output_type": "display_data"
    }
   ],
   "source": [
    "counts,bin_edges = np.histogram(data_pos_length[\"length_of_reviews\"],bins=10,density=True)\n",
    "pdf = counts/counts.sum()\n",
    "cdf = np.cumsum(pdf)\n",
    "print(\"counts are\",counts)\n",
    "print(\"***********************************************************\")\n",
    "print(\"bin_edges are\",bin_edges)\n",
    "print(\"***********************************************************\")\n",
    "\n",
    "plt.plot(bin_edges[1:],pdf)\n",
    "#plt.plot(bin_edges[1:],cdf)\n",
    "plt.ylabel(\"normalized counts\")\n",
    "plt.xlabel(\"length_of_positive_reviews\")\n",
    "plt.title(\"pdf for positive reviews\")\n",
    "plt.show()"
   ]
  },
  {
   "cell_type": "code",
   "execution_count": 122,
   "metadata": {},
   "outputs": [
    {
     "name": "stdout",
     "output_type": "stream",
     "text": [
      "counts are [2.30483716e-03 1.53855364e-03 5.38793103e-04 2.39463602e-04\n",
      " 7.18390805e-05 4.78927203e-05 1.79597701e-05 5.98659004e-06\n",
      " 5.98659004e-06 1.79597701e-05]\n",
      "***********************************************************\n",
      "bin_edges are [   0.   208.8  417.6  626.4  835.2 1044.  1252.8 1461.6 1670.4 1879.2\n",
      " 2088. ]\n",
      "***********************************************************\n"
     ]
    },
    {
     "data": {
      "image/png": "[encoded data removed]",
      "text/plain": [
       "<Figure size 432x288 with 1 Axes>"
      ]
     },
     "metadata": {},
     "output_type": "display_data"
    }
   ],
   "source": [
    "counts,bin_edges = np.histogram(data_neg_length[\"length_of_reviews\"],bins=10,density=True)\n",
    "pdf = counts/counts.sum()\n",
    "cdf = np.cumsum(pdf)\n",
    "print(\"counts are\",counts)\n",
    "print(\"***********************************************************\")\n",
    "print(\"bin_edges are\",bin_edges)\n",
    "print(\"***********************************************************\")\n",
    "\n",
    "plt.plot(bin_edges[1:],pdf)\n",
    "#plt.plot(bin_edges[1:],cdf)\n",
    "plt.ylabel(\"normalized counts\")\n",
    "plt.xlabel(\"length_of__negative_reviews\")\n",
    "plt.title(\"pdf for negative reviews\")\n",
    "plt.show()"
   ]
  },
  {
   "cell_type": "markdown",
   "metadata": {},
   "source": [
    "### OBSERVATION:\n",
    "1.The pdf of both the classes are not distributed normally.<BR>\n",
    "2.It seems that positive and negative reviews are having power law distribution."
   ]
  },
  {
   "cell_type": "markdown",
   "metadata": {},
   "source": [
    "### CONCLUSION:\n",
    "1.Using length of reviews as a feature is not so helpful because these are not following any of these distribiutions-normal, binomial, and poisson's. It's difficult and lengthy to train a probablistic model which is not following above mentioned distributions.<BR>\n",
    "2.There can be another method to calculate probablities- using power law transformation which transform power law distribution to normal distribution. But it's our assumption that above pdf is following power law distribution. Using it simply will not give a well working model as we are fully relying on assumptions."
   ]
  },
  {
   "cell_type": "markdown",
   "metadata": {},
   "source": [
    "## *******CONSIDERING SUMMARY AS FEATURES.*****"
   ]
  },
  {
   "cell_type": "code",
   "execution_count": 123,
   "metadata": {},
   "outputs": [
    {
     "name": "stdout",
     "output_type": "stream",
     "text": [
      "(87773, 12)\n",
      "*************************************************\n",
      "(87773, 13)\n",
      "*************************************************************************************\n",
      "(87773, 13)\n"
     ]
    },
    {
     "data": {
      "text/html": [
       "<div>\n",
       "<style scoped>\n",
       "    .dataframe tbody tr th:only-of-type {\n",
       "        vertical-align: middle;\n",
       "    }\n",
       "\n",
       "    .dataframe tbody tr th {\n",
       "        vertical-align: top;\n",
       "    }\n",
       "\n",
       "    .dataframe thead th {\n",
       "        text-align: right;\n",
       "    }\n",
       "</style>\n",
       "<table border=\"1\" class=\"dataframe\">\n",
       "  <thead>\n",
       "    <tr style=\"text-align: right;\">\n",
       "      <th></th>\n",
       "      <th>Id</th>\n",
       "      <th>ProductId</th>\n",
       "      <th>UserId</th>\n",
       "      <th>ProfileName</th>\n",
       "      <th>HelpfulnessNumerator</th>\n",
       "      <th>HelpfulnessDenominator</th>\n",
       "      <th>Score</th>\n",
       "      <th>Time</th>\n",
       "      <th>Summary</th>\n",
       "      <th>Text</th>\n",
       "      <th>cleaned_text</th>\n",
       "      <th>length_of_reviews</th>\n",
       "      <th>cleaned_summary</th>\n",
       "    </tr>\n",
       "  </thead>\n",
       "  <tbody>\n",
       "    <tr>\n",
       "      <td>22620</td>\n",
       "      <td>24750</td>\n",
       "      <td>2734888454</td>\n",
       "      <td>A13ISQV0U9GZIC</td>\n",
       "      <td>Sandikaye</td>\n",
       "      <td>1</td>\n",
       "      <td>1</td>\n",
       "      <td>0</td>\n",
       "      <td>1192060800</td>\n",
       "      <td>made in china</td>\n",
       "      <td>My dogs loves this chicken but its a product f...</td>\n",
       "      <td>dogs loves chicken product china wont buying a...</td>\n",
       "      <td>162</td>\n",
       "      <td>made china</td>\n",
       "    </tr>\n",
       "    <tr>\n",
       "      <td>22621</td>\n",
       "      <td>24751</td>\n",
       "      <td>2734888454</td>\n",
       "      <td>A1C298ITT645B6</td>\n",
       "      <td>Hugh G. Pritchard</td>\n",
       "      <td>0</td>\n",
       "      <td>0</td>\n",
       "      <td>1</td>\n",
       "      <td>1195948800</td>\n",
       "      <td>Dog Lover Delites</td>\n",
       "      <td>Our dogs just love them.  I saw them in a pet ...</td>\n",
       "      <td>dogs love saw pet store tag attached regarding...</td>\n",
       "      <td>72</td>\n",
       "      <td>dog lover delites</td>\n",
       "    </tr>\n",
       "    <tr>\n",
       "      <td>70677</td>\n",
       "      <td>76870</td>\n",
       "      <td>B00002N8SM</td>\n",
       "      <td>A19Q006CSFT011</td>\n",
       "      <td>Arlielle</td>\n",
       "      <td>0</td>\n",
       "      <td>0</td>\n",
       "      <td>0</td>\n",
       "      <td>1288396800</td>\n",
       "      <td>only one fruitfly stuck</td>\n",
       "      <td>I had an infestation of fruitflies, they were ...</td>\n",
       "      <td>infestation fruitflies literally everywhere fl...</td>\n",
       "      <td>406</td>\n",
       "      <td>one fruitfly stuck</td>\n",
       "    </tr>\n",
       "    <tr>\n",
       "      <td>70676</td>\n",
       "      <td>76869</td>\n",
       "      <td>B00002N8SM</td>\n",
       "      <td>A1FYH4S02BW7FN</td>\n",
       "      <td>wonderer</td>\n",
       "      <td>0</td>\n",
       "      <td>0</td>\n",
       "      <td>0</td>\n",
       "      <td>1290038400</td>\n",
       "      <td>Doesn't work!! Don't waste your money!!</td>\n",
       "      <td>Worst product I have gotten in long time. Woul...</td>\n",
       "      <td>worst product gotten long time would rate no s...</td>\n",
       "      <td>209</td>\n",
       "      <td>not work not waste money</td>\n",
       "    </tr>\n",
       "    <tr>\n",
       "      <td>70675</td>\n",
       "      <td>76868</td>\n",
       "      <td>B00002N8SM</td>\n",
       "      <td>AUE8TB5VHS6ZV</td>\n",
       "      <td>eyeofthestorm</td>\n",
       "      <td>0</td>\n",
       "      <td>0</td>\n",
       "      <td>0</td>\n",
       "      <td>1306972800</td>\n",
       "      <td>A big rip off</td>\n",
       "      <td>I wish I'd read the reviews before making this...</td>\n",
       "      <td>wish would read reviews making purchase basica...</td>\n",
       "      <td>277</td>\n",
       "      <td>big rip</td>\n",
       "    </tr>\n",
       "  </tbody>\n",
       "</table>\n",
       "</div>"
      ],
      "text/plain": [
       "          Id   ProductId          UserId        ProfileName  \\\n",
       "22620  24750  2734888454  A13ISQV0U9GZIC          Sandikaye   \n",
       "22621  24751  2734888454  A1C298ITT645B6  Hugh G. Pritchard   \n",
       "70677  76870  B00002N8SM  A19Q006CSFT011           Arlielle   \n",
       "70676  76869  B00002N8SM  A1FYH4S02BW7FN           wonderer   \n",
       "70675  76868  B00002N8SM   AUE8TB5VHS6ZV      eyeofthestorm   \n",
       "\n",
       "       HelpfulnessNumerator  HelpfulnessDenominator  Score        Time  \\\n",
       "22620                     1                       1      0  1192060800   \n",
       "22621                     0                       0      1  1195948800   \n",
       "70677                     0                       0      0  1288396800   \n",
       "70676                     0                       0      0  1290038400   \n",
       "70675                     0                       0      0  1306972800   \n",
       "\n",
       "                                       Summary  \\\n",
       "22620                            made in china   \n",
       "22621                        Dog Lover Delites   \n",
       "70677                  only one fruitfly stuck   \n",
       "70676  Doesn't work!! Don't waste your money!!   \n",
       "70675                            A big rip off   \n",
       "\n",
       "                                                    Text  \\\n",
       "22620  My dogs loves this chicken but its a product f...   \n",
       "22621  Our dogs just love them.  I saw them in a pet ...   \n",
       "70677  I had an infestation of fruitflies, they were ...   \n",
       "70676  Worst product I have gotten in long time. Woul...   \n",
       "70675  I wish I'd read the reviews before making this...   \n",
       "\n",
       "                                            cleaned_text  length_of_reviews  \\\n",
       "22620  dogs loves chicken product china wont buying a...                162   \n",
       "22621  dogs love saw pet store tag attached regarding...                 72   \n",
       "70677  infestation fruitflies literally everywhere fl...                406   \n",
       "70676  worst product gotten long time would rate no s...                209   \n",
       "70675  wish would read reviews making purchase basica...                277   \n",
       "\n",
       "                cleaned_summary  \n",
       "22620                made china  \n",
       "22621         dog lover delites  \n",
       "70677        one fruitfly stuck  \n",
       "70676  not work not waste money  \n",
       "70675                   big rip  "
      ]
     },
     "execution_count": 123,
     "metadata": {},
     "output_type": "execute_result"
    }
   ],
   "source": [
    "print(final.shape)\n",
    "print(\"*************************************************\")\n",
    "\n",
    "##adding cleaned_text column to the final dataframe\n",
    "final[\"cleaned_summary\"] = preprocessed_reviews_summary\n",
    "\n",
    "print(final.shape)\n",
    "print(\"*************************************************************************************\")\n",
    "#checking if any missing values is present in the reviews.\n",
    "final = final.dropna(axis=0, how='any', thresh=None, subset=None, inplace=False)\n",
    "\n",
    "print(final.shape)\n",
    "\n",
    "final.head()"
   ]
  },
  {
   "cell_type": "code",
   "execution_count": 124,
   "metadata": {},
   "outputs": [
    {
     "name": "stdout",
     "output_type": "stream",
     "text": [
      "(1600, 13)\n"
     ]
    },
    {
     "data": {
      "text/html": [
       "<div>\n",
       "<style scoped>\n",
       "    .dataframe tbody tr th:only-of-type {\n",
       "        vertical-align: middle;\n",
       "    }\n",
       "\n",
       "    .dataframe tbody tr th {\n",
       "        vertical-align: top;\n",
       "    }\n",
       "\n",
       "    .dataframe thead th {\n",
       "        text-align: right;\n",
       "    }\n",
       "</style>\n",
       "<table border=\"1\" class=\"dataframe\">\n",
       "  <thead>\n",
       "    <tr style=\"text-align: right;\">\n",
       "      <th></th>\n",
       "      <th>Id</th>\n",
       "      <th>ProductId</th>\n",
       "      <th>UserId</th>\n",
       "      <th>ProfileName</th>\n",
       "      <th>HelpfulnessNumerator</th>\n",
       "      <th>HelpfulnessDenominator</th>\n",
       "      <th>Score</th>\n",
       "      <th>Time</th>\n",
       "      <th>Summary</th>\n",
       "      <th>Text</th>\n",
       "      <th>cleaned_text</th>\n",
       "      <th>length_of_reviews</th>\n",
       "      <th>cleaned_summary</th>\n",
       "    </tr>\n",
       "  </thead>\n",
       "  <tbody>\n",
       "    <tr>\n",
       "      <td>20420</td>\n",
       "      <td>22309</td>\n",
       "      <td>B0041GHV8I</td>\n",
       "      <td>A1XMB52F1KZ4PK</td>\n",
       "      <td>Allison C</td>\n",
       "      <td>0</td>\n",
       "      <td>0</td>\n",
       "      <td>1</td>\n",
       "      <td>1329609600</td>\n",
       "      <td>What Peas Are Supposed to Be</td>\n",
       "      <td>This is an amazing product. I've spent so much...</td>\n",
       "      <td>amazing product spent much time trying find de...</td>\n",
       "      <td>307</td>\n",
       "      <td>peas supposed</td>\n",
       "    </tr>\n",
       "    <tr>\n",
       "      <td>21671</td>\n",
       "      <td>23726</td>\n",
       "      <td>B0013NUGDE</td>\n",
       "      <td>A215WH6RUDUCMP</td>\n",
       "      <td>Shilom</td>\n",
       "      <td>1</td>\n",
       "      <td>1</td>\n",
       "      <td>1</td>\n",
       "      <td>1268438400</td>\n",
       "      <td>Tasty!</td>\n",
       "      <td>We all have our vices, mine has always been ch...</td>\n",
       "      <td>vices mine always chips specifically bettermad...</td>\n",
       "      <td>477</td>\n",
       "      <td>tasty</td>\n",
       "    </tr>\n",
       "    <tr>\n",
       "      <td>23108</td>\n",
       "      <td>25286</td>\n",
       "      <td>B0064A72UG</td>\n",
       "      <td>A2YM3KILJ1G0YJ</td>\n",
       "      <td>Jason</td>\n",
       "      <td>7</td>\n",
       "      <td>7</td>\n",
       "      <td>1</td>\n",
       "      <td>1324166400</td>\n",
       "      <td>EXACTLY what you'd expect</td>\n",
       "      <td>How in the world do you review a gummy worm?  ...</td>\n",
       "      <td>world review gummy worm well think expectation...</td>\n",
       "      <td>507</td>\n",
       "      <td>exactly would expect</td>\n",
       "    </tr>\n",
       "    <tr>\n",
       "      <td>84284</td>\n",
       "      <td>91701</td>\n",
       "      <td>B000EZOKX4</td>\n",
       "      <td>A1DZ5OW6RCLHDW</td>\n",
       "      <td>bobdog314</td>\n",
       "      <td>0</td>\n",
       "      <td>0</td>\n",
       "      <td>1</td>\n",
       "      <td>1343865600</td>\n",
       "      <td>love love love</td>\n",
       "      <td>I would like to start off by saying....i have ...</td>\n",
       "      <td>would like start saying week old bengal kitten...</td>\n",
       "      <td>407</td>\n",
       "      <td>love love love</td>\n",
       "    </tr>\n",
       "    <tr>\n",
       "      <td>11895</td>\n",
       "      <td>12957</td>\n",
       "      <td>B000ET93N2</td>\n",
       "      <td>A16J5HGMGX5LWM</td>\n",
       "      <td>Enovative Solutions Inc Stephenson</td>\n",
       "      <td>0</td>\n",
       "      <td>0</td>\n",
       "      <td>1</td>\n",
       "      <td>1265846400</td>\n",
       "      <td>Almost perfect crackers</td>\n",
       "      <td>Being the lone Celiac in the crowd makes for c...</td>\n",
       "      <td>lone celiac crowd makes challenging entertaini...</td>\n",
       "      <td>780</td>\n",
       "      <td>almost perfect crackers</td>\n",
       "    </tr>\n",
       "  </tbody>\n",
       "</table>\n",
       "</div>"
      ],
      "text/plain": [
       "          Id   ProductId          UserId                         ProfileName  \\\n",
       "20420  22309  B0041GHV8I  A1XMB52F1KZ4PK                           Allison C   \n",
       "21671  23726  B0013NUGDE  A215WH6RUDUCMP                              Shilom   \n",
       "23108  25286  B0064A72UG  A2YM3KILJ1G0YJ                               Jason   \n",
       "84284  91701  B000EZOKX4  A1DZ5OW6RCLHDW                           bobdog314   \n",
       "11895  12957  B000ET93N2  A16J5HGMGX5LWM  Enovative Solutions Inc Stephenson   \n",
       "\n",
       "       HelpfulnessNumerator  HelpfulnessDenominator  Score        Time  \\\n",
       "20420                     0                       0      1  1329609600   \n",
       "21671                     1                       1      1  1268438400   \n",
       "23108                     7                       7      1  1324166400   \n",
       "84284                     0                       0      1  1343865600   \n",
       "11895                     0                       0      1  1265846400   \n",
       "\n",
       "                            Summary  \\\n",
       "20420  What Peas Are Supposed to Be   \n",
       "21671                        Tasty!   \n",
       "23108     EXACTLY what you'd expect   \n",
       "84284                love love love   \n",
       "11895       Almost perfect crackers   \n",
       "\n",
       "                                                    Text  \\\n",
       "20420  This is an amazing product. I've spent so much...   \n",
       "21671  We all have our vices, mine has always been ch...   \n",
       "23108  How in the world do you review a gummy worm?  ...   \n",
       "84284  I would like to start off by saying....i have ...   \n",
       "11895  Being the lone Celiac in the crowd makes for c...   \n",
       "\n",
       "                                            cleaned_text  length_of_reviews  \\\n",
       "20420  amazing product spent much time trying find de...                307   \n",
       "21671  vices mine always chips specifically bettermad...                477   \n",
       "23108  world review gummy worm well think expectation...                507   \n",
       "84284  would like start saying week old bengal kitten...                407   \n",
       "11895  lone celiac crowd makes challenging entertaini...                780   \n",
       "\n",
       "               cleaned_summary  \n",
       "20420            peas supposed  \n",
       "21671                    tasty  \n",
       "23108     exactly would expect  \n",
       "84284           love love love  \n",
       "11895  almost perfect crackers  "
      ]
     },
     "execution_count": 124,
     "metadata": {},
     "output_type": "execute_result"
    }
   ],
   "source": [
    "#Randomly taking 40000 points from each positive and negative reviews due to less memory capacity\n",
    "data_pos_summ = final[final[\"Score\"] ==1.0].sample(n = 800)\n",
    "data_neg_summ = final[final[\"Score\"] ==0.0].sample(n = 800)\n",
    "\n",
    "\n",
    "#concatenating the positive and negative reviews data \n",
    "final_cleaned_summ_data = pd.concat([data_pos_summ,data_neg_summ],axis=0)\n",
    "\n",
    "print(final_cleaned_summ_data.shape)\n",
    "final_cleaned_summ_data.head()"
   ]
  },
  {
   "cell_type": "code",
   "execution_count": 125,
   "metadata": {},
   "outputs": [
    {
     "data": {
      "text/html": [
       "<div>\n",
       "<style scoped>\n",
       "    .dataframe tbody tr th:only-of-type {\n",
       "        vertical-align: middle;\n",
       "    }\n",
       "\n",
       "    .dataframe tbody tr th {\n",
       "        vertical-align: top;\n",
       "    }\n",
       "\n",
       "    .dataframe thead th {\n",
       "        text-align: right;\n",
       "    }\n",
       "</style>\n",
       "<table border=\"1\" class=\"dataframe\">\n",
       "  <thead>\n",
       "    <tr style=\"text-align: right;\">\n",
       "      <th></th>\n",
       "      <th>Id</th>\n",
       "      <th>ProductId</th>\n",
       "      <th>UserId</th>\n",
       "      <th>ProfileName</th>\n",
       "      <th>HelpfulnessNumerator</th>\n",
       "      <th>HelpfulnessDenominator</th>\n",
       "      <th>Score</th>\n",
       "      <th>Time</th>\n",
       "      <th>Summary</th>\n",
       "      <th>Text</th>\n",
       "      <th>cleaned_text</th>\n",
       "      <th>length_of_reviews</th>\n",
       "      <th>cleaned_summary</th>\n",
       "    </tr>\n",
       "  </thead>\n",
       "  <tbody>\n",
       "    <tr>\n",
       "      <td>94382</td>\n",
       "      <td>102594</td>\n",
       "      <td>B0000D9N6V</td>\n",
       "      <td>A28ECE800BV42W</td>\n",
       "      <td>\"bungfritz\"</td>\n",
       "      <td>5</td>\n",
       "      <td>5</td>\n",
       "      <td>1</td>\n",
       "      <td>2004-02-05</td>\n",
       "      <td>Best example of a blue cheese I've ever tried</td>\n",
       "      <td>And that is no exagerration!  Roaring 40's Blu...</td>\n",
       "      <td>no exagerration roaring blue wonderful mixture...</td>\n",
       "      <td>304</td>\n",
       "      <td>best example blue cheese ever tried</td>\n",
       "    </tr>\n",
       "    <tr>\n",
       "      <td>14096</td>\n",
       "      <td>15390</td>\n",
       "      <td>B0002IMRTC</td>\n",
       "      <td>ALKOHQH542KO</td>\n",
       "      <td>G. Elliott</td>\n",
       "      <td>5</td>\n",
       "      <td>15</td>\n",
       "      <td>1</td>\n",
       "      <td>2004-07-20</td>\n",
       "      <td>Peet says it's good.</td>\n",
       "      <td>So it must be good.  He never lies to me.  Eve...</td>\n",
       "      <td>must good never lies even skizip likes drinks ...</td>\n",
       "      <td>71</td>\n",
       "      <td>peet says good</td>\n",
       "    </tr>\n",
       "    <tr>\n",
       "      <td>16217</td>\n",
       "      <td>17710</td>\n",
       "      <td>B0051OQ23E</td>\n",
       "      <td>A1LBU1GH9H5F0P</td>\n",
       "      <td>Y. Fung \"ambivalence\"</td>\n",
       "      <td>3</td>\n",
       "      <td>3</td>\n",
       "      <td>1</td>\n",
       "      <td>2005-07-01</td>\n",
       "      <td>Best cookie in the world!</td>\n",
       "      <td>If you love the taste of caramel and the crisp...</td>\n",
       "      <td>love taste caramel crisp crunch thin cookie no...</td>\n",
       "      <td>82</td>\n",
       "      <td>best cookie world</td>\n",
       "    </tr>\n",
       "    <tr>\n",
       "      <td>1984</td>\n",
       "      <td>2165</td>\n",
       "      <td>B000N5XCPM</td>\n",
       "      <td>A3NGLRNUFTTKTD</td>\n",
       "      <td>L. E. Thomas</td>\n",
       "      <td>2</td>\n",
       "      <td>2</td>\n",
       "      <td>1</td>\n",
       "      <td>2005-12-28</td>\n",
       "      <td>We Love Grammy's!</td>\n",
       "      <td>We adopted an 8-year-old Dalmatian earlier thi...</td>\n",
       "      <td>adopted dalmatian earlier year heard lots caut...</td>\n",
       "      <td>258</td>\n",
       "      <td>love grammy</td>\n",
       "    </tr>\n",
       "    <tr>\n",
       "      <td>79074</td>\n",
       "      <td>85979</td>\n",
       "      <td>B000CMKPDI</td>\n",
       "      <td>A25UOSQ1II09QA</td>\n",
       "      <td>Curt A. Meyers \"Boilerbots\"</td>\n",
       "      <td>35</td>\n",
       "      <td>66</td>\n",
       "      <td>0</td>\n",
       "      <td>2006-06-01</td>\n",
       "      <td>Somebody better check their specifications</td>\n",
       "      <td>Last time I checked, water based products such...</td>\n",
       "      <td>last time checked water based products poop no...</td>\n",
       "      <td>177</td>\n",
       "      <td>somebody better check specifications</td>\n",
       "    </tr>\n",
       "  </tbody>\n",
       "</table>\n",
       "</div>"
      ],
      "text/plain": [
       "           Id   ProductId          UserId                  ProfileName  \\\n",
       "94382  102594  B0000D9N6V  A28ECE800BV42W                  \"bungfritz\"   \n",
       "14096   15390  B0002IMRTC    ALKOHQH542KO                   G. Elliott   \n",
       "16217   17710  B0051OQ23E  A1LBU1GH9H5F0P        Y. Fung \"ambivalence\"   \n",
       "1984     2165  B000N5XCPM  A3NGLRNUFTTKTD                 L. E. Thomas   \n",
       "79074   85979  B000CMKPDI  A25UOSQ1II09QA  Curt A. Meyers \"Boilerbots\"   \n",
       "\n",
       "       HelpfulnessNumerator  HelpfulnessDenominator  Score       Time  \\\n",
       "94382                     5                       5      1 2004-02-05   \n",
       "14096                     5                      15      1 2004-07-20   \n",
       "16217                     3                       3      1 2005-07-01   \n",
       "1984                      2                       2      1 2005-12-28   \n",
       "79074                    35                      66      0 2006-06-01   \n",
       "\n",
       "                                             Summary  \\\n",
       "94382  Best example of a blue cheese I've ever tried   \n",
       "14096                           Peet says it's good.   \n",
       "16217                      Best cookie in the world!   \n",
       "1984                               We Love Grammy's!   \n",
       "79074     Somebody better check their specifications   \n",
       "\n",
       "                                                    Text  \\\n",
       "94382  And that is no exagerration!  Roaring 40's Blu...   \n",
       "14096  So it must be good.  He never lies to me.  Eve...   \n",
       "16217  If you love the taste of caramel and the crisp...   \n",
       "1984   We adopted an 8-year-old Dalmatian earlier thi...   \n",
       "79074  Last time I checked, water based products such...   \n",
       "\n",
       "                                            cleaned_text  length_of_reviews  \\\n",
       "94382  no exagerration roaring blue wonderful mixture...                304   \n",
       "14096  must good never lies even skizip likes drinks ...                 71   \n",
       "16217  love taste caramel crisp crunch thin cookie no...                 82   \n",
       "1984   adopted dalmatian earlier year heard lots caut...                258   \n",
       "79074  last time checked water based products poop no...                177   \n",
       "\n",
       "                            cleaned_summary  \n",
       "94382   best example blue cheese ever tried  \n",
       "14096                        peet says good  \n",
       "16217                     best cookie world  \n",
       "1984                            love grammy  \n",
       "79074  somebody better check specifications  "
      ]
     },
     "execution_count": 125,
     "metadata": {},
     "output_type": "execute_result"
    }
   ],
   "source": [
    "#time based splitting of the data\n",
    "#converting time to date and time\n",
    "final_cleaned_summ_data[\"Time\"] = pd.to_datetime(final_cleaned_summ_data[\"Time\"],unit=\"s\")\n",
    "final_cleaned_summ_data = final_cleaned_summ_data.sort_values(by = \"Time\")\n",
    "final_cleaned_summ_data.head()"
   ]
  },
  {
   "cell_type": "code",
   "execution_count": 126,
   "metadata": {},
   "outputs": [],
   "source": [
    "X_summ = np.array(final_cleaned_summ_data.loc[:,[\"cleaned_summary\"]])\n",
    "Y_summ = np.array(final_cleaned_summ_data.loc[:,[\"Score\"]])\n",
    "\n",
    "#train_test_split of the data\n",
    "X_train,x_test,Y_train,y_test = model_selection.train_test_split(X_summ,Y_summ,test_size = 0.3,random_state= 42)\n",
    "\n",
    "x_train , x_cv,y_train,y_cv = model_selection.train_test_split(X_train,Y_train,test_size =0.3,random_state = 42)\n",
    "\n"
   ]
  },
  {
   "cell_type": "code",
   "execution_count": 127,
   "metadata": {},
   "outputs": [],
   "source": [
    "#converting all into dataframes \n",
    "X_train = pd.DataFrame(X_train,columns = [\"summary\"])\n",
    "x_train = pd.DataFrame(x_train,columns = [\"summary\"])\n",
    "x_cv = pd.DataFrame(x_cv,columns =[\"summary\"])\n",
    "x_test = pd.DataFrame(x_test,columns =[\"summary\"])\n",
    "#y_train = pd.DataFrame(y_train,columns =[\"scores\"])\n",
    "#y_cv = pd.DataFrame(y_cv,columns =[\"scores\"])\n",
    "\n",
    "\n",
    "count_vec = CountVectorizer()\n",
    "count_vec.fit(x_train[\"summary\"])\n",
    "X_train_bow = count_vec.transform(X_train[\"summary\"])\n",
    "x_train_bow = count_vec.transform(x_train[\"summary\"])\n",
    "x_cv_bow = count_vec.transform(x_cv[\"summary\"])\n",
    "x_test_bow = count_vec.transform(x_test[\"summary\"])\n",
    "#X_train = count_vec.transform(X_train[\"text\"])"
   ]
  },
  {
   "cell_type": "code",
   "execution_count": 128,
   "metadata": {},
   "outputs": [
    {
     "name": "stdout",
     "output_type": "stream",
     "text": [
      "1057\n",
      "[[0 0 0 ... 0 0 0]]\n"
     ]
    }
   ],
   "source": [
    "print(len(count_vec.get_feature_names()))\n",
    "print(X_train_bow[1].toarray())"
   ]
  },
  {
   "cell_type": "markdown",
   "metadata": {},
   "source": [
    "#### HYPERPARAMETER TUNING: <font color=\"red\">GRIDSEARCH CV."
   ]
  },
  {
   "cell_type": "code",
   "execution_count": 129,
   "metadata": {},
   "outputs": [
    {
     "name": "stdout",
     "output_type": "stream",
     "text": [
      "The best c value is  0.1\n"
     ]
    }
   ],
   "source": [
    "#performing cross validation using gridsearchcv\n",
    "from sklearn import model_selection\n",
    "from sklearn.model_selection import GridSearchCV\n",
    "from sklearn.metrics import roc_auc_score\n",
    "roc_auc_train = []\n",
    "roc_auc_cv = []\n",
    "C_range = [0.001,0.01,0.1,1,10]\n",
    "parameters=dict(C = C_range)\n",
    "clf=GridSearchCV(LogisticRegression(),parameters, scoring='roc_auc', refit=True, cv=5,return_train_score = True)\n",
    "\n",
    "#fitting models\n",
    "clf.fit(x_train_bow,y_train)\n",
    "probcv=clf.predict_proba(x_cv_bow)[:,1]\n",
    "roc_auc_cv.append(roc_auc_score(y_cv.ravel(),probcv))\n",
    "probtr=clf.predict_proba(x_train_bow)[:,1]    \n",
    "roc_auc_train.append(roc_auc_score(y_train.ravel(),probtr))\n",
    "best_c=clf.best_params_['C']\n",
    "print(\"The best c value is \",best_c)"
   ]
  },
  {
   "cell_type": "code",
   "execution_count": 130,
   "metadata": {},
   "outputs": [
    {
     "data": {
      "image/png": "[encoded data removed]",
      "text/plain": [
       "<Figure size 432x288 with 1 Axes>"
      ]
     },
     "metadata": {},
     "output_type": "display_data"
    }
   ],
   "source": [
    "import matplotlib.pyplot as plt \n",
    "\n",
    "error = [(1-i)*100 for i in clf.cv_results_['mean_test_score']]\n",
    "plt.plot(C_range, error)\n",
    "plt.title('Error plot')\n",
    "plt.xlabel('lambda value')\n",
    "plt.ylabel('Test_Error')\n",
    "plt.show()"
   ]
  },
  {
   "cell_type": "code",
   "execution_count": 131,
   "metadata": {},
   "outputs": [
    {
     "data": {
      "text/plain": [
       "LogisticRegression(C=1, class_weight=None, dual=False, fit_intercept=True,\n",
       "                   intercept_scaling=1, l1_ratio=None, max_iter=100,\n",
       "                   multi_class='warn', n_jobs=None, penalty='l2',\n",
       "                   random_state=42, solver='warn', tol=0.0001, verbose=0,\n",
       "                   warm_start=False)"
      ]
     },
     "execution_count": 131,
     "metadata": {},
     "output_type": "execute_result"
    }
   ],
   "source": [
    "#now we will fit wth the model\n",
    "bow_model = LogisticRegression(penalty ='l2',C = 1,random_state = 42)\n",
    "bow_model.fit(X_train_bow,Y_train)\n"
   ]
  },
  {
   "cell_type": "code",
   "execution_count": 133,
   "metadata": {},
   "outputs": [
    {
     "name": "stdout",
     "output_type": "stream",
     "text": [
      "\n",
      "Train accuracy=93.125000%\n",
      "\n",
      "Test accuracy=7.875000e+01% \n",
      "\n",
      "Train ROC value=0.865417\n",
      "\n",
      "Test ROC value=0.922319\n",
      "\n",
      "precision=84.158416%\n",
      "\n",
      "recall=70.833333%\n",
      "\n",
      "F1-Score=76.923077%\n"
     ]
    }
   ],
   "source": [
    "pred_bow = bow_model.predict(x_test_bow)\n",
    "\n",
    "#train test accuracy\n",
    "train_acc_bow2 = bow_model.score(X_train_bow,Y_train.ravel())\n",
    "test_acc_bow2 = bow_model.score(x_test_bow,y_test)\n",
    "\n",
    "#train test ROC value\n",
    "y_scores_w2v_train = bow_model.predict_proba(x_train_bow)\n",
    "fpr,tpr,thresholds = roc_curve(y_train,y_scores_w2v_train[:,1])     # only positive y_scores to be comsidered\n",
    "roc_auc = auc(fpr,tpr)\n",
    "\n",
    "y_scores_w2v_test = bow_model.predict_proba(x_test_bow)\n",
    "fpr_1,tpr_1,thresholds = roc_curve(y_test,y_scores_w2v_test[:,1])     # only positive y_scores to be comsidered\n",
    "roc_auc = auc(fpr_1,tpr_1)\n",
    "\n",
    "#Precision , recall and f1_score \n",
    "pre2 = precision_score(y_test, pred_bow) * 100\n",
    "rec2 = recall_score(y_test, pred_bow) * 100\n",
    "f12 = f1_score(y_test, pred_bow) * 100\n",
    "\n",
    "\n",
    "print(\"\\nTrain accuracy=%f%%\"% (train_acc_bow2*100))\n",
    "print(\"\\nTest accuracy=%e%% \"% (test_acc_bow2*100))\n",
    "print(\"\\nTrain ROC value=%f\"% (roc_auc))\n",
    "print(\"\\nTest ROC value=%f\"% (roc_auc_1))\n",
    "print('\\nprecision=%f%%' % (pre2))\n",
    "print('\\nrecall=%f%%' % (rec2))\n",
    "print('\\nF1-Score=%f%%' % (f12))\n",
    "\n"
   ]
  },
  {
   "cell_type": "code",
   "execution_count": 134,
   "metadata": {},
   "outputs": [
    {
     "data": {
      "image/png": "[encoded data removed]",
      "text/plain": [
       "<Figure size 432x288 with 1 Axes>"
      ]
     },
     "metadata": {},
     "output_type": "display_data"
    }
   ],
   "source": [
    "plt.figure()\n",
    "plt.plot(fpr,tpr,label = \"roc curve for training with area({})\".format(roc_auc))\n",
    "plt.plot(fpr_1,tpr_1,label = \"roc curve for test data with area({})\".format(roc_auc_1))\n",
    "plt.legend(loc=\"lower right\")\n",
    "plt.show()"
   ]
  },
  {
   "cell_type": "code",
   "execution_count": 135,
   "metadata": {},
   "outputs": [
    {
     "data": {
      "text/plain": [
       "array([[208,  32],\n",
       "       [ 70, 170]], dtype=int64)"
      ]
     },
     "execution_count": 135,
     "metadata": {},
     "output_type": "execute_result"
    }
   ],
   "source": [
    "#Confusion Matrix\n",
    "pred_bow = bow_model.predict(x_test_bow)    \n",
    "from sklearn.metrics import confusion_matrix\n",
    "cm_bow = confusion_matrix(y_test, pred_bow)\n",
    "cm_bow"
   ]
  },
  {
   "cell_type": "code",
   "execution_count": 136,
   "metadata": {},
   "outputs": [
    {
     "data": {
      "image/png": "[encoded data removed]",
      "text/plain": [
       "<Figure size 432x288 with 2 Axes>"
      ]
     },
     "metadata": {},
     "output_type": "display_data"
    }
   ],
   "source": [
    "class_label = [\"negative\", \"positive\"]\n",
    "df_cm = pd.DataFrame(cm_bow, index = class_label, columns = class_label)\n",
    "sns.heatmap(df_cm, annot = True, fmt = \"d\")\n",
    "plt.title(\"Confusion Matrix\")\n",
    "plt.xlabel(\"Predicted Label\")\n",
    "plt.ylabel(\"True Label\")\n",
    "plt.show()"
   ]
  },
  {
   "cell_type": "code",
   "execution_count": 137,
   "metadata": {},
   "outputs": [
    {
     "name": "stdout",
     "output_type": "stream",
     "text": [
      "+------+-------------+---------+----------------+---------------+--------------+-----------+-------------+\n",
      "|  CV  | Regularizer | C_value | Train_error(%) | Test_error(%) | Precision(%) | Recall(%) | F1-Score(%) |\n",
      "+------+-------------+---------+----------------+---------------+--------------+-----------+-------------+\n",
      "| Grid |      L2     |   0.1   |      6.88      |     21.25     |    84.16     |   70.83   |    76.92    |\n",
      "+------+-------------+---------+----------------+---------------+--------------+-----------+-------------+\n"
     ]
    }
   ],
   "source": [
    "from prettytable import PrettyTable\n",
    "x = PrettyTable()\n",
    "\n",
    "\n",
    "reg2 = 'L2'\n",
    "cv = 'Grid'\n",
    "x.field_names = [\"CV\",\"Regularizer\",\"C_value\",\"Train_error(%)\",\"Test_error(%)\",\"Precision(%)\",\"Recall(%)\",\"F1-Score(%)\"]\n",
    "\n",
    "\n",
    "\n",
    "\n",
    "err2_train = np.around(100 - train_acc_bow2*100, decimals = 2)\n",
    "err2_test =  np.around(100 - test_acc_bow2*100, decimals = 2)\n",
    "pre2 = np.around(pre2, decimals = 2)\n",
    "rec2 = np.around(rec2, decimals = 2)\n",
    "f12 = np.around(f12, decimals = 2)\n",
    "\n",
    "\n",
    "x.add_row([cv,reg2,best_c,err2_train,err2_test,pre2,rec2,f12])\n",
    "\n",
    "print(x)"
   ]
  },
  {
   "cell_type": "markdown",
   "metadata": {},
   "source": [
    "### OBSERVATIONS:\n",
    "1. The TPR and TNR value is high as compared to FPR and FNR value.<br>\n",
    "2. The ROC value for test data is greater than 0.5 (i.e 0.85). Hence, our model is sensible and good for classification.\n",
    "3. The Precision, Recall and F_1 score is high. Hence, model is predicting more correct responses."
   ]
  },
  {
   "cell_type": "markdown",
   "metadata": {},
   "source": [
    "### <FONT COLOR=\"RED\"> PERTUBATION TEST"
   ]
  },
  {
   "cell_type": "code",
   "execution_count": 138,
   "metadata": {},
   "outputs": [],
   "source": [
    "pre_w = bow_model.coef_[0]\n",
    "pre_w += 10**-6\n",
    "\n",
    "X_train_bow = X_train_bow.toarray()\n",
    "X_train_bow = X_train_bow.astype(float)\n",
    "noise_data = X_train_bow\n",
    "noise_data +=0.01\n",
    "\n",
    "clf = LogisticRegression(C = best_c)\n",
    "clf.fit(noise_data,Y_train)\n",
    "\n",
    "new_w = clf.coef_[0]\n",
    "new_w +=10**-6\n",
    "\n",
    "\n"
   ]
  },
  {
   "cell_type": "code",
   "execution_count": 139,
   "metadata": {},
   "outputs": [],
   "source": [
    "#finding the change in percentage value \n",
    "def Weight_change(Pre_weights,New_weights):\n",
    "    per_cng=[]\n",
    "    for i in range(len(pre_w)):\n",
    "        per = a[i]*100/pre_w[i]\n",
    "        per_cng.append(per)\n",
    "    return per_cng\n",
    "    \n",
    "# to calculate percentage change for both weights\n",
    "a = new_w - pre_w  \n",
    "per_change = Weight_change(pre_w,new_w)"
   ]
  },
  {
   "cell_type": "code",
   "execution_count": 140,
   "metadata": {},
   "outputs": [
    {
     "name": "stdout",
     "output_type": "stream",
     "text": [
      "81.46074119210166\n"
     ]
    }
   ],
   "source": [
    "import math as m\n",
    "per_change = abs(np.array(per_change))\n",
    "print(np.median(per_change))"
   ]
  },
  {
   "cell_type": "code",
   "execution_count": 141,
   "metadata": {},
   "outputs": [
    {
     "name": "stdout",
     "output_type": "stream",
     "text": [
      "(1057,)\n"
     ]
    },
    {
     "data": {
      "text/html": [
       "<div>\n",
       "<style scoped>\n",
       "    .dataframe tbody tr th:only-of-type {\n",
       "        vertical-align: middle;\n",
       "    }\n",
       "\n",
       "    .dataframe tbody tr th {\n",
       "        vertical-align: top;\n",
       "    }\n",
       "\n",
       "    .dataframe thead th {\n",
       "        text-align: right;\n",
       "    }\n",
       "</style>\n",
       "<table border=\"1\" class=\"dataframe\">\n",
       "  <thead>\n",
       "    <tr style=\"text-align: right;\">\n",
       "      <th></th>\n",
       "      <th>weight</th>\n",
       "      <th>feature</th>\n",
       "    </tr>\n",
       "  </thead>\n",
       "  <tbody>\n",
       "    <tr>\n",
       "      <td>0</td>\n",
       "      <td>0.141337</td>\n",
       "      <td>absolutely</td>\n",
       "    </tr>\n",
       "    <tr>\n",
       "      <td>1</td>\n",
       "      <td>0.291793</td>\n",
       "      <td>actually</td>\n",
       "    </tr>\n",
       "    <tr>\n",
       "      <td>2</td>\n",
       "      <td>-0.168570</td>\n",
       "      <td>add</td>\n",
       "    </tr>\n",
       "    <tr>\n",
       "      <td>3</td>\n",
       "      <td>0.677204</td>\n",
       "      <td>added</td>\n",
       "    </tr>\n",
       "    <tr>\n",
       "      <td>4</td>\n",
       "      <td>0.456183</td>\n",
       "      <td>addicting</td>\n",
       "    </tr>\n",
       "  </tbody>\n",
       "</table>\n",
       "</div>"
      ],
      "text/plain": [
       "     weight     feature\n",
       "0  0.141337  absolutely\n",
       "1  0.291793    actually\n",
       "2 -0.168570         add\n",
       "3  0.677204       added\n",
       "4  0.456183   addicting"
      ]
     },
     "execution_count": 141,
     "metadata": {},
     "output_type": "execute_result"
    }
   ],
   "source": [
    "#extracting all features name obtained from tfidf count vectorizer.\n",
    "f = count_vec.get_feature_names()\n",
    "f = np.array(f)\n",
    "print(f.shape)\n",
    "\n",
    "#extracting coefficients from logistic regression model(i.e - The values of w and b)\n",
    "cof = bow_model.coef_[0]\n",
    "cof= np.array(cof)\n",
    "cof.shape\n",
    "cof = cof.T\n",
    "cof.shape\n",
    "\n",
    "##creating a dataframe for features and it's corresponding weight vector\n",
    "weight_vector = pd.DataFrame({'weight':cof,'feature':f})\n",
    "weight_vector.head()"
   ]
  },
  {
   "cell_type": "code",
   "execution_count": 142,
   "metadata": {},
   "outputs": [
    {
     "data": {
      "text/html": [
       "<div>\n",
       "<style scoped>\n",
       "    .dataframe tbody tr th:only-of-type {\n",
       "        vertical-align: middle;\n",
       "    }\n",
       "\n",
       "    .dataframe tbody tr th {\n",
       "        vertical-align: top;\n",
       "    }\n",
       "\n",
       "    .dataframe thead th {\n",
       "        text-align: right;\n",
       "    }\n",
       "</style>\n",
       "<table border=\"1\" class=\"dataframe\">\n",
       "  <thead>\n",
       "    <tr style=\"text-align: right;\">\n",
       "      <th></th>\n",
       "      <th>weight</th>\n",
       "      <th>feature</th>\n",
       "    </tr>\n",
       "  </thead>\n",
       "  <tbody>\n",
       "    <tr>\n",
       "      <td>0</td>\n",
       "      <td>0.141337</td>\n",
       "      <td>absolutely</td>\n",
       "    </tr>\n",
       "    <tr>\n",
       "      <td>1</td>\n",
       "      <td>0.291793</td>\n",
       "      <td>actually</td>\n",
       "    </tr>\n",
       "    <tr>\n",
       "      <td>2</td>\n",
       "      <td>-0.168570</td>\n",
       "      <td>add</td>\n",
       "    </tr>\n",
       "    <tr>\n",
       "      <td>3</td>\n",
       "      <td>0.677204</td>\n",
       "      <td>added</td>\n",
       "    </tr>\n",
       "    <tr>\n",
       "      <td>4</td>\n",
       "      <td>0.456183</td>\n",
       "      <td>addicting</td>\n",
       "    </tr>\n",
       "  </tbody>\n",
       "</table>\n",
       "</div>"
      ],
      "text/plain": [
       "     weight     feature\n",
       "0  0.141337  absolutely\n",
       "1  0.291793    actually\n",
       "2 -0.168570         add\n",
       "3  0.677204       added\n",
       "4  0.456183   addicting"
      ]
     },
     "execution_count": 142,
     "metadata": {},
     "output_type": "execute_result"
    }
   ],
   "source": [
    "##creating a dataframe for featutres and itd corresponding weight vector\n",
    "weight_vector = pd.DataFrame({'weight':cof,'feature':f})\n",
    "weight_vector.head()"
   ]
  },
  {
   "cell_type": "code",
   "execution_count": 143,
   "metadata": {},
   "outputs": [
    {
     "data": {
      "text/html": [
       "<div>\n",
       "<style scoped>\n",
       "    .dataframe tbody tr th:only-of-type {\n",
       "        vertical-align: middle;\n",
       "    }\n",
       "\n",
       "    .dataframe tbody tr th {\n",
       "        vertical-align: top;\n",
       "    }\n",
       "\n",
       "    .dataframe thead th {\n",
       "        text-align: right;\n",
       "    }\n",
       "</style>\n",
       "<table border=\"1\" class=\"dataframe\">\n",
       "  <thead>\n",
       "    <tr style=\"text-align: right;\">\n",
       "      <th></th>\n",
       "      <th>weight</th>\n",
       "      <th>feature</th>\n",
       "    </tr>\n",
       "  </thead>\n",
       "  <tbody>\n",
       "    <tr>\n",
       "      <td>415</td>\n",
       "      <td>2.549691</td>\n",
       "      <td>great</td>\n",
       "    </tr>\n",
       "    <tr>\n",
       "      <td>72</td>\n",
       "      <td>2.408562</td>\n",
       "      <td>best</td>\n",
       "    </tr>\n",
       "    <tr>\n",
       "      <td>552</td>\n",
       "      <td>2.040175</td>\n",
       "      <td>love</td>\n",
       "    </tr>\n",
       "    <tr>\n",
       "      <td>242</td>\n",
       "      <td>2.022407</td>\n",
       "      <td>delicious</td>\n",
       "    </tr>\n",
       "    <tr>\n",
       "      <td>49</td>\n",
       "      <td>1.936138</td>\n",
       "      <td>awesome</td>\n",
       "    </tr>\n",
       "  </tbody>\n",
       "</table>\n",
       "</div>"
      ],
      "text/plain": [
       "       weight    feature\n",
       "415  2.549691      great\n",
       "72   2.408562       best\n",
       "552  2.040175       love\n",
       "242  2.022407  delicious\n",
       "49   1.936138    awesome"
      ]
     },
     "execution_count": 143,
     "metadata": {},
     "output_type": "execute_result"
    }
   ],
   "source": [
    "# to get top 20 positive and negative features \n",
    "weight_vector = weight_vector.sort_values(\"weight\", axis = 0 ,ascending = False, kind = 'quicksort',na_position = 'last')\n",
    "weight_vector.head()"
   ]
  },
  {
   "cell_type": "code",
   "execution_count": 144,
   "metadata": {},
   "outputs": [
    {
     "name": "stdout",
     "output_type": "stream",
     "text": [
      "   weight    feature\n",
      " 2.549691      great\n",
      " 2.408562       best\n",
      " 2.040175       love\n",
      " 2.022407  delicious\n",
      " 1.936138    awesome\n",
      " 1.728895  excellent\n",
      " 1.665090   favorite\n",
      " 1.651734      yummy\n",
      " 1.574994    perfect\n",
      " 1.569039    amazing\n",
      " 1.461031      tasty\n",
      " 1.424858      loves\n",
      " 1.223532        yum\n",
      " 1.201088    without\n",
      " 1.173377       good\n",
      " 1.133819         go\n",
      " 1.129561  fantastic\n",
      " 1.100114       cats\n",
      " 1.032497      loved\n",
      " 1.020275        bay\n"
     ]
    }
   ],
   "source": [
    "# to get top 20 positive and negative features \n",
    "print(weight_vector.head(20).to_string(index=False))\n",
    "#weight_vector.iloc[0:10,0:2]"
   ]
  },
  {
   "cell_type": "code",
   "execution_count": 145,
   "metadata": {},
   "outputs": [
    {
     "name": "stdout",
     "output_type": "stream",
     "text": [
      "   weight         feature\n",
      "-0.822177           salty\n",
      "-0.846910         pricing\n",
      "-0.847060      aftertaste\n",
      "-0.854059           small\n",
      "-0.884774  disappointment\n",
      "-0.902467            less\n",
      "-0.923261      disgusting\n",
      "-0.943223          ruined\n",
      "-1.003356          beware\n",
      "-1.008053           gross\n",
      "-1.090389           stale\n",
      "-1.116475             way\n",
      "-1.147641           awful\n",
      "-1.178827   disappointing\n",
      "-1.260458        horrible\n",
      "-1.269182        terrible\n",
      "-1.374041           worst\n",
      "-1.403759            yuck\n",
      "-1.586415    disappointed\n",
      "-2.422380             not\n"
     ]
    }
   ],
   "source": [
    "# to get top 20 positive and negative features \n",
    "print(weight_vector.tail(20).to_string(index=False))\n",
    "#weight_vector.iloc[0:10,0:2]"
   ]
  },
  {
   "cell_type": "markdown",
   "metadata": {},
   "source": [
    "## CONCLUSION\n",
    "Using either text or summary as a feature for classification, the BOW and TFIDF are working well and giving approximately same result for performances metrices. So, any of the feature can bve used for classification."
   ]
  },
  {
   "cell_type": "code",
   "execution_count": null,
   "metadata": {},
   "outputs": [],
   "source": [
    "!jupyter nbconvert --to html Logistic_regression_assignment.ipynb"
   ]
  },
  {
   "cell_type": "code",
   "execution_count": null,
   "metadata": {},
   "outputs": [],
   "source": []
  }
 ],
 "metadata": {
  "colab": {
   "name": "05 Amazon Fine Food Reviews Analysis_Logistic Regression.ipynb",
   "provenance": [],
   "version": "0.3.2"
  },
  "kernelspec": {
   "display_name": "Python 3",
   "language": "python",
   "name": "python3"
  },
  "language_info": {
   "codemirror_mode": {
    "name": "ipython",
    "version": 3
   },
   "file_extension": ".py",
   "mimetype": "text/x-python",
   "name": "python",
   "nbconvert_exporter": "python",
   "pygments_lexer": "ipython3",
   "version": "3.6.5"
  }
 },
 "nbformat": 4,
 "nbformat_minor": 1
}
